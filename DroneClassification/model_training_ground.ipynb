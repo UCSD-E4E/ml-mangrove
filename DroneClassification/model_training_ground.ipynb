{
 "cells": [
  {
   "cell_type": "code",
   "execution_count": null,
   "metadata": {},
   "outputs": [],
   "source": [
    "import numpy as np\n",
    "import torch\n",
    "import os\n",
    "from torch.utils.data import DataLoader\n",
    "from models import *\n",
    "from training_utils import *\n",
    "import torchvision.transforms.v2 as v2\n",
    "from torchvision import tv_tensors\n"
   ]
  },
  {
   "cell_type": "code",
   "execution_count": null,
   "metadata": {},
   "outputs": [
    {
     "name": "stdout",
     "output_type": "stream",
     "text": [
      "Using Apple Metal Performance Shaders (MPS) device.\n",
      "\n",
      "Dataset shape: (1000, 3, 512, 512), (1000, 1, 512, 512)\n",
      "Dataset containing 900 images loaded.\n"
     ]
    }
   ],
   "source": [
    "# Constants for training\n",
    "DATA_SPLIT = 0.9\n",
    "INIT_LR = 0.0001\n",
    "NUM_EPOCHS = 2\n",
    "BATCH_SIZE = 16\n",
    "INPUT_IMAGE_SIZE = 512\n",
    "NUM_CLASSES = 1  # Binary segmentation\n",
    "THRESHOLD = 0.5\n",
    "LOSS = JaccardLoss()\n",
    "EXPERIMENT_NAME = \"Mangrove_Test\"\n",
    "DEVICE = setup_device()\n",
    "CLASSES = {0: 'non-mangrove', 1: 'mangrove'}\n",
    "\n",
    "# define the path to each directory\n",
    "BASE_DIR = \"/Users/gage/Desktop/Mangrove/Drone Data\"\n",
    "IMAGE_DIR = os.path.join(BASE_DIR, f\"{INPUT_IMAGE_SIZE}dataset_images.npy\")\n",
    "LABEL_DIR = os.path.join(BASE_DIR, f\"{INPUT_IMAGE_SIZE}dataset_labels.npy\")\n",
    "\n",
    "# Get the dataset\n",
    "images = np.load(IMAGE_DIR, 'r')\n",
    "labels = np.load(LABEL_DIR, 'r')f\n",
    "print(f\"Dataset shape: {images.shape}, {labels.shape}\")\n",
    "\n",
    "transforms = v2.Compose([\n",
    "    # Convert to tensor and normalize\n",
    "    v2.ToDtype({tv_tensors.Image: torch.float32, tv_tensors.Mask: torch.long}),\n",
    "    v2.Normalize(mean=[0.485, 0.456, 0.406], std=[0.229, 0.224, 0.225])\n",
    "])\n",
    "\n",
    "val_transforms = v2.Compose([\n",
    "    v2.ToDtype({tv_tensors.Image: torch.float32, tv_tensors.Mask: torch.long}),\n",
    "    v2.Normalize(mean=(0.485,0.456,0.406), std=(0.229,0.224,0.225))\n",
    "])\n",
    "\n",
    "# Build the dataset and split it into training and test sets\n",
    "dataset = SegmentationDataset(images, labels, transforms)\n",
    "trainDS, testDS = dataset.split(DATA_SPLIT, val_transforms)\n",
    "del dataset\n",
    "\n",
    "# create data loaders\n",
    "trainLoader = DataLoader(trainDS, shuffle=True, batch_size=BATCH_SIZE)\n",
    "testLoader = DataLoader(testDS, shuffle=False, batch_size=BATCH_SIZE)\n",
    "\n",
    "print(f\"Dataset containing {len(trainDS)} images loaded.\")\n",
    "\n",
    "del trainDS, testDS"
   ]
  },
  {
   "cell_type": "code",
   "execution_count": null,
   "metadata": {},
   "outputs": [],
   "source": [
    "# Find dataset distrubution for weighting the loss function\n",
    "class_weights = calculate_class_weights(LABEL_DIR, CLASSES).to(DEVICE)\n",
    "LOSS = JaccardLoss(num_classes=NUM_CLASSES, weight=class_weights)"
   ]
  },
  {
   "cell_type": "code",
   "execution_count": null,
   "metadata": {},
   "outputs": [],
   "source": [
    "model = ResNet_UNet(input_image_size=INPUT_IMAGE_SIZE, num_classes=NUM_CLASSES).to(DEVICE)\n",
    "Machine = TrainingSession(model, trainLoader, testLoader, LOSS, init_lr=INIT_LR, num_epochs=NUM_EPOCHS, device=DEVICE, experiment_name=EXPERIMENT_NAME)\n",
    "Machine.learn()"
   ]
  }
 ],
 "metadata": {
  "kernelspec": {
   "display_name": "mangrove",
   "language": "python",
   "name": "python3"
  },
  "language_info": {
   "codemirror_mode": {
    "name": "ipython",
    "version": 3
   },
   "file_extension": ".py",
   "mimetype": "text/x-python",
   "name": "python",
   "nbconvert_exporter": "python",
   "pygments_lexer": "ipython3",
   "version": "3.11.14"
  }
 },
 "nbformat": 4,
 "nbformat_minor": 2
}
