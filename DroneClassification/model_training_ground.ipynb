{
 "cells": [
  {
   "cell_type": "code",
   "execution_count": 4,
   "metadata": {},
   "outputs": [],
   "source": [
    "import numpy as np\n",
    "import torch\n",
    "from torch.utils.data import DataLoader\n",
    "from data import MemmapDataset\n",
    "from models import *\n",
    "from training_utils import TrainingSession, plot_loss_comparison, plot_comparison_metrics"
   ]
  },
  {
   "cell_type": "code",
   "execution_count": null,
   "metadata": {},
   "outputs": [],
   "source": [
    "# Constants for training\n",
    "DATA_SPLIT = 0.9\n",
    "INIT_LR = 0.005\n",
    "NUM_EPOCHS = 10\n",
    "BATCH_SIZE = 32\n",
    "INPUT_IMAGE_SIZE = 224\n",
    "THRESHOLD = 0.5\n",
    "LOSS = JaccardLoss()\n",
    "\n",
    "# define the path to each directory\n",
    "BASE_DIR = \"A:\\\\Desktop\\\\Drone_Datasets\\\\Original\"\n",
    "IMAGE_DIR = BASE_DIR + \"\\\\dataset_images.npy\"\n",
    "LABEL_DIR = BASE_DIR + \"\\\\dataset_labels.npy\"\n",
    "\n",
    "# Build the dataset and split it into training and test sets\n",
    "dataset = MemmapDataset(np.load(IMAGE_DIR, 'r'), np.load(LABEL_DIR, 'r'))\n",
    "trainDS, testDS = dataset.split(DATA_SPLIT)\n",
    "\n",
    "\n",
    "# create data loaders\n",
    "trainLoader = DataLoader(trainDS, shuffle=True, batch_size=BATCH_SIZE)\n",
    "testLoader = DataLoader(testDS, shuffle=False, batch_size=BATCH_SIZE)\n",
    "\n",
    "print(f\"Dataset containing {len(dataset)} images loaded.\")\n",
    "del trainDS, testDS, dataset\n"
   ]
  },
  {
   "cell_type": "code",
   "execution_count": null,
   "metadata": {},
   "outputs": [],
   "source": [
    "model = ResNet_UNet(input_image_size=INPUT_IMAGE_SIZE)\n",
    "Machine = TrainingSession(model, trainLoader, testLoader, LOSS, init_lr=INIT_LR, num_epochs=NUM_EPOCHS)\n",
    "Machine.learn()"
   ]
  },
  {
   "cell_type": "code",
   "execution_count": null,
   "metadata": {},
   "outputs": [],
   "source": [
    "Machine.plot_loss()"
   ]
  },
  {
   "cell_type": "code",
   "execution_count": null,
   "metadata": {},
   "outputs": [],
   "source": [
    "print(\"Available Metrics:\", Machine.get_available_metrics())\n",
    "Machine.plot_metrics(\"Metrics\")"
   ]
  },
  {
   "cell_type": "code",
   "execution_count": null,
   "metadata": {},
   "outputs": [],
   "source": [
    "torch.save(Machine.model.state_dict(), \"resnet_unet.pth\")"
   ]
  }
 ],
 "metadata": {
  "kernelspec": {
   "display_name": "ml",
   "language": "python",
   "name": "python3"
  },
  "language_info": {
   "codemirror_mode": {
    "name": "ipython",
    "version": 3
   },
   "file_extension": ".py",
   "mimetype": "text/x-python",
   "name": "python",
   "nbconvert_exporter": "python",
   "pygments_lexer": "ipython3",
   "version": "3.11.13"
  }
 },
 "nbformat": 4,
 "nbformat_minor": 2
}
