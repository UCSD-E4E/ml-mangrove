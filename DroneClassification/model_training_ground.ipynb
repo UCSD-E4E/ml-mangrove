{
 "cells": [
  {
   "cell_type": "code",
   "execution_count": 10,
   "metadata": {},
   "outputs": [],
   "source": [
    "import numpy as np\n",
    "import torch\n",
    "import os\n",
    "from torch.utils.data import DataLoader\n",
    "from models import *\n",
    "from training_utils import *\n",
    "import torchvision.transforms.v2 as v2\n",
    "from torchvision import tv_tensors\n"
   ]
  },
  {
   "cell_type": "code",
   "execution_count": 11,
   "metadata": {},
   "outputs": [
    {
     "name": "stdout",
     "output_type": "stream",
     "text": [
      "Using CUDA device.\n",
      "Dataset containing 220271 images loaded.\n"
     ]
    }
   ],
   "source": [
    "# Constants for training\n",
    "DATA_SPLIT = 0.9\n",
    "INIT_LR = 0.0005\n",
    "NUM_EPOCHS = 20\n",
    "BATCH_SIZE = 16\n",
    "INPUT_IMAGE_SIZE = 512\n",
    "NUM_CLASSES = 1  # Binary segmentation\n",
    "THRESHOLD = 0.5\n",
    "LOSS = CEJaccardLoss()\n",
    "EXPERIMENT_NAME = \"Mangrove_NoAugs_weightedLoss\"\n",
    "DEVICE = setup_device()\n",
    "\n",
    "# define the path to each directory\n",
    "BASE_DIR = \"A:\\\\Drone_Data\\\\original_data\"\n",
    "IMAGE_DIR = os.path.join(BASE_DIR, f\"{INPUT_IMAGE_SIZE}dataset_images.npy\")\n",
    "LABEL_DIR = os.path.join(BASE_DIR, f\"{INPUT_IMAGE_SIZE}dataset_labels.npy\")\n",
    "\n",
    "transforms = v2.Compose([\n",
    "    # Convert to tensor and normalize\n",
    "    v2.ToDtype({tv_tensors.Image: torch.float32, tv_tensors.Mask: torch.long}),\n",
    "    v2.Normalize(mean=[0.485, 0.456, 0.406], std=[0.229, 0.224, 0.225])\n",
    "])\n",
    "\n",
    "val_transforms = v2.Compose([\n",
    "    v2.ToDtype({tv_tensors.Image: torch.float32, tv_tensors.Mask: torch.long}),\n",
    "    v2.Normalize(mean=(0.485,0.456,0.406), std=(0.229,0.224,0.225))\n",
    "])\n",
    "\n",
    "\n",
    "# Build the dataset and split it into training and test sets\n",
    "dataset = SegmentationDataset(np.load(IMAGE_DIR, 'r'), np.load(LABEL_DIR, 'r'), transforms)\n",
    "trainDS, testDS = dataset.split(DATA_SPLIT, val_transforms)\n",
    "del dataset\n",
    "\n",
    "\n",
    "# create data loaders\n",
    "trainLoader = DataLoader(trainDS, shuffle=True, batch_size=BATCH_SIZE)\n",
    "testLoader = DataLoader(testDS, shuffle=False, batch_size=BATCH_SIZE)\n",
    "\n",
    "print(f\"Dataset containing {len(trainDS)} images loaded.\")\n",
    "del trainDS, testDS\n"
   ]
  },
  {
   "cell_type": "code",
   "execution_count": null,
   "metadata": {},
   "outputs": [
    {
     "name": "stdout",
     "output_type": "stream",
     "text": [
      "Labels shape: (244746, 1, 512, 512), dtype: uint8\n"
     ]
    },
    {
     "name": "stderr",
     "output_type": "stream",
     "text": [
      "Counting classes: 100%|██████████| 25/25 [03:20<00:00,  8.02s/it]\n"
     ]
    },
    {
     "name": "stdout",
     "output_type": "stream",
     "text": [
      "\n",
      "Class distribution:\n",
      "  non-mangrove   : 21,817,867,448 pixels ( 43.1%)\n",
      "  mangrove       : 28,838,449,312 pixels ( 56.9%)\n",
      "\n",
      "Normalized class weights:\n",
      "  non-mangrove   : 1.2720\n",
      "  mangrove       : 0.7280\n",
      "Class weights: tensor([1.2720, 0.7280])\n"
     ]
    }
   ],
   "source": [
    "# Find dataset distrubution for weighting the loss function\n",
    "class_weights = calculate_class_weights(LABEL_DIR, {0: 'non-mangrove', 255: 'mangrove'}).to(DEVICE)\n",
    "LOSS = CEJaccardLoss(weight=class_weights)"
   ]
  },
  {
   "cell_type": "code",
   "execution_count": null,
   "metadata": {},
   "outputs": [],
   "source": [
    "model = SegFormer(num_classes=NUM_CLASSES, input_image_size=INPUT_IMAGE_SIZE)\n",
    "Machine = TrainingSession(model, trainLoader, testLoader, LOSS, init_lr=INIT_LR, num_epochs=NUM_EPOCHS, device=DEVICE, experiment_name=EXPERIMENT_NAME)\n",
    "Machine.learn()"
   ]
  },
  {
   "cell_type": "code",
   "execution_count": null,
   "metadata": {},
   "outputs": [
    {
     "name": "stderr",
     "output_type": "stream",
     "text": [
      "2025-10-13 13:43:32,347 - INFO - Starting training: 10 epochs\n",
      "2025-10-13 13:43:32,348 - INFO - Model parameters: 33,248,321\n",
      "Epoch 1/10:  92%|█████████▏| 12630/13767 [4:25:32<26:12,  1.38s/it, loss=0.3440, lr=0.000100]  "
     ]
    }
   ],
   "source": [
    "Machine_two = TrainingSession(Machine.model, trainLoader, testLoader, LOSS, init_lr=INIT_LR/5, num_epochs=NUM_EPOCHS//2, device=DEVICE, experiment_name=EXPERIMENT_NAME+\"_fineTuned\")\n",
    "Machine_two.model.train_backbone()\n",
    "Machine_two.learn()"
   ]
  },
  {
   "cell_type": "code",
   "execution_count": null,
   "metadata": {},
   "outputs": [],
   "source": [
    "Machine.plot_loss()"
   ]
  },
  {
   "cell_type": "code",
   "execution_count": null,
   "metadata": {},
   "outputs": [],
   "source": [
    "print(\"Available Metrics:\", Machine.get_available_metrics())\n",
    "Machine.plot_metrics(\"Metrics\")"
   ]
  },
  {
   "cell_type": "code",
   "execution_count": null,
   "metadata": {},
   "outputs": [],
   "source": [
    "torch.save(Machine.model.state_dict(), \"resnet_unet.pth\")"
   ]
  }
 ],
 "metadata": {
  "kernelspec": {
   "display_name": "machine",
   "language": "python",
   "name": "python3"
  },
  "language_info": {
   "codemirror_mode": {
    "name": "ipython",
    "version": 3
   },
   "file_extension": ".py",
   "mimetype": "text/x-python",
   "name": "python",
   "nbconvert_exporter": "python",
   "pygments_lexer": "ipython3",
   "version": "3.13.5"
  }
 },
 "nbformat": 4,
 "nbformat_minor": 2
}
