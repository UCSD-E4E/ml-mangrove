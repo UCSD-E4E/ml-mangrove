{
 "cells": [
  {
   "cell_type": "code",
   "execution_count": null,
   "id": "d4cedf4c",
   "metadata": {},
   "outputs": [],
   "source": [
    "from MemoryMapDataset import MemmapDataset\n",
    "import numpy as np\n",
    "import os"
   ]
  },
  {
   "cell_type": "markdown",
   "id": "6ad60195",
   "metadata": {},
   "source": [
    "This notebook shows how to manipulate datasets. The MemmapDataset supports concatenation, shuffling, splitting and saving as separate train and validation sets"
   ]
  },
  {
   "cell_type": "markdown",
   "id": "7f9d57c1",
   "metadata": {},
   "source": [
    "## Concatenate Datasets"
   ]
  },
  {
   "cell_type": "code",
   "execution_count": 2,
   "id": "a0df3932",
   "metadata": {},
   "outputs": [
    {
     "name": "stdout",
     "output_type": "stream",
     "text": [
      "\n",
      "Concatenating to A:\\Drone_Datasets\\training_data\\temp1\\images.npy...\n",
      "Array 1: (525, 3, 224, 224), Array 2: (1527, 3, 224, 224)\n"
     ]
    },
    {
     "name": "stderr",
     "output_type": "stream",
     "text": [
      "Copying Array 1:   0%|          | 0/1 [00:00<?, ?it/s]"
     ]
    },
    {
     "name": "stderr",
     "output_type": "stream",
     "text": [
      "Copying Array 1: 100%|██████████| 1/1 [00:00<00:00,  1.48it/s]\n",
      "Copying Array 2: 100%|██████████| 2/2 [00:01<00:00,  1.01it/s]\n"
     ]
    },
    {
     "name": "stdout",
     "output_type": "stream",
     "text": [
      "Resulting output array shape: (2052, 3, 224, 224), dtype: uint8\n",
      "\n",
      "Concatenating to A:\\Drone_Datasets\\training_data\\temp1\\labels.npy...\n",
      "Array 1: (525, 1, 224, 224), Array 2: (1527, 1, 224, 224)\n"
     ]
    },
    {
     "name": "stderr",
     "output_type": "stream",
     "text": [
      "Copying Array 1: 100%|██████████| 1/1 [00:00<00:00,  9.21it/s]\n",
      "Copying Array 2: 100%|██████████| 2/2 [00:00<00:00,  5.77it/s]\n"
     ]
    },
    {
     "name": "stdout",
     "output_type": "stream",
     "text": [
      "Resulting output array shape: (2052, 1, 224, 224), dtype: uint8\n",
      "\n",
      "Concatenating to A:\\Drone_Datasets\\training_data\\temp2\\images.npy...\n",
      "Array 1: (60085, 3, 224, 224), Array 2: (2052, 3, 224, 224)\n"
     ]
    },
    {
     "name": "stderr",
     "output_type": "stream",
     "text": [
      "Copying Array 1: 100%|██████████| 59/59 [01:24<00:00,  1.43s/it]\n",
      "Copying Array 2: 100%|██████████| 3/3 [00:03<00:00,  1.03s/it]\n"
     ]
    },
    {
     "name": "stdout",
     "output_type": "stream",
     "text": [
      "Resulting output array shape: (62137, 3, 224, 224), dtype: uint8\n",
      "\n",
      "Concatenating to A:\\Drone_Datasets\\training_data\\temp2\\labels.npy...\n",
      "Array 1: (60085, 1, 224, 224), Array 2: (2052, 1, 224, 224)\n"
     ]
    },
    {
     "name": "stderr",
     "output_type": "stream",
     "text": [
      "Copying Array 1: 100%|██████████| 59/59 [00:12<00:00,  4.75it/s]\n",
      "Copying Array 2: 100%|██████████| 3/3 [00:00<00:00,  5.94it/s]\n"
     ]
    },
    {
     "name": "stdout",
     "output_type": "stream",
     "text": [
      "Resulting output array shape: (62137, 1, 224, 224), dtype: uint8\n",
      "\n",
      "Concatenating to A:\\Drone_Datasets\\training_data\\downsampled_train\\images.npy...\n",
      "Array 1: (173924, 3, 224, 224), Array 2: (62137, 3, 224, 224)\n"
     ]
    },
    {
     "name": "stderr",
     "output_type": "stream",
     "text": [
      "Copying Array 1: 100%|██████████| 170/170 [04:15<00:00,  1.50s/it]\n",
      "Copying Array 2: 100%|██████████| 61/61 [01:27<00:00,  1.44s/it]\n"
     ]
    },
    {
     "name": "stdout",
     "output_type": "stream",
     "text": [
      "Resulting output array shape: (236061, 3, 224, 224), dtype: uint8\n",
      "\n",
      "Concatenating to A:\\Drone_Datasets\\training_data\\downsampled_train\\labels.npy...\n",
      "Array 1: (173924, 1, 224, 224), Array 2: (62137, 1, 224, 224)\n"
     ]
    },
    {
     "name": "stderr",
     "output_type": "stream",
     "text": [
      "Copying Array 1: 100%|██████████| 170/170 [00:35<00:00,  4.73it/s]\n",
      "Copying Array 2: 100%|██████████| 61/61 [00:15<00:00,  4.00it/s]\n"
     ]
    },
    {
     "name": "stdout",
     "output_type": "stream",
     "text": [
      "Resulting output array shape: (236061, 1, 224, 224), dtype: uint8\n"
     ]
    }
   ],
   "source": [
    "# Concatenate Datasets\n",
    "\n",
    "parent_dir = \"A:\\\\Drone_Datasets\\\\training_data\"\n",
    "\n",
    "one_meter_path = os.path.join(parent_dir, \"1m_train\")\n",
    "half_meter_path = os.path.join(parent_dir, \"0_5m_train\")\n",
    "onetenth_meter_path = os.path.join(parent_dir, \"0_1m_train\")\n",
    "zerosix_meter_path = os.path.join(parent_dir, \"0_06m_train\")\n",
    "original_path = os.path.join(parent_dir, \"original_train\")\n",
    "concatenated_path = os.path.join(parent_dir, \"multiresolution_train\")\n",
    "\n",
    "one_meter_dataset = MemmapDataset(np.load(os.path.join(one_meter_path, \"images.npy\"), mmap_mode='r'),\n",
    "                                  np.load(os.path.join(one_meter_path, \"labels.npy\"), mmap_mode='r'))\n",
    "half_meter_dataset = MemmapDataset(np.load(os.path.join(half_meter_path, \"images.npy\"), mmap_mode='r'),\n",
    "                                   np.load(os.path.join(half_meter_path, \"labels.npy\"), mmap_mode='r'))\n",
    "onetenth_meter_dataset = MemmapDataset(np.load(os.path.join(onetenth_meter_path, \"images.npy\"), mmap_mode='r'),\n",
    "                                       np.load(os.path.join(onetenth_meter_path, \"labels.npy\"), mmap_mode='r'))\n",
    "zerosix_meter_dataset = MemmapDataset(np.load(os.path.join(zerosix_meter_path, \"images.npy\"), mmap_mode='r'),\n",
    "                                      np.load(os.path.join(zerosix_meter_path, \"labels.npy\"), mmap_mode='r'))\n",
    "original_dataset = MemmapDataset(np.load(os.path.join(original_path, \"images.npy\"), mmap_mode='r'),\n",
    "                                  np.load(os.path.join(original_path, \"labels.npy\"), mmap_mode='r'))\n",
    "\n",
    "temp_dataset1 = one_meter_dataset.concat(half_meter_dataset, os.path.join(parent_dir, \"temp1\"))\n",
    "del one_meter_dataset, half_meter_dataset\n",
    "temp_dataset2 = onetenth_meter_dataset.concat(temp_dataset1, os.path.join(parent_dir, \"temp2\"))\n",
    "del onetenth_meter_dataset, temp_dataset1\n",
    "temp_dataset3 = zerosix_meter_dataset.concat(temp_dataset2, os.path.join(parent_dir, \"downsampled_train\"))\n",
    "del zerosix_meter_dataset, temp_dataset2\n"
   ]
  },
  {
   "cell_type": "code",
   "execution_count": 3,
   "id": "0acc6e06",
   "metadata": {},
   "outputs": [
    {
     "name": "stdout",
     "output_type": "stream",
     "text": [
      "\n",
      "Concatenating to A:\\Drone_Datasets\\training_data\\multiresolution_train\\images.npy...\n",
      "Array 1: (612071, 3, 224, 224), Array 2: (236061, 3, 224, 224)\n"
     ]
    },
    {
     "name": "stderr",
     "output_type": "stream",
     "text": [
      "Copying Array 1: 100%|██████████| 598/598 [15:02<00:00,  1.51s/it]\n",
      "Copying Array 2: 100%|██████████| 231/231 [05:44<00:00,  1.49s/it]\n"
     ]
    },
    {
     "name": "stdout",
     "output_type": "stream",
     "text": [
      "Resulting output array shape: (848132, 3, 224, 224), dtype: uint8\n",
      "\n",
      "Concatenating to A:\\Drone_Datasets\\training_data\\multiresolution_train\\labels.npy...\n",
      "Array 1: (612071, 1, 224, 224), Array 2: (236061, 1, 224, 224)\n"
     ]
    },
    {
     "name": "stderr",
     "output_type": "stream",
     "text": [
      "Copying Array 1: 100%|██████████| 598/598 [02:31<00:00,  3.94it/s]\n",
      "Copying Array 2: 100%|██████████| 231/231 [01:11<00:00,  3.23it/s]\n"
     ]
    },
    {
     "name": "stdout",
     "output_type": "stream",
     "text": [
      "Resulting output array shape: (848132, 1, 224, 224), dtype: uint8\n"
     ]
    }
   ],
   "source": [
    "final_dataset = original_dataset.concat(temp_dataset3, concatenated_path)\n",
    "del original_dataset, temp_dataset3"
   ]
  }
 ],
 "metadata": {
  "kernelspec": {
   "display_name": "machine",
   "language": "python",
   "name": "python3"
  },
  "language_info": {
   "codemirror_mode": {
    "name": "ipython",
    "version": 3
   },
   "file_extension": ".py",
   "mimetype": "text/x-python",
   "name": "python",
   "nbconvert_exporter": "python",
   "pygments_lexer": "ipython3",
   "version": "3.13.5"
  }
 },
 "nbformat": 4,
 "nbformat_minor": 5
}
