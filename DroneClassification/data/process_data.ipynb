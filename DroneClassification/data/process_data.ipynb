{
 "cells": [
  {
   "cell_type": "code",
   "execution_count": 1,
   "metadata": {},
   "outputs": [],
   "source": [
    "from utils import tile_dataset, rasterize_shapefiles, resample\n",
    "from MemoryMapDataset import MemmapDataset\n",
    "import numpy as np\n",
    "import os"
   ]
  },
  {
   "cell_type": "markdown",
   "metadata": {},
   "source": [
    "### This notebook shows how to process raw tiff files and their labels into a dataset.\n",
    "\n",
    "The processing pipeline assumes that the data in the Path folder is in the following format:\n",
    "- Each chunk is in it's own folder and named 'Chunk x' or 'Chunk x x-x'\n",
    "- The RGB tif should be named 'Chunkx.tif' or 'Chunkx_x-x.tif'\n",
    "- label shape file and corresponding label files should be in a folder called 'labels' inside of the matching 'Chunk x' / 'Chunk x x-x' folder, the names of the files do not need to be formatted."
   ]
  },
  {
   "cell_type": "code",
   "execution_count": 2,
   "metadata": {},
   "outputs": [],
   "source": [
    "# Setup\n",
    "TILE_SIZE = 512\n",
    "BASE_PATH = \"/Users/gage/Desktop/Mangrove\"\n",
    "DATA_PATH = os.path.join(BASE_PATH, \"Drone Data\")\n",
    "COMBINED_IMAGES_FILE = os.path.join(DATA_PATH, f'{TILE_SIZE}dataset_images.npy')\n",
    "COMBINED_LABELS_FILE = os.path.join(DATA_PATH, f'{TILE_SIZE}dataset_labels.npy')"
   ]
  },
  {
   "cell_type": "code",
   "execution_count": null,
   "metadata": {},
   "outputs": [],
   "source": [
    "# If desired, resample the TIFF files to a lower resolution\n",
    "resample_tiffs = False  # Set to True if you want to resample TIFF files\n",
    "target_resolution = 0.06  # in meters\n",
    "resample_output_path = os.path.join(BASE_PATH, str(target_resolution).replace('.', '_') + \"m\")\n",
    "\n",
    "if resample_tiffs:\n",
    "    if os.path.exists(resample_output_path):\n",
    "        print(\"Resampled data already exists at\", resample_output_path,\". Setting PATH to resampled directory.\")\n",
    "    else:\n",
    "        resample(DATA_PATH, resample_output_path, target_resolution)\n",
    "    \n",
    "    DATA_PATH = resample_output_path  # Update PATH to the resampled directory\n",
    "    COMBINED_IMAGES_FILE = os.path.join(DATA_PATH, f'{TILE_SIZE}dataset_images.npy')\n",
    "    COMBINED_LABELS_FILE = os.path.join(DATA_PATH, f'{TILE_SIZE}dataset_labels.npy')"
   ]
  },
  {
   "cell_type": "code",
   "execution_count": null,
   "metadata": {},
   "outputs": [],
   "source": [
    "# Convert all label shape files to tif\n",
    "rasterize_shapefiles(DATA_PATH)"
   ]
  },
  {
   "cell_type": "code",
   "execution_count": null,
   "metadata": {},
   "outputs": [
    {
     "name": "stdout",
     "output_type": "stream",
     "text": [
      "Processing 88 chunk directories\n",
      "\n",
      "[1/88] Processing chunk: Chunk 4 2-0...\n",
      "No label TIFF files found in /Users/gage/Desktop/Mangrove/Drone Data/Chunk 4 2-0/labels. Skipping...\n",
      "\n",
      "[2/88] Processing chunk: Chunk 7 0-2...\n",
      "Number of valid pairs: 209\n",
      "Saving temp files...\n",
      "\n",
      "[3/88] Processing chunk: Chunk 7 2-1...\n",
      "Number of valid pairs: 700\n",
      "Saving temp files...\n",
      "\n",
      "[4/88] Processing chunk: Chunk 6 2-1...\n",
      "Number of valid pairs: 169\n",
      "Saving temp files...\n",
      "\n",
      "[5/88] Processing chunk: Chunk 10...\n",
      "Number of valid pairs: 1036\n",
      "Saving temp files...\n",
      "\n",
      "[6/88] Processing chunk: Chunk 17...\n",
      "Number of valid pairs: 2093\n",
      "Saving temp files...\n",
      "\n",
      "[7/88] Processing chunk: Chunk 6 0-2...\n",
      "Number of valid pairs: 526\n",
      "Saving temp files...\n",
      "\n",
      "[8/88] Processing chunk: Chunk 21...\n",
      "Number of valid pairs: 2522\n",
      "Saving temp files...\n",
      "\n",
      "[9/88] Processing chunk: Chunk 19...\n",
      "Number of valid pairs: 2183\n",
      "Saving temp files...\n",
      "\n",
      "[10/88] Processing chunk: Chunk 4 0-2...\n",
      "Number of valid pairs: 42\n",
      "Saving temp files...\n",
      "\n",
      "[11/88] Processing chunk: Chunk 4 2-1...\n",
      "Number of valid pairs: 874\n",
      "Saving temp files...\n",
      "\n",
      "[12/88] Processing chunk: Chunk 18...\n",
      "Number of valid pairs: 1340\n",
      "Saving temp files...\n",
      "\n",
      "[13/88] Processing chunk: Chunk 16...\n",
      "Number of valid pairs: 2193\n",
      "Saving temp files...\n",
      "\n",
      "[14/88] Processing chunk: Chunk 6 2-0...\n",
      "Number of valid pairs: 558\n",
      "Saving temp files...\n",
      "\n",
      "[15/88] Processing chunk: Chunk 11...\n",
      "Number of valid pairs: 5522\n",
      "Saving temp files...\n",
      "\n",
      "[16/88] Processing chunk: Chunk 1 0-2...\n",
      "Number of valid pairs: 310\n",
      "Saving temp files...\n",
      "\n",
      "[17/88] Processing chunk: Chunk 8 1-2...\n",
      "Number of valid pairs: 339\n",
      "Saving temp files...\n",
      "\n",
      "[18/88] Processing chunk: Chunk 1 2-1...\n",
      "Number of valid pairs: 362\n",
      "Saving temp files...\n",
      "\n",
      "[19/88] Processing chunk: Chunk 2 4-2...\n",
      "Number of valid pairs: 66\n",
      "Saving temp files...\n",
      "\n",
      "[20/88] Processing chunk: Chunk 3 2-0...\n",
      "Number of valid pairs: 744\n",
      "Saving temp files...\n",
      "\n",
      "[21/88] Processing chunk: Chunk 1 2-0...\n",
      "Number of valid pairs: 208\n",
      "Saving temp files...\n",
      "\n",
      "[22/88] Processing chunk: Chunk 2 0-2...\n",
      "Number of valid pairs: 195\n",
      "Saving temp files...\n",
      "\n",
      "[23/88] Processing chunk: Chunk 2 2-1...\n",
      "Number of valid pairs: 487\n",
      "Saving temp files...\n",
      "\n",
      "[24/88] Processing chunk: Chunk 3 2-1...\n",
      "Number of valid pairs: 1034\n",
      "Saving temp files...\n",
      "\n",
      "[25/88] Processing chunk: Chunk 2 4-3...\n",
      "No valid tile pairs found at /Users/gage/Desktop/Mangrove/Drone Data/Chunk 2 4-3\n",
      "\n",
      "[26/88] Processing chunk: Chunk 6 1-1...\n",
      "Number of valid pairs: 568\n",
      "Saving temp files...\n",
      "\n",
      "[27/88] Processing chunk: Chunk 4 1-0...\n",
      "Number of valid pairs: 340\n",
      "Saving temp files...\n",
      "\n",
      "[28/88] Processing chunk: Chunk 7 3-2...\n",
      "Number of valid pairs: 128\n",
      "Saving temp files...\n",
      "\n",
      "[29/88] Processing chunk: Chunk 7 1-1...\n",
      "Number of valid pairs: 324\n",
      "Saving temp files...\n",
      "\n",
      "[30/88] Processing chunk: Chunk 6 1-0...\n",
      "Number of valid pairs: 853\n",
      "Saving temp files...\n",
      "\n",
      "[31/88] Processing chunk: Chunk 9...\n",
      "Number of valid pairs: 3147\n",
      "Saving temp files...\n",
      "\n",
      "[32/88] Processing chunk: Chunk 4 1-1...\n",
      "Number of valid pairs: 817\n",
      "Saving temp files...\n",
      "\n",
      "[33/88] Processing chunk: Chunk 12 0-7...\n"
     ]
    }
   ],
   "source": [
    "# Convert all tif pairs into tiled datasets\n",
    "\n",
    "\"\"\"\n",
    "NOTE: This will take a lot of time, memory, and storage space.\n",
    "You should have at least 16GB of RAM and triple the chunk folder size of storage.\n",
    "\"\"\"\n",
    "\n",
    "tile_dataset(DATA_PATH, COMBINED_IMAGES_FILE, COMBINED_LABELS_FILE, image_size=TILE_SIZE, filter_monolithic_labels=0.9)"
   ]
  },
  {
   "cell_type": "code",
   "execution_count": null,
   "metadata": {},
   "outputs": [
    {
     "name": "stdout",
     "output_type": "stream",
     "text": [
      "Dataset length: 244746\n",
      "Dataset image shape: (3, 512, 512)\n",
      "Dataset label shape: (1, 512, 512)\n"
     ]
    }
   ],
   "source": [
    "import torch\n",
    "import torchvision.transforms.v2 as v2\n",
    "\n",
    "# Example dataset\n",
    "images = np.load(COMBINED_IMAGES_FILE, mmap_mode='r+')\n",
    "labels = np.load(COMBINED_LABELS_FILE, mmap_mode='r+')\n",
    "\n",
    "dataset = MemmapDataset(images, labels, transforms=v2.Compose([v2.ToImage(), v2.ToDtype(torch.float32, scale=True)]))\n",
    "print(f\"Dataset length: {len(dataset)}\")\n",
    "print(f\"Dataset image shape: {dataset.images[0].shape}\")\n",
    "print(f\"Dataset label shape: {dataset.labels[0].shape}\")"
   ]
  },
  {
   "cell_type": "code",
   "execution_count": 4,
   "metadata": {},
   "outputs": [
    {
     "name": "stdout",
     "output_type": "stream",
     "text": [
      "Percent Shuffled: 100.00%\r"
     ]
    }
   ],
   "source": [
    "dataset.shuffle()"
   ]
  }
 ],
 "metadata": {
  "kernelspec": {
   "display_name": "mangrove",
   "language": "python",
   "name": "python3"
  },
  "language_info": {
   "codemirror_mode": {
    "name": "ipython",
    "version": 3
   },
   "file_extension": ".py",
   "mimetype": "text/x-python",
   "name": "python",
   "nbconvert_exporter": "python",
   "pygments_lexer": "ipython3",
   "version": "3.11.14"
  },
  "orig_nbformat": 4
 },
 "nbformat": 4,
 "nbformat_minor": 2
}
