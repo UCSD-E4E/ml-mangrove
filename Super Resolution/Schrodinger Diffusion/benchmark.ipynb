{
 "cells": [
  {
   "cell_type": "code",
   "execution_count": null,
   "id": "2307fd77",
   "metadata": {},
   "outputs": [],
   "source": [
    "import numpy as np\n",
    "import matplotlib.pyplot as plt\n",
    "import torch\n",
    "import gc\n",
    "import os\n",
    "from torch.utils.data import DataLoader, random_split\n",
    "import torch.nn as nn\n",
    "from torch.optim import Adam\n",
    "from tqdm import tqdm\n",
    "from models import *\n",
    "from typing import List\n",
    "from data import SuperResolutionDataset\n",
    "import torch.nn.functional as F\n",
    "from i2sb.runner import Runner"
   ]
  },
  {
   "cell_type": "markdown",
   "id": "8f161d26",
   "metadata": {},
   "source": [
    "Our Diffusion Layer is trained on a NAIP aerial imagery, which is 1m/pixel resolution imagery taken all over the US. It learns to map LR feature spaces of Sentinel-2 to the HR feature spaces of NAIP.\n",
    "\n",
    "We now benchmark the trained Diffusion Layer's ability to map LR features spaces of Sentinel-2 to the HR feature spaces of 1mDrone from our Jamaica/Mexico expeditions."
   ]
  },
  {
   "cell_type": "code",
   "execution_count": 42,
   "id": "5da6d1b1",
   "metadata": {},
   "outputs": [
    {
     "name": "stdout",
     "output_type": "stream",
     "text": [
      "Using Apple Metal Performance Shaders (MPS) device.\n",
      "\n"
     ]
    }
   ],
   "source": [
    "if torch.cuda.is_available():\n",
    "    DEVICE = torch.device(\"cuda\")\n",
    "    print(\"Using CUDA device.\")\n",
    "elif torch.backends.mps.is_available():\n",
    "    DEVICE = torch.device(\"mps\")\n",
    "    print(\"Using Apple Metal Performance Shaders (MPS) device.\\n\")\n",
    "else:\n",
    "    DEVICE = torch.device(\"cpu\")\n",
    "    print(\"WARNING: No GPU found. Defaulting to CPU.\")"
   ]
  },
  {
   "cell_type": "code",
   "execution_count": 43,
   "id": "a5b80c80",
   "metadata": {},
   "outputs": [
    {
     "name": "stdout",
     "output_type": "stream",
     "text": [
      "ckpt.keys()=dict_keys(['net', 'ema', 'optimizer', 'sched'])\n"
     ]
    }
   ],
   "source": [
    "# opt.load variable. Path of checkpoint to load for net, ema, optimizer, sched\n",
    "ckpt_path = '/Users/evanwu/ml-mangrove/Super Resolution/Schrodinger Diffusion/results/test/model_002000.pt'\n",
    "ckpt = torch.load(ckpt_path, map_location=DEVICE)\n",
    "print(f\"ckpt.keys()={ckpt.keys()}\")"
   ]
  },
  {
   "cell_type": "code",
   "execution_count": 44,
   "id": "d31fca60",
   "metadata": {},
   "outputs": [],
   "source": [
    "from utils import JupyterArgParser\n",
    "from pathlib import Path\n",
    "\n",
    "# ========= global settings =========\n",
    "# Taken from i2sb paper with minor changes\n",
    "\n",
    "RESULT_DIR = Path(\"results\")\n",
    "\n",
    "# --------------- basic ---------------\n",
    "parser = JupyterArgParser()\n",
    "parser.add_argument(\"--seed\",           type=int,   default=0)\n",
    "parser.add_argument(\"--name\",           type=str,   default=None,        help=\"experiment ID\")\n",
    "parser.add_argument(\"--ckpt\",           type=str,   default=None,        help=\"resumed checkpoint name\")\n",
    "parser.add_argument(\"--device\",         type=str,   default=DEVICE,      help=\"type of device to use for training\")\n",
    "parser.add_argument(\"--gpu\",            type=int,   default=None,        help=\"set only if you wish to run on a particular GPU\")\n",
    "\n",
    "# --------------- model ---------------\n",
    "parser.add_argument(\"--image-size\",     type=int,   default=224)\n",
    "parser.add_argument(\"--t0\",             type=float, default=1e-4,        help=\"sigma start time in network parametrization\")\n",
    "parser.add_argument(\"--T\",              type=float, default=1.,          help=\"sigma end time in network parametrization\")\n",
    "parser.add_argument(\"--interval\",       type=int,   default=1000,        help=\"number of interval\")\n",
    "parser.add_argument(\"--beta-max\",       type=float, default=0.3,         help=\"max diffusion for the diffusion model\")\n",
    "parser.add_argument(\"--beta-schedule\",  type=str,   default=\"i2sb\",    help=\"schedule for beta\")\n",
    "parser.add_argument(\"--ot-ode\",         action=\"store_true\",             help=\"use OT-ODE model\")\n",
    "parser.add_argument(\"--clip-denoise\",   action=\"store_true\",             help=\"clamp predicted image to [-1,1] at each\")\n",
    "parser.add_argument(\"--use-fp16\",       action=\"store_true\",             help=\"use fp16 for training\")\n",
    "parser.add_argument(\"diffusion-type\",   type=str,   default=\"schrodinger_bridge\",      help=\"type of diffusion model\")\n",
    "\n",
    "# --------------- optimizer and loss ---------------\n",
    "parser.add_argument(\"--batch-size\",     type=int,   default=256)\n",
    "parser.add_argument(\"--microbatch\",     type=int,   default=4,           help=\"accumulate gradient over microbatch until full batch-size\")\n",
    "parser.add_argument(\"--num-itr\",        type=int,   default=10001,     help=\"training iteration\")\n",
    "parser.add_argument(\"--lr\",             type=float, default=5e-5,        help=\"learning rate\")\n",
    "parser.add_argument(\"--lr-gamma\",       type=float, default=0.99,        help=\"learning rate decay ratio\")\n",
    "parser.add_argument(\"--lr-step\",        type=int,   default=1000,        help=\"learning rate decay step size\")\n",
    "parser.add_argument(\"--l2-norm\",        type=float, default=0.0)\n",
    "parser.add_argument(\"--ema\",            type=float, default=0.99)\n",
    "\n",
    "# --------------- path and logging ---------------\n",
    "parser.add_argument(\"--dataset-dir\",    type=Path,  default=\"/dataset\",  help=\"path to LMDB dataset\")\n",
    "parser.add_argument(\"--log-dir\",        type=Path,  default=\".log\",      help=\"path to log std outputs and writer data\")\n",
    "parser.add_argument(\"--log-writer\",     type=str,   default=None,        help=\"log writer: can be tensorbard, wandb, or None\")\n",
    "parser.add_argument(\"--wandb-api-key\",  type=str,   default=None,        help=\"unique API key of your W&B account; see https://wandb.ai/authorize\")\n",
    "parser.add_argument(\"--wandb-user\",     type=str,   default=None,        help=\"user name of your W&B account\")\n",
    "parser.add_argument(\"--ckpt-path\",      type=Path,  default=None,        help=\"path to save checkpoints\")\n",
    "parser.add_argument(\"--load\",           type=Path,  default=ckpt_path,        help=\"path to load checkpoints\")\n",
    "parser.add_argument(\"--unet_path\",      type=str,   default=None,        help=\"path of UNet model to load for training\")\n",
    "\n",
    "# --------------- distributed ---------------\n",
    "parser.add_argument(\"--local-rank\",     type=int,   default=0)\n",
    "parser.add_argument(\"--global-rank\",    type=int,   default=0)\n",
    "parser.add_argument(\"--global-size\",    type=int,   default=1)\n",
    "\n",
    "opt = parser.get_options()\n",
    "# ========= path handle =========\n",
    "opt.name = \"test\"\n",
    "os.makedirs(opt.log_dir, exist_ok=True)\n",
    "opt.ckpt_path = RESULT_DIR / opt.name if opt.name else RESULT_DIR / \"temp\"\n",
    "os.makedirs(opt.ckpt_path, exist_ok=True)\n",
    "\n",
    "# ========= auto assert =========\n",
    "assert opt.batch_size % opt.microbatch == 0, f\"{opt.batch_size=} is not dividable by {opt.microbatch}!\"\n",
    "\n"
   ]
  },
  {
   "cell_type": "code",
   "execution_count": 45,
   "id": "23761e7f",
   "metadata": {},
   "outputs": [
    {
     "name": "stdout",
     "output_type": "stream",
     "text": [
      "jamaica_dataset_drone: (584, 256, 14, 14) | jamaica_dataset_satellite shape: (584, 256, 14, 14)\n",
      "naip_dataset_drone: (45540, 256, 14, 14) | naip_dataset_satellite shape: (45540, 256, 14, 14)\n",
      "jamaica_loader of length 146 and naip_loader of length 11385 created\n",
      "Loaded 'net' and 'ema' from checkpoint path\n",
      "Built schrodinger_bridge Diffusion Model with 1000 steps and i2sb beta schedule!\n"
     ]
    }
   ],
   "source": [
    "torch.manual_seed(1234)\n",
    "\n",
    "# setup DB latent\n",
    "jamaica_dataset_drone = np.load('data/one_meter_drone/224latent_dataset_drone.npy', 'r')\n",
    "jamaica_dataset_satellite = np.load('data/one_meter_drone/224latent_dataset_satellite.npy', 'r')\n",
    "assert len(jamaica_dataset_drone) == len(jamaica_dataset_satellite), f\"jamaica_dataset_drone b={jamaica_dataset_drone.shape[0]} and jamaica_dataset_satellite b={jamaica_dataset_satellite.shape[0]} don't have the same B\"\n",
    "print(f\"jamaica_dataset_drone: {jamaica_dataset_drone.shape} | jamaica_dataset_satellite shape: {jamaica_dataset_satellite.shape}\")\n",
    "\n",
    "jamaica_clean_latent = torch.from_numpy(jamaica_dataset_drone).float()\n",
    "jamaica_noisy_latent = torch.from_numpy(jamaica_dataset_satellite).float()\n",
    "jamaica_dataset = SuperResolutionDataset(hr_images=jamaica_clean_latent, lr_images=jamaica_noisy_latent)\n",
    "jamaica_loader = DataLoader(jamaica_dataset, batch_size=opt.microbatch, shuffle=True, drop_last=True)\n",
    "\n",
    "# setup DA latent\n",
    "naip_dataset_drone = np.load('data/one_meter_naip/224naip_latent_dataset_drone_V1.npy', 'r')\n",
    "naip_dataset_satellite = np.load('data/one_meter_naip/224naip_latent_dataset_satellite_V1.npy', 'r')\n",
    "assert len(naip_dataset_drone) == len(naip_dataset_satellite), f\"naip_dataset_drone b={naip_dataset_drone.shape[0]} and naip_dataset_satellite b={naip_dataset_satellite.shape[0]} don't have the same B\"\n",
    "print(f\"naip_dataset_drone: {naip_dataset_drone.shape} | naip_dataset_satellite shape: {naip_dataset_satellite.shape}\")\n",
    "\n",
    "naip_clean_latent = torch.from_numpy(naip_dataset_drone).float()\n",
    "naip_noisy_latent = torch.from_numpy(naip_dataset_satellite).float()\n",
    "naip_dataset = SuperResolutionDataset(hr_images=naip_clean_latent, lr_images=naip_noisy_latent)\n",
    "naip_loader = DataLoader(naip_dataset, batch_size=opt.microbatch, shuffle=True, drop_last=True)\n",
    "\n",
    "print(f\"jamaica_loader of length {len(jamaica_loader)} and naip_loader of length {len(naip_loader)} created\")\n",
    "\n",
    "run = Runner(opt)"
   ]
  },
  {
   "cell_type": "code",
   "execution_count": 46,
   "id": "1b1d6125",
   "metadata": {},
   "outputs": [
    {
     "name": "stdout",
     "output_type": "stream",
     "text": [
      "avg_naip_noise_pred_loss=0.5715283751487732 | avg_jamaica_noise_pred_loss=2.3131699562072754\n"
     ]
    }
   ],
   "source": [
    "# Benchmark model's noise prediction on DA(what the model is trained on) vs DB(unseen data)\n",
    "total_naip_noise_pred_loss = 0\n",
    "total_jamaica_noise_pred_loss = 0\n",
    "\n",
    "num_iters = 100\n",
    "\n",
    "run.net.eval()\n",
    "with torch.no_grad():\n",
    "  for n in range(num_iters):\n",
    "    naip_x1, naip_x0 = next(iter(naip_loader))\n",
    "    naip_x1, naip_x0 = naip_x1.to(DEVICE), naip_x0.to(DEVICE)\n",
    "\n",
    "    jamaica_x1, jamaica_x0 = next(iter(jamaica_loader))\n",
    "    jamaica_x1, jamaica_x0 = jamaica_x1.to(DEVICE), jamaica_x0.to(DEVICE)\n",
    "\n",
    "    step = torch.randint(0, opt.interval, (naip_x1.shape[0],)).to(opt.device) \n",
    "    naip_xt = run.diffusion.q_sample(step, naip_x0, naip_x1, ot_ode=opt.ot_ode).to(opt.device)\n",
    "    jamaica_xt = run.diffusion.q_sample(step, jamaica_x0, jamaica_x1, ot_ode=opt.ot_ode).to(opt.device)\n",
    "\n",
    "    naip_pred = run.net(naip_xt, diffuse=True, return_encoding_only=True, step=step, latent_input=True) # predicted noise\n",
    "    naip_label = run.compute_label(step, naip_x0, naip_xt) # ground truth noise\n",
    "    naip_noise_pred_loss = F.mse_loss(naip_pred, naip_label)\n",
    "    total_naip_noise_pred_loss += naip_noise_pred_loss\n",
    "\n",
    "    jamaica_pred = run.net(jamaica_xt, diffuse=True, return_encoding_only=True, step=step, latent_input=True) # predicted noise\n",
    "    jamaica_label = run.compute_label(step, jamaica_x0, jamaica_xt) # ground truth noise\n",
    "    jamaica_noise_pred_loss = F.mse_loss(jamaica_pred, jamaica_label)\n",
    "    total_jamaica_noise_pred_loss += jamaica_noise_pred_loss\n",
    "\n",
    "avg_naip_noise_pred_loss = total_naip_noise_pred_loss / num_iters\n",
    "avg_jamaica_noise_pred_loss = total_jamaica_noise_pred_loss / num_iters\n",
    "\n",
    "print(f\"avg_naip_noise_pred_loss={avg_naip_noise_pred_loss} | avg_jamaica_noise_pred_loss={avg_jamaica_noise_pred_loss}\")"
   ]
  },
  {
   "cell_type": "code",
   "execution_count": 47,
   "id": "d0f72a39",
   "metadata": {},
   "outputs": [
    {
     "name": "stdout",
     "output_type": "stream",
     "text": [
      "avg_naip_reconstruction_loss=0.05396148914471269 | avg_jamaica_reconstruction_loss=0.49590829491615296\n"
     ]
    }
   ],
   "source": [
    "# Benchmark model's reconstruction on DA(what the model is trained on) vs DB(unseen data)\n",
    "total_naip_reconstruction_loss = 0\n",
    "total_jamaica_reconstruction_loss = 0\n",
    "\n",
    "num_iters = 100\n",
    "\n",
    "run.net.eval()\n",
    "with torch.no_grad():\n",
    "  for n in range(num_iters):\n",
    "    naip_x1, naip_x0 = next(iter(naip_loader))\n",
    "    naip_x1, naip_x0 = naip_x1.to(DEVICE), naip_x0.to(DEVICE)\n",
    "\n",
    "    jamaica_x1, jamaica_x0 = next(iter(jamaica_loader))\n",
    "    jamaica_x1, jamaica_x0 = jamaica_x1.to(DEVICE), jamaica_x0.to(DEVICE)\n",
    "\n",
    "    naip_xs, naip_pred_x0s = run.ddpm_sampling(opt, naip_x1, clip_denoise=opt.clip_denoise, verbose=False)\n",
    "    naip_x0_hat = naip_pred_x0s[:, -1].to(opt.device)\n",
    "    naip_reconstrution_loss = F.mse_loss(naip_x0_hat, naip_x0)\n",
    "    total_naip_reconstruction_loss += naip_reconstrution_loss.item()\n",
    "\n",
    "    jamaica_xs, jamaica_pred_x0s = run.ddpm_sampling(opt, jamaica_x1, clip_denoise=opt.clip_denoise, verbose=False)\n",
    "    jamaica_x0_hat = jamaica_pred_x0s[:, -1].to(opt.device)\n",
    "    jamaica_reconstrution_loss = F.mse_loss(jamaica_x0_hat, jamaica_x0)\n",
    "    total_jamaica_reconstruction_loss += jamaica_reconstrution_loss.item()\n",
    "\n",
    "avg_naip_reconstruction_loss = total_naip_reconstruction_loss / num_iters\n",
    "avg_jamaica_reconstruction_loss = total_jamaica_reconstruction_loss / num_iters\n",
    "\n",
    "print(f\"avg_naip_reconstruction_loss={avg_naip_reconstruction_loss} | avg_jamaica_reconstruction_loss={avg_jamaica_reconstruction_loss}\")"
   ]
  },
  {
   "cell_type": "code",
   "execution_count": null,
   "id": "ec55b364",
   "metadata": {},
   "outputs": [
    {
     "name": "stdout",
     "output_type": "stream",
     "text": [
      "naip_loss_per_step: [0.06072298064827919, 0.050722554326057434, 0.05761701241135597, 0.07059870660305023, 0.08651453256607056, 0.10529452562332153, 0.12319033592939377, 0.13952696323394775, 0.15469470620155334, 0.16847363114356995]\n",
      "jamaica_loss_per_step: [0.49523842334747314, 0.501124918460846, 0.5118942856788635, 0.5261794924736023, 0.5407803654670715, 0.5564429759979248, 0.5706257820129395, 0.5829012393951416, 0.5932011604309082, 0.6021554470062256]\n"
     ]
    },
    {
     "data": {
      "image/png": "[encoded data removed]",
      "text/plain": [
       "<Figure size 640x480 with 1 Axes>"
      ]
     },
     "metadata": {},
     "output_type": "display_data"
    }
   ],
   "source": [
    "# plot x0_preds loss curve over entire trajectory of 1 microbatch\n",
    "\n",
    "run.net.eval()\n",
    "with torch.no_grad():\n",
    "  naip_x1, naip_x0 = next(iter(naip_loader))\n",
    "  naip_x1, naip_x0 = naip_x1.to(DEVICE), naip_x0.to(DEVICE)\n",
    "\n",
    "  jamaica_x1, jamaica_x0 = next(iter(jamaica_loader))\n",
    "  jamaica_x1, jamaica_x0 = jamaica_x1.to(DEVICE), jamaica_x0.to(DEVICE)\n",
    "\n",
    "  naip_xs, naip_pred_x0s = run.ddpm_sampling(opt, naip_x1, clip_denoise=opt.clip_denoise, verbose=False)\n",
    "  naip_pred_x0s = naip_pred_x0s.to(opt.device)\n",
    "\n",
    "  jamaica_xs, jamaica_pred_x0s = run.ddpm_sampling(opt, jamaica_x1, clip_denoise=opt.clip_denoise, verbose=False)\n",
    "  jamaica_pred_x0s = jamaica_pred_x0s.to(opt.device)\n",
    "\n",
    "B, numSteps, C, H, W = naip_pred_x0s.shape\n",
    "naip_loss_per_step = []\n",
    "jamaica_loss_per_step = []\n",
    "\n",
    "for s in range(numSteps):\n",
    "  # pred_x0s[:,s] is (B, C, H, W)\n",
    "  naip_reconstruction_loss = F.mse_loss(naip_pred_x0s[:,s], naip_x0)\n",
    "  jamaica_reconstruction_loss = F.mse_loss(jamaica_pred_x0s[:,s], jamaica_x0)\n",
    "  naip_loss_per_step.append(naip_reconstruction_loss.item())\n",
    "  jamaica_loss_per_step.append(jamaica_reconstruction_loss.item())\n",
    "\n",
    "log_steps = [0, 111, 222, 333, 444, 554, 665, 776, 887, 998] # hardcoded - based on opt.interval and log_count\n",
    "naip_loss_per_step.reverse()\n",
    "jamaica_loss_per_step.reverse()\n",
    "\n",
    "print(f\"naip_loss_per_step: {naip_loss_per_step}\")\n",
    "print(f\"jamaica_loss_per_step: {jamaica_loss_per_step}\")\n",
    "\n",
    "plt.figure()\n",
    "plt.plot(log_steps, naip_loss_per_step, label=\"naip_loss\")\n",
    "plt.plot(log_steps, jamaica_loss_per_step, label=\"jamaica_loss\")\n",
    "plt.legend(loc=\"upper left\")\n",
    "plt.xlabel(\"Timestep\")\n",
    "plt.ylabel(\"Reconstruction MSE\")\n",
    "plt.title(\"Per‐step reconstruction MSE vs. t (Right to Left)\")\n",
    "plt.grid(True)\n",
    "plt.show()"
   ]
  }
 ],
 "metadata": {
  "kernelspec": {
   "display_name": ".venv",
   "language": "python",
   "name": "python3"
  },
  "language_info": {
   "codemirror_mode": {
    "name": "ipython",
    "version": 3
   },
   "file_extension": ".py",
   "mimetype": "text/x-python",
   "name": "python",
   "nbconvert_exporter": "python",
   "pygments_lexer": "ipython3",
   "version": "3.13.1"
  }
 },
 "nbformat": 4,
 "nbformat_minor": 5
}
