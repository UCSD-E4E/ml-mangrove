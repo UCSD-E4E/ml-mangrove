{
 "cells": [
  {
   "cell_type": "code",
   "execution_count": 1,
   "metadata": {},
   "outputs": [],
   "source": [
    "import os\n",
    "import gc\n",
    "import sys\n",
    "import torch\n",
    "import matplotlib.pyplot as plt\n",
    "import numpy as np\n",
    "from torch.utils.data import ConcatDataset, random_split, DataLoader"
   ]
  },
  {
   "cell_type": "code",
   "execution_count": 2,
   "metadata": {},
   "outputs": [
    {
     "name": "stdout",
     "output_type": "stream",
     "text": [
      "Using Apple Metal Performance Shaders (MPS) device.\n"
     ]
    }
   ],
   "source": [
    "# Setup the device to be used for training and evaluation\n",
    "if torch.cuda.is_available():\n",
    "    DEVICE = torch.device(\"cuda\")\n",
    "    x = torch.ones(1, device=DEVICE)\n",
    "    print(\"Using CUDA device.\")\n",
    "elif torch.backends.mps.is_available():\n",
    "    DEVICE = torch.device(\"mps\")\n",
    "    x = torch.ones(1, device=DEVICE)\n",
    "    print(\"Using Apple Metal Performance Shaders (MPS) device.\")\n",
    "else:\n",
    "    DEVICE = torch.device(\"cpu\")\n",
    "    print(\"No GPU found. Defaulting to CPU.\")"
   ]
  },
  {
   "cell_type": "markdown",
   "metadata": {},
   "source": [
    "# Config"
   ]
  },
  {
   "cell_type": "code",
   "execution_count": 3,
   "metadata": {},
   "outputs": [],
   "source": [
    "from utils import JupyterArgParser\n",
    "from pathlib import Path\n",
    "\n",
    "# ========= global settings =========\n",
    "# Taken from i2sb paper with minor changes\n",
    "\n",
    "RESULT_DIR = Path(\"results\")\n",
    "\n",
    "# --------------- basic ---------------\n",
    "parser = JupyterArgParser()\n",
    "parser.add_argument(\"--seed\",           type=int,   default=0)\n",
    "parser.add_argument(\"--name\",           type=str,   default=None,        help=\"experiment ID\")\n",
    "parser.add_argument(\"--ckpt\",           type=str,   default=None,        help=\"resumed checkpoint name\")\n",
    "parser.add_argument(\"--device\",         type=str,   default=DEVICE,      help=\"type of device to use for training\")\n",
    "parser.add_argument(\"--gpu\",            type=int,   default=None,        help=\"set only if you wish to run on a particular GPU\")\n",
    "\n",
    "# --------------- model ---------------\n",
    "parser.add_argument(\"--image-size\",     type=int,   default=224)\n",
    "parser.add_argument(\"--t0\",             type=float, default=1e-4,        help=\"sigma start time in network parametrization\")\n",
    "parser.add_argument(\"--T\",              type=float, default=1.,          help=\"sigma end time in network parametrization\")\n",
    "parser.add_argument(\"--interval\",       type=int,   default=1000,        help=\"number of interval\")\n",
    "parser.add_argument(\"--beta-max\",       type=float, default=0.3,         help=\"max diffusion for the diffusion model\")\n",
    "parser.add_argument(\"--beta-schedule\",  type=str,   default=\"i2sb\",    help=\"schedule for beta\")\n",
    "parser.add_argument(\"--ot-ode\",         action=\"store_true\",             help=\"use OT-ODE model\")\n",
    "parser.add_argument(\"--clip-denoise\",   action=\"store_true\",             help=\"clamp predicted image to [-1,1] at each\")\n",
    "parser.add_argument(\"--use-fp16\",       action=\"store_true\",             help=\"use fp16 for training\")\n",
    "parser.add_argument(\"diffusion-type\",   type=str,   default=\"schrodinger_bridge\",      help=\"type of diffusion model\")\n",
    "\n",
    "# --------------- optimizer and loss ---------------\n",
    "parser.add_argument(\"--batch-size\",     type=int,   default=256)\n",
    "parser.add_argument(\"--microbatch\",     type=int,   default=4,           help=\"accumulate gradient over microbatch until full batch-size\")\n",
    "parser.add_argument(\"--num-itr\",        type=int,   default=1002,     help=\"training iteration\")\n",
    "parser.add_argument(\"--lr\",             type=float, default=5e-5,        help=\"learning rate\")\n",
    "parser.add_argument(\"--lr-gamma\",       type=float, default=0.99,        help=\"learning rate decay ratio\")\n",
    "parser.add_argument(\"--lr-step\",        type=int,   default=1000,        help=\"learning rate decay step size\")\n",
    "parser.add_argument(\"--l2-norm\",        type=float, default=0.0)\n",
    "parser.add_argument(\"--ema\",            type=float, default=0.99)\n",
    "\n",
    "# --------------- path and logging ---------------\n",
    "parser.add_argument(\"--dataset-dir\",    type=Path,  default=\"/dataset\",  help=\"path to LMDB dataset\")\n",
    "parser.add_argument(\"--log-dir\",        type=Path,  default=\".log\",      help=\"path to log std outputs and writer data\")\n",
    "parser.add_argument(\"--log-writer\",     type=str,   default=None,        help=\"log writer: can be tensorbard, wandb, or None\")\n",
    "parser.add_argument(\"--wandb-api-key\",  type=str,   default=None,        help=\"unique API key of your W&B account; see https://wandb.ai/authorize\")\n",
    "parser.add_argument(\"--wandb-user\",     type=str,   default=None,        help=\"user name of your W&B account\")\n",
    "parser.add_argument(\"--ckpt-path\",      type=Path,  default=None,        help=\"path to save checkpoints\")\n",
    "parser.add_argument(\"--load\",           type=Path,  default=None,        help=\"path to load checkpoints\")\n",
    "parser.add_argument(\"--unet_path\",      type=str,   default=None,        help=\"path of UNet model to load for training\")\n",
    "\n",
    "# --------------- distributed ---------------\n",
    "parser.add_argument(\"--local-rank\",     type=int,   default=0)\n",
    "parser.add_argument(\"--global-rank\",    type=int,   default=0)\n",
    "parser.add_argument(\"--global-size\",    type=int,   default=1)\n",
    "\n",
    "opt = parser.get_options()\n",
    "# ========= path handle =========\n",
    "opt.name = \"test\"\n",
    "os.makedirs(opt.log_dir, exist_ok=True)\n",
    "opt.ckpt_path = RESULT_DIR / opt.name if opt.name else RESULT_DIR / \"temp\"\n",
    "os.makedirs(opt.ckpt_path, exist_ok=True)\n",
    "\n",
    "if opt.ckpt:\n",
    "    ckpt_file = RESULT_DIR / opt.ckpt / \"latest.pt\"\n",
    "    assert ckpt_file.exists()\n",
    "    opt.load = ckpt_file\n",
    "else:\n",
    "    opt.load = None\n",
    "\n",
    "# ========= auto assert =========\n",
    "assert opt.batch_size % opt.microbatch == 0, f\"{opt.batch_size=} is not dividable by {opt.microbatch}!\"\n",
    "\n"
   ]
  },
  {
   "cell_type": "markdown",
   "metadata": {},
   "source": [
    "# Prepare Data"
   ]
  },
  {
   "cell_type": "code",
   "execution_count": 4,
   "metadata": {},
   "outputs": [
    {
     "data": {
      "text/plain": [
       "'\\nfrom data import SuperResolutionDataset\\n\\n# build dataset    \\nhr_latent_path = \\'data/one_meter_naip/224naip_latent_dataset_drone.npy\\'\\nlr_latent_path = \\'data/one_meter_naip/224naip_latent_dataset_satellite.npy\\'\\nhr_latent = np.load(hr_latent_path, mmap_mode=\\'r\\') # shape (B, C, H, W)\\nlr_latent = np.load(lr_latent_path, mmap_mode=\\'r\\')\\nassert len(hr_latent) == len(lr_latent), f\"hr_latent b={hr_latent.shape[0]} and lr_latent b={lr_latent.shape[0]} don\\'t have the same B\"\\nprint(f\"hr_latent shape: {hr_latent.shape}\")\\nprint(\"hr_latent  min/max:\", hr_latent.min(), hr_latent.max())\\nprint(\"lr_latent  min/max:\", lr_latent.min(), lr_latent.max())\\n\\nB = len(hr_latent)\\nsplit = int(0.9*B) # 90:10 train:test split\\n\\n# shuffle loaded data before split\\nrng = np.random.default_rng(seed=42)\\nperm = rng.permutation(B)\\ntrain_idx = perm[:split]\\nval_idx = perm[split:]\\n\\ntrain_hr, val_hr = hr_latent[train_idx], hr_latent[val_idx]\\ntrain_lr, val_lr = lr_latent[train_idx], lr_latent[val_idx]\\n\\ntrain = SuperResolutionDataset(hr_images=train_hr, lr_images=train_lr, transform=None)\\nval = SuperResolutionDataset(hr_images=val_hr, lr_images=val_lr, transform=None)\\nprint(f\"Dataset lengths: train={len(train)} val={len(val)}\")\\n'"
      ]
     },
     "execution_count": 4,
     "metadata": {},
     "output_type": "execute_result"
    }
   ],
   "source": [
    "# Dataset creation from 1 npy file\n",
    "'''\n",
    "from data import SuperResolutionDataset\n",
    "\n",
    "# build dataset    \n",
    "hr_latent_path = 'data/one_meter_naip/224naip_latent_dataset_drone.npy'\n",
    "lr_latent_path = 'data/one_meter_naip/224naip_latent_dataset_satellite.npy'\n",
    "hr_latent = np.load(hr_latent_path, mmap_mode='r') # shape (B, C, H, W)\n",
    "lr_latent = np.load(lr_latent_path, mmap_mode='r')\n",
    "assert len(hr_latent) == len(lr_latent), f\"hr_latent b={hr_latent.shape[0]} and lr_latent b={lr_latent.shape[0]} don't have the same B\"\n",
    "print(f\"hr_latent shape: {hr_latent.shape}\")\n",
    "print(\"hr_latent  min/max:\", hr_latent.min(), hr_latent.max())\n",
    "print(\"lr_latent  min/max:\", lr_latent.min(), lr_latent.max())\n",
    "\n",
    "B = len(hr_latent)\n",
    "split = int(0.9*B) # 90:10 train:test split\n",
    "\n",
    "# shuffle loaded data before split\n",
    "rng = np.random.default_rng(seed=42)\n",
    "perm = rng.permutation(B)\n",
    "train_idx = perm[:split]\n",
    "val_idx = perm[split:]\n",
    "\n",
    "train_hr, val_hr = hr_latent[train_idx], hr_latent[val_idx]\n",
    "train_lr, val_lr = lr_latent[train_idx], lr_latent[val_idx]\n",
    "\n",
    "train = SuperResolutionDataset(hr_images=train_hr, lr_images=train_lr, transform=None)\n",
    "val = SuperResolutionDataset(hr_images=val_hr, lr_images=val_lr, transform=None)\n",
    "print(f\"Dataset lengths: train={len(train)} val={len(val)}\")\n",
    "'''"
   ]
  },
  {
   "cell_type": "code",
   "execution_count": 5,
   "metadata": {},
   "outputs": [
    {
     "name": "stdout",
     "output_type": "stream",
     "text": [
      "combined dataset has length=143253\n",
      "train length: 128927, val length:14326\n"
     ]
    }
   ],
   "source": [
    "# Dataset creation from list of npy files\n",
    "from data import SuperResolutionDataset\n",
    "\n",
    "hr_latent_paths = [\n",
    "  'data/one_meter_naip/224naip_latent_dataset_drone_V1.npy',\n",
    "  'data/one_meter_naip/224naip_latent_dataset_drone_V2.npy'\n",
    "]\n",
    "lr_latent_paths = [\n",
    "  'data/one_meter_naip/224naip_latent_dataset_satellite_V1.npy',\n",
    "  'data/one_meter_naip/224naip_latent_dataset_satellite_V2.npy'\n",
    "]\n",
    "\n",
    "subdatasets = []\n",
    "\n",
    "for hr_f, lr_f in zip(hr_latent_paths, lr_latent_paths):\n",
    "  hr_mem = np.load(hr_f, mmap_mode='r')\n",
    "  lr_mem = np.load(lr_f, mmap_mode='r')\n",
    "  subdatasets.append(\n",
    "    SuperResolutionDataset(hr_mem, lr_mem, transform=None)\n",
    "  )\n",
    "\n",
    "full = ConcatDataset(subdatasets) # wrapper that routes indices to sub-datasets\n",
    "total = len(full)\n",
    "print(f\"combined dataset has length={total}\")\n",
    "n_train = int(0.9*total)\n",
    "n_val = total - n_train\n",
    "\n",
    "train, val = random_split(\n",
    "    full,\n",
    "    [n_train, n_val],\n",
    "    generator=torch.Generator().manual_seed(42)\n",
    ") # returns 2 subset objects. each subset object holds list of indices into full\n",
    "\n",
    "print(f\"train length: {len(train)}, val length:{len(val)}\")"
   ]
  },
  {
   "cell_type": "code",
   "execution_count": 6,
   "metadata": {},
   "outputs": [
    {
     "name": "stderr",
     "output_type": "stream",
     "text": [
      "/Users/evanwu/ml-mangrove/.venv/lib/python3.13/site-packages/tqdm/auto.py:21: TqdmWarning: IProgress not found. Please update jupyter and ipywidgets. See https://ipywidgets.readthedocs.io/en/stable/user_install.html\n",
      "  from .autonotebook import tqdm as notebook_tqdm\n"
     ]
    },
    {
     "name": "stdout",
     "output_type": "stream",
     "text": [
      "Built schrodinger_bridge Diffusion Model with 1000 steps and i2sb beta schedule!\n"
     ]
    },
    {
     "name": "stderr",
     "output_type": "stream",
     "text": [
      "train_inner_loop:   0%|          | 0/64 [00:00<?, ?it/s]/Users/evanwu/ml-mangrove/.venv/lib/python3.13/site-packages/torch/utils/data/_utils/collate.py:285: UserWarning: The given NumPy array is not writable, and PyTorch does not support non-writable tensors. This means writing to this tensor will result in undefined behavior. You may want to copy the array to protect its data or make it writable before converting it to a tensor. This type of warning will be suppressed for the rest of this program. (Triggered internally at /Users/runner/work/pytorch/pytorch/pytorch/torch/csrc/utils/tensor_numpy.cpp:209.)\n",
      "  return collate([torch.as_tensor(b) for b in batch], collate_fn_map=collate_fn_map)\n",
      "train_inner_loop: 100%|██████████| 64/64 [00:00<00:00, 71.84it/s]\n"
     ]
    },
    {
     "name": "stdout",
     "output_type": "stream",
     "text": [
      "train_it 1/1002 | lr:5.00e-05 | noise_prediction_loss:+153.6967\n",
      "Saved weights and losses on iteration 0\n"
     ]
    },
    {
     "name": "stderr",
     "output_type": "stream",
     "text": [
      "eval_inner_loop: 100%|██████████| 64/64 [01:20<00:00,  1.25s/it]\n"
     ]
    },
    {
     "name": "stdout",
     "output_type": "stream",
     "text": [
      "EVALUATE: eval_it 1/1002 | noise_prediction_loss:+109.1735 | reconstruction_loss:+23.8171\n"
     ]
    },
    {
     "name": "stderr",
     "output_type": "stream",
     "text": [
      "train_inner_loop: 100%|██████████| 64/64 [00:00<00:00, 139.56it/s]\n"
     ]
    },
    {
     "name": "stdout",
     "output_type": "stream",
     "text": [
      "train_it 2/1002 | lr:5.00e-05 | noise_prediction_loss:+111.7015\n"
     ]
    },
    {
     "name": "stderr",
     "output_type": "stream",
     "text": [
      "train_inner_loop: 100%|██████████| 64/64 [00:00<00:00, 139.07it/s]\n"
     ]
    },
    {
     "name": "stdout",
     "output_type": "stream",
     "text": [
      "train_it 3/1002 | lr:5.00e-05 | noise_prediction_loss:+79.4468\n"
     ]
    },
    {
     "name": "stderr",
     "output_type": "stream",
     "text": [
      "train_inner_loop: 100%|██████████| 64/64 [00:00<00:00, 137.32it/s]\n"
     ]
    },
    {
     "name": "stdout",
     "output_type": "stream",
     "text": [
      "train_it 4/1002 | lr:5.00e-05 | noise_prediction_loss:+55.6047\n"
     ]
    },
    {
     "name": "stderr",
     "output_type": "stream",
     "text": [
      "train_inner_loop: 100%|██████████| 64/64 [00:00<00:00, 114.63it/s]\n"
     ]
    },
    {
     "name": "stdout",
     "output_type": "stream",
     "text": [
      "train_it 5/1002 | lr:5.00e-05 | noise_prediction_loss:+39.8612\n"
     ]
    },
    {
     "name": "stderr",
     "output_type": "stream",
     "text": [
      "train_inner_loop: 100%|██████████| 64/64 [00:00<00:00, 90.32it/s]\n"
     ]
    },
    {
     "name": "stdout",
     "output_type": "stream",
     "text": [
      "train_it 6/1002 | lr:5.00e-05 | noise_prediction_loss:+29.6192\n"
     ]
    },
    {
     "name": "stderr",
     "output_type": "stream",
     "text": [
      "train_inner_loop: 100%|██████████| 64/64 [00:00<00:00, 135.82it/s]\n"
     ]
    },
    {
     "name": "stdout",
     "output_type": "stream",
     "text": [
      "train_it 7/1002 | lr:5.00e-05 | noise_prediction_loss:+20.7311\n"
     ]
    },
    {
     "name": "stderr",
     "output_type": "stream",
     "text": [
      "train_inner_loop: 100%|██████████| 64/64 [00:00<00:00, 97.94it/s] \n"
     ]
    },
    {
     "name": "stdout",
     "output_type": "stream",
     "text": [
      "train_it 8/1002 | lr:5.00e-05 | noise_prediction_loss:+17.7296\n"
     ]
    },
    {
     "name": "stderr",
     "output_type": "stream",
     "text": [
      "train_inner_loop: 100%|██████████| 64/64 [00:00<00:00, 96.79it/s] \n"
     ]
    },
    {
     "name": "stdout",
     "output_type": "stream",
     "text": [
      "train_it 9/1002 | lr:5.00e-05 | noise_prediction_loss:+13.7910\n"
     ]
    },
    {
     "name": "stderr",
     "output_type": "stream",
     "text": [
      "train_inner_loop: 100%|██████████| 64/64 [00:00<00:00, 135.54it/s]\n"
     ]
    },
    {
     "name": "stdout",
     "output_type": "stream",
     "text": [
      "train_it 10/1002 | lr:5.00e-05 | noise_prediction_loss:+13.8047\n"
     ]
    },
    {
     "name": "stderr",
     "output_type": "stream",
     "text": [
      "train_inner_loop: 100%|██████████| 64/64 [00:00<00:00, 86.75it/s]\n"
     ]
    },
    {
     "name": "stdout",
     "output_type": "stream",
     "text": [
      "train_it 51/1002 | lr:5.00e-05 | noise_prediction_loss:+1.5434\n"
     ]
    },
    {
     "name": "stderr",
     "output_type": "stream",
     "text": [
      "train_inner_loop: 100%|██████████| 64/64 [00:00<00:00, 79.46it/s]\n"
     ]
    },
    {
     "name": "stdout",
     "output_type": "stream",
     "text": [
      "train_it 101/1002 | lr:5.00e-05 | noise_prediction_loss:+0.7631\n"
     ]
    },
    {
     "name": "stderr",
     "output_type": "stream",
     "text": [
      "train_inner_loop: 100%|██████████| 64/64 [00:00<00:00, 97.93it/s] \n"
     ]
    },
    {
     "name": "stdout",
     "output_type": "stream",
     "text": [
      "train_it 151/1002 | lr:5.00e-05 | noise_prediction_loss:+0.5927\n"
     ]
    },
    {
     "name": "stderr",
     "output_type": "stream",
     "text": [
      "train_inner_loop: 100%|██████████| 64/64 [00:00<00:00, 90.51it/s]\n"
     ]
    },
    {
     "name": "stdout",
     "output_type": "stream",
     "text": [
      "train_it 201/1002 | lr:5.00e-05 | noise_prediction_loss:+0.5587\n"
     ]
    },
    {
     "name": "stderr",
     "output_type": "stream",
     "text": [
      "eval_inner_loop: 100%|██████████| 64/64 [01:27<00:00,  1.37s/it]\n"
     ]
    },
    {
     "name": "stdout",
     "output_type": "stream",
     "text": [
      "EVALUATE: eval_it 201/1002 | noise_prediction_loss:+0.5501 | reconstruction_loss:+0.1542\n"
     ]
    },
    {
     "name": "stderr",
     "output_type": "stream",
     "text": [
      "train_inner_loop: 100%|██████████| 64/64 [00:00<00:00, 94.86it/s] \n"
     ]
    },
    {
     "name": "stdout",
     "output_type": "stream",
     "text": [
      "train_it 251/1002 | lr:5.00e-05 | noise_prediction_loss:+0.5322\n"
     ]
    },
    {
     "name": "stderr",
     "output_type": "stream",
     "text": [
      "train_inner_loop: 100%|██████████| 64/64 [00:00<00:00, 84.87it/s]\n"
     ]
    },
    {
     "name": "stdout",
     "output_type": "stream",
     "text": [
      "train_it 301/1002 | lr:5.00e-05 | noise_prediction_loss:+0.4856\n"
     ]
    },
    {
     "name": "stderr",
     "output_type": "stream",
     "text": [
      "train_inner_loop: 100%|██████████| 64/64 [00:00<00:00, 89.46it/s] \n"
     ]
    },
    {
     "name": "stdout",
     "output_type": "stream",
     "text": [
      "train_it 351/1002 | lr:5.00e-05 | noise_prediction_loss:+0.5534\n"
     ]
    },
    {
     "name": "stderr",
     "output_type": "stream",
     "text": [
      "train_inner_loop: 100%|██████████| 64/64 [00:00<00:00, 83.71it/s]\n"
     ]
    },
    {
     "name": "stdout",
     "output_type": "stream",
     "text": [
      "train_it 401/1002 | lr:5.00e-05 | noise_prediction_loss:+0.4714\n"
     ]
    },
    {
     "name": "stderr",
     "output_type": "stream",
     "text": [
      "eval_inner_loop: 100%|██████████| 64/64 [01:36<00:00,  1.51s/it]\n"
     ]
    },
    {
     "name": "stdout",
     "output_type": "stream",
     "text": [
      "EVALUATE: eval_it 401/1002 | noise_prediction_loss:+0.5117 | reconstruction_loss:+0.1406\n"
     ]
    },
    {
     "name": "stderr",
     "output_type": "stream",
     "text": [
      "train_inner_loop: 100%|██████████| 64/64 [00:00<00:00, 87.73it/s]\n"
     ]
    },
    {
     "name": "stdout",
     "output_type": "stream",
     "text": [
      "train_it 451/1002 | lr:5.00e-05 | noise_prediction_loss:+0.5035\n"
     ]
    },
    {
     "name": "stderr",
     "output_type": "stream",
     "text": [
      "train_inner_loop: 100%|██████████| 64/64 [00:00<00:00, 83.35it/s]\n"
     ]
    },
    {
     "name": "stdout",
     "output_type": "stream",
     "text": [
      "train_it 501/1002 | lr:5.00e-05 | noise_prediction_loss:+0.4773\n"
     ]
    },
    {
     "name": "stderr",
     "output_type": "stream",
     "text": [
      "train_inner_loop: 100%|██████████| 64/64 [00:00<00:00, 80.22it/s]\n"
     ]
    },
    {
     "name": "stdout",
     "output_type": "stream",
     "text": [
      "train_it 551/1002 | lr:5.00e-05 | noise_prediction_loss:+0.5129\n"
     ]
    },
    {
     "name": "stderr",
     "output_type": "stream",
     "text": [
      "train_inner_loop: 100%|██████████| 64/64 [00:00<00:00, 83.22it/s]\n"
     ]
    },
    {
     "name": "stdout",
     "output_type": "stream",
     "text": [
      "train_it 601/1002 | lr:5.00e-05 | noise_prediction_loss:+0.4636\n"
     ]
    },
    {
     "name": "stderr",
     "output_type": "stream",
     "text": [
      "eval_inner_loop: 100%|██████████| 64/64 [01:43<00:00,  1.61s/it]\n"
     ]
    },
    {
     "name": "stdout",
     "output_type": "stream",
     "text": [
      "EVALUATE: eval_it 601/1002 | noise_prediction_loss:+0.5117 | reconstruction_loss:+0.1366\n"
     ]
    },
    {
     "name": "stderr",
     "output_type": "stream",
     "text": [
      "train_inner_loop: 100%|██████████| 64/64 [00:00<00:00, 89.12it/s]\n"
     ]
    },
    {
     "name": "stdout",
     "output_type": "stream",
     "text": [
      "train_it 651/1002 | lr:5.00e-05 | noise_prediction_loss:+0.5112\n"
     ]
    },
    {
     "name": "stderr",
     "output_type": "stream",
     "text": [
      "train_inner_loop: 100%|██████████| 64/64 [00:00<00:00, 81.96it/s]\n"
     ]
    },
    {
     "name": "stdout",
     "output_type": "stream",
     "text": [
      "train_it 701/1002 | lr:5.00e-05 | noise_prediction_loss:+0.5045\n"
     ]
    },
    {
     "name": "stderr",
     "output_type": "stream",
     "text": [
      "train_inner_loop: 100%|██████████| 64/64 [00:00<00:00, 89.61it/s] \n"
     ]
    },
    {
     "name": "stdout",
     "output_type": "stream",
     "text": [
      "train_it 751/1002 | lr:5.00e-05 | noise_prediction_loss:+0.4667\n"
     ]
    },
    {
     "name": "stderr",
     "output_type": "stream",
     "text": [
      "train_inner_loop: 100%|██████████| 64/64 [00:00<00:00, 86.56it/s]\n"
     ]
    },
    {
     "name": "stdout",
     "output_type": "stream",
     "text": [
      "train_it 801/1002 | lr:5.00e-05 | noise_prediction_loss:+0.4944\n"
     ]
    },
    {
     "name": "stderr",
     "output_type": "stream",
     "text": [
      "eval_inner_loop: 100%|██████████| 64/64 [01:39<00:00,  1.56s/it]\n"
     ]
    },
    {
     "name": "stdout",
     "output_type": "stream",
     "text": [
      "EVALUATE: eval_it 801/1002 | noise_prediction_loss:+0.5013 | reconstruction_loss:+0.1339\n"
     ]
    },
    {
     "name": "stderr",
     "output_type": "stream",
     "text": [
      "train_inner_loop: 100%|██████████| 64/64 [00:00<00:00, 78.83it/s]\n"
     ]
    },
    {
     "name": "stdout",
     "output_type": "stream",
     "text": [
      "train_it 851/1002 | lr:5.00e-05 | noise_prediction_loss:+0.5110\n"
     ]
    },
    {
     "name": "stderr",
     "output_type": "stream",
     "text": [
      "train_inner_loop: 100%|██████████| 64/64 [00:00<00:00, 85.56it/s]\n"
     ]
    },
    {
     "name": "stdout",
     "output_type": "stream",
     "text": [
      "train_it 901/1002 | lr:5.00e-05 | noise_prediction_loss:+0.5001\n"
     ]
    },
    {
     "name": "stderr",
     "output_type": "stream",
     "text": [
      "train_inner_loop: 100%|██████████| 64/64 [00:00<00:00, 90.72it/s]\n"
     ]
    },
    {
     "name": "stdout",
     "output_type": "stream",
     "text": [
      "train_it 951/1002 | lr:5.00e-05 | noise_prediction_loss:+0.4905\n"
     ]
    },
    {
     "name": "stderr",
     "output_type": "stream",
     "text": [
      "train_inner_loop: 100%|██████████| 64/64 [00:00<00:00, 81.59it/s]\n"
     ]
    },
    {
     "name": "stdout",
     "output_type": "stream",
     "text": [
      "train_it 1001/1002 | lr:4.95e-05 | noise_prediction_loss:+0.5194\n",
      "Saved weights and losses on iteration 1000\n"
     ]
    },
    {
     "name": "stderr",
     "output_type": "stream",
     "text": [
      "eval_inner_loop: 100%|██████████| 64/64 [01:40<00:00,  1.57s/it]\n"
     ]
    },
    {
     "name": "stdout",
     "output_type": "stream",
     "text": [
      "EVALUATE: eval_it 1001/1002 | noise_prediction_loss:+0.5003 | reconstruction_loss:+0.1315\n",
      "Saved weights and losses on iteration 1001\n"
     ]
    }
   ],
   "source": [
    "from i2sb.runner import Runner\n",
    "\n",
    "# build runner\n",
    "run = Runner(opt)\n",
    "# print(run.net)\n",
    "\n",
    "# train\n",
    "train_loss, eval_loss = run.train(opt, train, val)\n"
   ]
  },
  {
   "cell_type": "code",
   "execution_count": 7,
   "metadata": {},
   "outputs": [
    {
     "data": {
      "text/plain": [
       "678"
      ]
     },
     "execution_count": 7,
     "metadata": {},
     "output_type": "execute_result"
    }
   ],
   "source": [
    "del run\n",
    "del train, val\n",
    "gc.collect()"
   ]
  },
  {
   "cell_type": "code",
   "execution_count": 8,
   "metadata": {},
   "outputs": [],
   "source": [
    "t_noise_pred_l = np.load('results/test/train_losses.npy')\n",
    "ti = np.arange(0, len(t_noise_pred_l))\n",
    "\n",
    "e = np.load('results/test/eval_losses.npy')\n",
    "ei = e[:, 0].astype(int)\n",
    "e_noise_pred_l = e[:, 1]\n",
    "e_reconstruction_l = e[:, 2]"
   ]
  },
  {
   "cell_type": "code",
   "execution_count": 9,
   "metadata": {},
   "outputs": [
    {
     "data": {
      "image/png": "[encoded data removed]",
      "text/plain": [
       "<Figure size 1000x600 with 1 Axes>"
      ]
     },
     "metadata": {},
     "output_type": "display_data"
    }
   ],
   "source": [
    "plt.figure(figsize=(10, 6))\n",
    "plt.plot(ti, t_noise_pred_l, label='Train Noise Loss', linewidth=1)\n",
    "plt.plot(ei, e_noise_pred_l, label='Eval Noise Loss', linewidth=1)\n",
    "plt.plot(ei, e_reconstruction_l, label='Eval Reconstruction Loss', linewidth=1)\n",
    "plt.xlabel('Iteration')\n",
    "plt.ylabel('Avg. Loss')\n",
    "plt.xlim(left=0)\n",
    "plt.ylim(bottom=0)\n",
    "plt.title('Training vs. Evaluation Loss')\n",
    "plt.legend()\n",
    "plt.grid(True)\n",
    "plt.tight_layout()\n",
    "plt.show()"
   ]
  },
  {
   "cell_type": "code",
   "execution_count": 10,
   "metadata": {},
   "outputs": [
    {
     "data": {
      "image/png": "[encoded data removed]",
      "text/plain": [
       "<Figure size 1000x600 with 1 Axes>"
      ]
     },
     "metadata": {},
     "output_type": "display_data"
    }
   ],
   "source": [
    "mask_t = ti > 100\n",
    "mask_e = ei > 100\n",
    "\n",
    "ti_masked = ti[mask_t]\n",
    "t_noise_pred_l_masked = t_noise_pred_l[mask_t]\n",
    "ei_masked = ei[mask_e]\n",
    "e_noise_pred_l_masked = e_noise_pred_l[mask_e]\n",
    "e_reconstruction_l_masked = e_reconstruction_l[mask_e]\n",
    "\n",
    "plt.figure(figsize=(10, 6))\n",
    "plt.plot(ti_masked, t_noise_pred_l_masked, label='Train Noise Loss', linewidth=1)\n",
    "plt.plot(ei_masked, e_noise_pred_l_masked, label='Eval Noise Loss', linewidth=1)\n",
    "plt.plot(ei_masked, e_reconstruction_l_masked, label='Eval Reconstruction Loss', linewidth=1)\n",
    "plt.xlabel('Iteration')\n",
    "plt.ylabel('Avg. Loss')\n",
    "plt.xlim(left=0)\n",
    "plt.ylim(bottom=0)\n",
    "plt.title('Training vs. Evaluation Loss')\n",
    "plt.legend()\n",
    "plt.grid(True)\n",
    "plt.tight_layout()\n",
    "plt.show()"
   ]
  },
  {
   "cell_type": "code",
   "execution_count": 11,
   "metadata": {},
   "outputs": [],
   "source": [
    "# # Image transition plotter\n",
    "# # source: https://pytorch.org/vision/stable/auto_examples/plot_transforms.html#sphx-glr-auto-examples-plot-transforms-py\n",
    "\n",
    "# torch.manual_seed(opt.seed)\n",
    "# def plot_images(imgs, with_orig=False, row_title=None, **imshow_kwargs):\n",
    "#     if not isinstance(imgs[0], list):\n",
    "#         # Make a 2d grid even if there's just 1 row\n",
    "#         imgs = [imgs]\n",
    "\n",
    "#     num_rows = len(imgs)\n",
    "#     num_cols = len(imgs[0]) + with_orig\n",
    "#     _, axs = plt.subplots(figsize=(200,200), nrows=num_rows, ncols=num_cols, squeeze=False)\n",
    "#     for row_idx, row in enumerate(imgs):\n",
    "#         for col_idx, img in enumerate(row):\n",
    "#             ax = axs[row_idx, col_idx]\n",
    "#             ax.imshow(np.asarray(img), **imshow_kwargs)\n",
    "#             ax.set(xticklabels=[], yticklabels=[], xticks=[], yticks=[])\n",
    "\n",
    "#     if with_orig:\n",
    "#         axs[0, 0].set(title='Original image')\n",
    "#         axs[0, 0].title.set_size(8)\n",
    "#     if row_title is not None:\n",
    "#         for row_idx in range(num_rows):\n",
    "#             axs[row_idx, 0].set(ylabel=row_title[row_idx])\n",
    "\n",
    "#     plt.tight_layout()"
   ]
  }
 ],
 "metadata": {
  "kernelspec": {
   "display_name": ".venv",
   "language": "python",
   "name": "python3"
  },
  "language_info": {
   "codemirror_mode": {
    "name": "ipython",
    "version": 3
   },
   "file_extension": ".py",
   "mimetype": "text/x-python",
   "name": "python",
   "nbconvert_exporter": "python",
   "pygments_lexer": "ipython3",
   "version": "3.13.1"
  }
 },
 "nbformat": 4,
 "nbformat_minor": 2
}
