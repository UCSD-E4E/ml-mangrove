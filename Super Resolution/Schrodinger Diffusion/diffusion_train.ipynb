{
 "cells": [
  {
   "cell_type": "code",
   "execution_count": 1,
   "metadata": {},
   "outputs": [],
   "source": [
    "import os\n",
    "import gc\n",
    "import sys\n",
    "import torch\n",
    "import matplotlib.pyplot as plt\n",
    "import numpy as np\n",
    "from torch.utils.data import ConcatDataset, random_split, DataLoader\n",
    "from Datasets import *\n",
    "\n",
    "SEED = 1234\n",
    "torch.manual_seed(SEED)\n",
    "np.random.seed(SEED)\n",
    "\n",
    "# Optional (for reproducibility in CUDA):\n",
    "torch.cuda.manual_seed_all(SEED)\n",
    "torch.backends.cudnn.deterministic = True\n",
    "torch.backends.cudnn.benchmark = False"
   ]
  },
  {
   "cell_type": "code",
   "execution_count": 2,
   "metadata": {},
   "outputs": [],
   "source": [
    "# plot train and evaluation loss over iterations. option to specifiy first plotted iteration\n",
    "def plot_train_eval_loss(train_loss_path, eval_loss_path, start_iteration = 0):\n",
    "    train_loss_arr = np.load(train_loss_path) # array of noise pred loss values\n",
    "    eval_loss_table = np.load(eval_loss_path) # table of iteration, noise pred loss, reconstruction loss\n",
    "\n",
    "    train_x = np.arange(0, len(train_loss_arr))\n",
    "    train_noise_pred_loss = train_loss_arr\n",
    "\n",
    "    eval_x = eval_loss_table[:, 0].astype(int)\n",
    "    eval_noise_pred_loss = eval_loss_table[:, 1]\n",
    "    eval_reconstruction_loss = eval_loss_table[:, 2]\n",
    "\n",
    "    if start_iteration > 0:\n",
    "      mask_train = train_x >= start_iteration\n",
    "      mask_eval = eval_x >= start_iteration\n",
    "\n",
    "      train_x = train_x[mask_train]\n",
    "      train_noise_pred_loss = train_noise_pred_loss[mask_train]\n",
    "\n",
    "      eval_x = eval_x[mask_eval]\n",
    "      eval_noise_pred_loss = eval_noise_pred_loss[mask_eval]\n",
    "      eval_reconstruction_loss = eval_reconstruction_loss[mask_eval]\n",
    "    \n",
    "    plt.figure(figsize=(10, 6))\n",
    "    plt.plot(train_x, train_noise_pred_loss, label='Train Noise Pred Loss', linewidth=1)\n",
    "    plt.plot(eval_x, eval_noise_pred_loss, label='Eval Noise Pred Loss', linewidth=1)\n",
    "    plt.plot(eval_x, eval_reconstruction_loss, label='Eval Reconstruction Loss', linewidth=1)\n",
    "    plt.xlabel('Train Iteration')\n",
    "    plt.ylabel('Avg. Loss')\n",
    "    plt.xlim(left=0)\n",
    "    plt.ylim(bottom=0)\n",
    "    plt.title('Train Iteration vs Avg. Loss')\n",
    "    plt.legend()\n",
    "    plt.grid(True)\n",
    "    plt.tight_layout()\n",
    "    plt.show()"
   ]
  },
  {
   "cell_type": "code",
   "execution_count": 3,
   "metadata": {},
   "outputs": [
    {
     "name": "stdout",
     "output_type": "stream",
     "text": [
      "Using Apple Metal Performance Shaders (MPS) device.\n"
     ]
    }
   ],
   "source": [
    "# Setup the device to be used for training and evaluation\n",
    "if torch.cuda.is_available():\n",
    "    DEVICE = torch.device(\"cuda\")\n",
    "    x = torch.ones(1, device=DEVICE)\n",
    "    print(\"Using CUDA device.\")\n",
    "elif torch.backends.mps.is_available():\n",
    "    DEVICE = torch.device(\"mps\")\n",
    "    x = torch.ones(1, device=DEVICE)\n",
    "    print(\"Using Apple Metal Performance Shaders (MPS) device.\")\n",
    "else:\n",
    "    DEVICE = torch.device(\"cpu\")\n",
    "    print(\"No GPU found. Defaulting to CPU.\")\n",
    "\n",
    "RGB_LATENT_PATHS = [\n",
    "  'data/one_meter_naip/224final_naip_latent_dataset_drone_V1_512.npy'\n",
    "]\n",
    "SATELLITE_LATENT_PATHS = [\n",
    "  'data/one_meter_naip/224final_naip_latent_dataset_satellite_V1_512.npy'\n",
    "]\n",
    "\n",
    "INTERVAL = 100 # number of reconstruction time intervals\n",
    "NUM_ITR = 1002 # number of train iterations\n",
    "BATCH_SIZE = 1024\n",
    "LR = 4e-4"
   ]
  },
  {
   "cell_type": "markdown",
   "metadata": {},
   "source": [
    "# Config"
   ]
  },
  {
   "cell_type": "code",
   "execution_count": 4,
   "metadata": {},
   "outputs": [],
   "source": [
    "from utils import JupyterArgParser\n",
    "from pathlib import Path\n",
    "\n",
    "# ========= global settings =========\n",
    "# Taken from i2sb paper with minor changes\n",
    "\n",
    "RESULT_DIR = Path(\"results\")\n",
    "\n",
    "# --------------- basic ---------------\n",
    "parser = JupyterArgParser()\n",
    "parser.add_argument(\"--seed\",           type=int,   default=0)\n",
    "parser.add_argument(\"--name\",           type=str,   default=None,        help=\"experiment ID\")\n",
    "parser.add_argument(\"--ckpt\",           type=str,   default=None,        help=\"resumed checkpoint name\")\n",
    "parser.add_argument(\"--device\",         type=str,   default=DEVICE,      help=\"type of device to use for training\")\n",
    "parser.add_argument(\"--gpu\",            type=int,   default=None,        help=\"set only if you wish to run on a particular GPU\")\n",
    "\n",
    "# --------------- model ---------------\n",
    "parser.add_argument(\"--image-size\",     type=int,   default=224)\n",
    "parser.add_argument(\"--t0\",             type=float, default=1e-4,        help=\"sigma start time in network parametrization\")\n",
    "parser.add_argument(\"--T\",              type=float, default=1.,          help=\"sigma end time in network parametrization\")\n",
    "parser.add_argument(\"--interval\",       type=int,   default=INTERVAL,        help=\"number of interval\")\n",
    "parser.add_argument(\"--beta-max\",       type=float, default=0.3,         help=\"max diffusion for the diffusion model\")\n",
    "parser.add_argument(\"--beta-schedule\",  type=str,   default=\"i2sb\",    help=\"schedule for beta\")\n",
    "parser.add_argument(\"--ot-ode\",         action=\"store_true\",             help=\"use OT-ODE model\")\n",
    "parser.add_argument(\"--clip-denoise\",   action=\"store_true\",             help=\"clamp predicted image to [-1,1] at each\")\n",
    "parser.add_argument(\"--use-fp16\",       action=\"store_true\",             help=\"use fp16 for training\")\n",
    "parser.add_argument(\"diffusion-type\",   type=str,   default=\"schrodinger_bridge\",      help=\"type of diffusion model\")\n",
    "\n",
    "# --------------- optimizer and loss ---------------\n",
    "parser.add_argument(\"--batch-size\",     type=int,   default=BATCH_SIZE)\n",
    "parser.add_argument(\"--microbatch\",     type=int,   default=4,           help=\"accumulate gradient over microbatch until full batch-size\")\n",
    "parser.add_argument(\"--num-itr\",        type=int,   default=NUM_ITR,     help=\"training iteration\")\n",
    "parser.add_argument(\"--lr\",             type=float, default=LR,        help=\"learning rate\")\n",
    "parser.add_argument(\"--lr-gamma\",       type=float, default=0.99,        help=\"learning rate decay ratio\")\n",
    "parser.add_argument(\"--lr-step\",        type=int,   default=1000,        help=\"learning rate decay step size\")\n",
    "parser.add_argument(\"--l2-norm\",        type=float, default=0.0)\n",
    "parser.add_argument(\"--ema\",            type=float, default=0.99)\n",
    "\n",
    "# --------------- path and logging ---------------\n",
    "parser.add_argument(\"--dataset-dir\",    type=Path,  default=\"/dataset\",  help=\"path to LMDB dataset\")\n",
    "parser.add_argument(\"--log-dir\",        type=Path,  default=\".log\",      help=\"path to log std outputs and writer data\")\n",
    "parser.add_argument(\"--log-writer\",     type=str,   default=None,        help=\"log writer: can be tensorbard, wandb, or None\")\n",
    "parser.add_argument(\"--wandb-api-key\",  type=str,   default=None,        help=\"unique API key of your W&B account; see https://wandb.ai/authorize\")\n",
    "parser.add_argument(\"--wandb-user\",     type=str,   default=None,        help=\"user name of your W&B account\")\n",
    "parser.add_argument(\"--ckpt-path\",      type=Path,  default=None,        help=\"path to save checkpoints\")\n",
    "parser.add_argument(\"--load\",           type=Path,  default=None,        help=\"path to load checkpoints\")\n",
    "parser.add_argument(\"--unet_path\",      type=str,   default=None,        help=\"path of UNet model to load for training\")\n",
    "\n",
    "# --------------- distributed ---------------\n",
    "parser.add_argument(\"--local-rank\",     type=int,   default=0)\n",
    "parser.add_argument(\"--global-rank\",    type=int,   default=0)\n",
    "parser.add_argument(\"--global-size\",    type=int,   default=1)\n",
    "\n",
    "opt = parser.get_options()\n",
    "# ========= path handle =========\n",
    "opt.name = \"test\"\n",
    "os.makedirs(opt.log_dir, exist_ok=True)\n",
    "opt.ckpt_path = RESULT_DIR / opt.name if opt.name else RESULT_DIR / \"temp\"\n",
    "os.makedirs(opt.ckpt_path, exist_ok=True)\n",
    "\n",
    "if opt.ckpt:\n",
    "    ckpt_file = RESULT_DIR / opt.ckpt / \"latest.pt\"\n",
    "    assert ckpt_file.exists()\n",
    "    opt.load = ckpt_file\n",
    "else:\n",
    "    opt.load = None\n",
    "\n",
    "# ========= auto assert =========\n",
    "assert opt.batch_size % opt.microbatch == 0, f\"{opt.batch_size=} is not dividable by {opt.microbatch}!\"\n",
    "\n"
   ]
  },
  {
   "cell_type": "markdown",
   "metadata": {},
   "source": [
    "# Prepare Data"
   ]
  },
  {
   "cell_type": "code",
   "execution_count": 5,
   "metadata": {},
   "outputs": [
    {
     "name": "stdout",
     "output_type": "stream",
     "text": [
      "Combined dataset has length=45540\n",
      "Train dataset length: 40986. Evaluate dataset length:4554\n"
     ]
    }
   ],
   "source": [
    "# Dataset creation from list of npy files\n",
    "\n",
    "subdatasets = []\n",
    "\n",
    "for hr_f, lr_f in zip(RGB_LATENT_PATHS, SATELLITE_LATENT_PATHS):\n",
    "  hr_mem = np.load(hr_f, mmap_mode='r')\n",
    "  lr_mem = np.load(lr_f, mmap_mode='r')\n",
    "  subdatasets.append(\n",
    "    LatentSpaceDataset(hr_mem, lr_mem, transform=None)\n",
    "  )\n",
    "\n",
    "full_dataset = ConcatDataset(subdatasets) # wrapper that routes indices to sub-datasets\n",
    "full_length = len(full_dataset)\n",
    "print(f\"Combined dataset has length={full_length}\")\n",
    "n_train = int(0.9*full_length)\n",
    "n_val = full_length - n_train\n",
    "\n",
    "train, val = random_split(\n",
    "    full_dataset,\n",
    "    [n_train, n_val],\n",
    "    generator=torch.Generator().manual_seed(1234)\n",
    ") # returns 2 subset objects. each subset object holds list of indices into full\n",
    "\n",
    "print(f\"Train dataset length: {len(train)}. Evaluate dataset length:{len(val)}\")"
   ]
  },
  {
   "cell_type": "code",
   "execution_count": 6,
   "metadata": {},
   "outputs": [
    {
     "name": "stderr",
     "output_type": "stream",
     "text": [
      "/Users/evanwu/ml-mangrove/.venv/lib/python3.13/site-packages/tqdm/auto.py:21: TqdmWarning: IProgress not found. Please update jupyter and ipywidgets. See https://ipywidgets.readthedocs.io/en/stable/user_install.html\n",
      "  from .autonotebook import tqdm as notebook_tqdm\n"
     ]
    },
    {
     "name": "stdout",
     "output_type": "stream",
     "text": [
      "dummy input: latent space channels=512\n",
      "Built schrodinger_bridge Diffusion Model with 100 steps and i2sb beta schedule!\n",
      "encoder.0.weight                          requires_grad=False\n",
      "encoder.1.weight                          requires_grad=False\n",
      "encoder.1.bias                            requires_grad=False\n",
      "encoder.4.0.conv1.weight                  requires_grad=False\n",
      "encoder.4.0.bn1.weight                    requires_grad=False\n",
      "encoder.4.0.bn1.bias                      requires_grad=False\n",
      "encoder.4.0.conv2.weight                  requires_grad=False\n",
      "encoder.4.0.bn2.weight                    requires_grad=False\n",
      "encoder.4.0.bn2.bias                      requires_grad=False\n",
      "encoder.4.1.conv1.weight                  requires_grad=False\n",
      "encoder.4.1.bn1.weight                    requires_grad=False\n",
      "encoder.4.1.bn1.bias                      requires_grad=False\n",
      "encoder.4.1.conv2.weight                  requires_grad=False\n",
      "encoder.4.1.bn2.weight                    requires_grad=False\n",
      "encoder.4.1.bn2.bias                      requires_grad=False\n",
      "encoder.5.0.conv1.weight                  requires_grad=False\n",
      "encoder.5.0.bn1.weight                    requires_grad=False\n",
      "encoder.5.0.bn1.bias                      requires_grad=False\n",
      "encoder.5.0.conv2.weight                  requires_grad=False\n",
      "encoder.5.0.bn2.weight                    requires_grad=False\n",
      "encoder.5.0.bn2.bias                      requires_grad=False\n",
      "encoder.5.0.downsample.0.weight           requires_grad=False\n",
      "encoder.5.0.downsample.1.weight           requires_grad=False\n",
      "encoder.5.0.downsample.1.bias             requires_grad=False\n",
      "encoder.5.1.conv1.weight                  requires_grad=False\n",
      "encoder.5.1.bn1.weight                    requires_grad=False\n",
      "encoder.5.1.bn1.bias                      requires_grad=False\n",
      "encoder.5.1.conv2.weight                  requires_grad=False\n",
      "encoder.5.1.bn2.weight                    requires_grad=False\n",
      "encoder.5.1.bn2.bias                      requires_grad=False\n",
      "encoder.6.0.conv1.weight                  requires_grad=False\n",
      "encoder.6.0.bn1.weight                    requires_grad=False\n",
      "encoder.6.0.bn1.bias                      requires_grad=False\n",
      "encoder.6.0.conv2.weight                  requires_grad=False\n",
      "encoder.6.0.bn2.weight                    requires_grad=False\n",
      "encoder.6.0.bn2.bias                      requires_grad=False\n",
      "encoder.6.0.downsample.0.weight           requires_grad=False\n",
      "encoder.6.0.downsample.1.weight           requires_grad=False\n",
      "encoder.6.0.downsample.1.bias             requires_grad=False\n",
      "encoder.6.1.conv1.weight                  requires_grad=False\n",
      "encoder.6.1.bn1.weight                    requires_grad=False\n",
      "encoder.6.1.bn1.bias                      requires_grad=False\n",
      "encoder.6.1.conv2.weight                  requires_grad=False\n",
      "encoder.6.1.bn2.weight                    requires_grad=False\n",
      "encoder.6.1.bn2.bias                      requires_grad=False\n",
      "encoder.7.0.conv1.weight                  requires_grad=False\n",
      "encoder.7.0.bn1.weight                    requires_grad=False\n",
      "encoder.7.0.bn1.bias                      requires_grad=False\n",
      "encoder.7.0.conv2.weight                  requires_grad=False\n",
      "encoder.7.0.bn2.weight                    requires_grad=False\n",
      "encoder.7.0.bn2.bias                      requires_grad=False\n",
      "encoder.7.0.downsample.0.weight           requires_grad=False\n",
      "encoder.7.0.downsample.1.weight           requires_grad=False\n",
      "encoder.7.0.downsample.1.bias             requires_grad=False\n",
      "encoder.7.1.conv1.weight                  requires_grad=False\n",
      "encoder.7.1.bn1.weight                    requires_grad=False\n",
      "encoder.7.1.bn1.bias                      requires_grad=False\n",
      "encoder.7.1.conv2.weight                  requires_grad=False\n",
      "encoder.7.1.bn2.weight                    requires_grad=False\n",
      "encoder.7.1.bn2.bias                      requires_grad=False\n",
      "center.decoder.0.weight                   requires_grad=False\n",
      "center.decoder.0.bias                     requires_grad=False\n",
      "center.decoder.1.weight                   requires_grad=False\n",
      "center.decoder.1.bias                     requires_grad=False\n",
      "center.decoder.4.weight                   requires_grad=False\n",
      "center.decoder.4.bias                     requires_grad=False\n",
      "center.decoder.5.weight                   requires_grad=False\n",
      "center.decoder.5.bias                     requires_grad=False\n",
      "center.decoder.7.weight                   requires_grad=False\n",
      "center.decoder.7.bias                     requires_grad=False\n",
      "decoder.0.decoder.0.weight                requires_grad=False\n",
      "decoder.0.decoder.0.bias                  requires_grad=False\n",
      "decoder.0.decoder.1.weight                requires_grad=False\n",
      "decoder.0.decoder.1.bias                  requires_grad=False\n",
      "decoder.0.decoder.4.weight                requires_grad=False\n",
      "decoder.0.decoder.4.bias                  requires_grad=False\n",
      "decoder.0.decoder.5.weight                requires_grad=False\n",
      "decoder.0.decoder.5.bias                  requires_grad=False\n",
      "decoder.0.decoder.7.weight                requires_grad=False\n",
      "decoder.0.decoder.7.bias                  requires_grad=False\n",
      "decoder.1.upsampler.0.weight              requires_grad=False\n",
      "decoder.1.upsampler.0.bias                requires_grad=False\n",
      "decoder.1.upsampler.1.weight              requires_grad=False\n",
      "decoder.1.upsampler.1.bias                requires_grad=False\n",
      "decoder.1.upsampler.3.weight              requires_grad=False\n",
      "decoder.1.upsampler.3.bias                requires_grad=False\n",
      "decoder.1.upsampler.4.weight              requires_grad=False\n",
      "decoder.1.upsampler.4.bias                requires_grad=False\n",
      "decoder.1.upsampler.6.weight              requires_grad=False\n",
      "decoder.1.upsampler.6.bias                requires_grad=False\n",
      "decoder.2.upsampler.0.weight              requires_grad=False\n",
      "decoder.2.upsampler.0.bias                requires_grad=False\n",
      "decoder.2.upsampler.1.weight              requires_grad=False\n",
      "decoder.2.upsampler.1.bias                requires_grad=False\n",
      "decoder.2.upsampler.3.weight              requires_grad=False\n",
      "decoder.2.upsampler.3.bias                requires_grad=False\n",
      "decoder.2.upsampler.4.weight              requires_grad=False\n",
      "decoder.2.upsampler.4.bias                requires_grad=False\n",
      "decoder.2.upsampler.6.weight              requires_grad=False\n",
      "decoder.2.upsampler.6.bias                requires_grad=False\n",
      "decoder.3.upsampler.0.weight              requires_grad=False\n",
      "decoder.3.upsampler.0.bias                requires_grad=False\n",
      "decoder.3.upsampler.1.weight              requires_grad=False\n",
      "decoder.3.upsampler.1.bias                requires_grad=False\n",
      "decoder.3.upsampler.3.weight              requires_grad=False\n",
      "decoder.3.upsampler.3.bias                requires_grad=False\n",
      "decoder.3.upsampler.4.weight              requires_grad=False\n",
      "decoder.3.upsampler.4.bias                requires_grad=False\n",
      "decoder.3.upsampler.6.weight              requires_grad=False\n",
      "decoder.3.upsampler.6.bias                requires_grad=False\n",
      "decoder.5.weight                          requires_grad=False\n",
      "decoder.5.bias                            requires_grad=False\n",
      "diffuser.timestep_embed.0.weight          requires_grad=True\n",
      "diffuser.timestep_embed.0.bias            requires_grad=True\n",
      "diffuser.timestep_embed.2.weight          requires_grad=True\n",
      "diffuser.timestep_embed.2.bias            requires_grad=True\n",
      "diffuser.diffusion_step.0.weight          requires_grad=True\n",
      "diffuser.diffusion_step.0.bias            requires_grad=True\n",
      "diffuser.diffusion_step.2.weight          requires_grad=True\n",
      "diffuser.diffusion_step.2.bias            requires_grad=True\n"
     ]
    }
   ],
   "source": [
    "from i2sb.runner import Runner\n",
    "\n",
    "# build runner\n",
    "run = Runner(opt)\n",
    "# print(run.net)\n",
    "\n",
    "# for sanity, freeze all layer weights of run.net except for diffusion layer\n",
    "for name, param in run.net.named_parameters():\n",
    "    if not name.startswith('diffuser.'):\n",
    "        param.requires_grad = False\n",
    "\n",
    "# check trainable parameters\n",
    "for name, param in run.net.named_parameters():\n",
    "    print(f\"{name:40s}  requires_grad={param.requires_grad}\")\n"
   ]
  },
  {
   "cell_type": "code",
   "execution_count": 7,
   "metadata": {},
   "outputs": [
    {
     "name": "stderr",
     "output_type": "stream",
     "text": [
      "train_inner_loop:   0%|          | 0/256 [00:00<?, ?it/s]/Users/evanwu/ml-mangrove/.venv/lib/python3.13/site-packages/torch/utils/data/_utils/collate.py:285: UserWarning: The given NumPy array is not writable, and PyTorch does not support non-writable tensors. This means writing to this tensor will result in undefined behavior. You may want to copy the array to protect its data or make it writable before converting it to a tensor. This type of warning will be suppressed for the rest of this program. (Triggered internally at /Users/runner/work/pytorch/pytorch/pytorch/torch/csrc/utils/tensor_numpy.cpp:209.)\n",
      "  return collate([torch.as_tensor(b) for b in batch], collate_fn_map=collate_fn_map)\n",
      "train_inner_loop: 100%|██████████| 256/256 [00:02<00:00, 103.69it/s]\n"
     ]
    },
    {
     "name": "stdout",
     "output_type": "stream",
     "text": [
      "train_it 1/1002 | lr:4.00e-04 | noise_prediction_loss:+1.5389\n",
      "Saved weights and losses on iteration 0\n"
     ]
    },
    {
     "name": "stderr",
     "output_type": "stream",
     "text": [
      "eval_inner_loop: 100%|██████████| 256/256 [00:34<00:00,  7.38it/s]\n"
     ]
    },
    {
     "name": "stdout",
     "output_type": "stream",
     "text": [
      "EVALUATE: eval_it 1/1002 | noise_prediction_loss:+1.4775 | reconstruction_loss:+0.0886\n"
     ]
    },
    {
     "name": "stderr",
     "output_type": "stream",
     "text": [
      "train_inner_loop: 100%|██████████| 256/256 [00:02<00:00, 121.64it/s]\n"
     ]
    },
    {
     "name": "stdout",
     "output_type": "stream",
     "text": [
      "train_it 2/1002 | lr:4.00e-04 | noise_prediction_loss:+1.4699\n"
     ]
    },
    {
     "name": "stderr",
     "output_type": "stream",
     "text": [
      "train_inner_loop: 100%|██████████| 256/256 [00:02<00:00, 120.59it/s]\n"
     ]
    },
    {
     "name": "stdout",
     "output_type": "stream",
     "text": [
      "train_it 3/1002 | lr:4.00e-04 | noise_prediction_loss:+0.6968\n"
     ]
    },
    {
     "name": "stderr",
     "output_type": "stream",
     "text": [
      "train_inner_loop: 100%|██████████| 256/256 [00:02<00:00, 121.24it/s]\n"
     ]
    },
    {
     "name": "stdout",
     "output_type": "stream",
     "text": [
      "train_it 4/1002 | lr:4.00e-04 | noise_prediction_loss:+0.6271\n"
     ]
    },
    {
     "name": "stderr",
     "output_type": "stream",
     "text": [
      "train_inner_loop: 100%|██████████| 256/256 [00:02<00:00, 122.46it/s]\n"
     ]
    },
    {
     "name": "stdout",
     "output_type": "stream",
     "text": [
      "train_it 5/1002 | lr:4.00e-04 | noise_prediction_loss:+0.6181\n"
     ]
    },
    {
     "name": "stderr",
     "output_type": "stream",
     "text": [
      "train_inner_loop: 100%|██████████| 256/256 [00:02<00:00, 115.19it/s]\n"
     ]
    },
    {
     "name": "stdout",
     "output_type": "stream",
     "text": [
      "train_it 6/1002 | lr:4.00e-04 | noise_prediction_loss:+0.6151\n"
     ]
    },
    {
     "name": "stderr",
     "output_type": "stream",
     "text": [
      "train_inner_loop: 100%|██████████| 256/256 [00:02<00:00, 124.90it/s]\n"
     ]
    },
    {
     "name": "stdout",
     "output_type": "stream",
     "text": [
      "train_it 7/1002 | lr:4.00e-04 | noise_prediction_loss:+0.5927\n"
     ]
    },
    {
     "name": "stderr",
     "output_type": "stream",
     "text": [
      "train_inner_loop: 100%|██████████| 256/256 [00:02<00:00, 123.26it/s]\n"
     ]
    },
    {
     "name": "stdout",
     "output_type": "stream",
     "text": [
      "train_it 8/1002 | lr:4.00e-04 | noise_prediction_loss:+0.6098\n"
     ]
    },
    {
     "name": "stderr",
     "output_type": "stream",
     "text": [
      "train_inner_loop: 100%|██████████| 256/256 [00:02<00:00, 122.52it/s]\n"
     ]
    },
    {
     "name": "stdout",
     "output_type": "stream",
     "text": [
      "train_it 9/1002 | lr:4.00e-04 | noise_prediction_loss:+0.6147\n"
     ]
    },
    {
     "name": "stderr",
     "output_type": "stream",
     "text": [
      "train_inner_loop: 100%|██████████| 256/256 [00:02<00:00, 125.24it/s]\n"
     ]
    },
    {
     "name": "stdout",
     "output_type": "stream",
     "text": [
      "train_it 10/1002 | lr:4.00e-04 | noise_prediction_loss:+0.6091\n"
     ]
    },
    {
     "name": "stderr",
     "output_type": "stream",
     "text": [
      "train_inner_loop: 100%|██████████| 256/256 [00:03<00:00, 65.78it/s]\n"
     ]
    },
    {
     "name": "stdout",
     "output_type": "stream",
     "text": [
      "train_it 51/1002 | lr:4.00e-04 | noise_prediction_loss:+0.5898\n"
     ]
    },
    {
     "name": "stderr",
     "output_type": "stream",
     "text": [
      "train_inner_loop: 100%|██████████| 256/256 [00:03<00:00, 80.62it/s]\n"
     ]
    },
    {
     "name": "stdout",
     "output_type": "stream",
     "text": [
      "train_it 101/1002 | lr:4.00e-04 | noise_prediction_loss:+0.5820\n"
     ]
    },
    {
     "name": "stderr",
     "output_type": "stream",
     "text": [
      "train_inner_loop: 100%|██████████| 256/256 [00:04<00:00, 56.00it/s]\n"
     ]
    },
    {
     "name": "stdout",
     "output_type": "stream",
     "text": [
      "train_it 151/1002 | lr:4.00e-04 | noise_prediction_loss:+0.5740\n"
     ]
    },
    {
     "name": "stderr",
     "output_type": "stream",
     "text": [
      "train_inner_loop: 100%|██████████| 256/256 [00:03<00:00, 76.45it/s]\n"
     ]
    },
    {
     "name": "stdout",
     "output_type": "stream",
     "text": [
      "train_it 201/1002 | lr:4.00e-04 | noise_prediction_loss:+0.5689\n"
     ]
    },
    {
     "name": "stderr",
     "output_type": "stream",
     "text": [
      "eval_inner_loop: 100%|██████████| 256/256 [00:59<00:00,  4.34it/s]\n"
     ]
    },
    {
     "name": "stdout",
     "output_type": "stream",
     "text": [
      "EVALUATE: eval_it 201/1002 | noise_prediction_loss:+0.5719 | reconstruction_loss:+0.0073\n"
     ]
    },
    {
     "name": "stderr",
     "output_type": "stream",
     "text": [
      "train_inner_loop: 100%|██████████| 256/256 [00:03<00:00, 73.54it/s]\n"
     ]
    },
    {
     "name": "stdout",
     "output_type": "stream",
     "text": [
      "train_it 251/1002 | lr:4.00e-04 | noise_prediction_loss:+0.5810\n"
     ]
    },
    {
     "name": "stderr",
     "output_type": "stream",
     "text": [
      "train_inner_loop: 100%|██████████| 256/256 [00:05<00:00, 49.69it/s]\n"
     ]
    },
    {
     "name": "stdout",
     "output_type": "stream",
     "text": [
      "train_it 301/1002 | lr:4.00e-04 | noise_prediction_loss:+0.5578\n"
     ]
    },
    {
     "name": "stderr",
     "output_type": "stream",
     "text": [
      "train_inner_loop: 100%|██████████| 256/256 [00:04<00:00, 63.65it/s]\n"
     ]
    },
    {
     "name": "stdout",
     "output_type": "stream",
     "text": [
      "train_it 351/1002 | lr:4.00e-04 | noise_prediction_loss:+0.5498\n"
     ]
    },
    {
     "name": "stderr",
     "output_type": "stream",
     "text": [
      "train_inner_loop: 100%|██████████| 256/256 [00:04<00:00, 59.95it/s]\n"
     ]
    },
    {
     "name": "stdout",
     "output_type": "stream",
     "text": [
      "train_it 401/1002 | lr:4.00e-04 | noise_prediction_loss:+0.5609\n"
     ]
    },
    {
     "name": "stderr",
     "output_type": "stream",
     "text": [
      "eval_inner_loop: 100%|██████████| 256/256 [01:15<00:00,  3.41it/s]\n"
     ]
    },
    {
     "name": "stdout",
     "output_type": "stream",
     "text": [
      "EVALUATE: eval_it 401/1002 | noise_prediction_loss:+0.5565 | reconstruction_loss:+0.0066\n"
     ]
    },
    {
     "name": "stderr",
     "output_type": "stream",
     "text": [
      "train_inner_loop: 100%|██████████| 256/256 [00:04<00:00, 61.12it/s]\n"
     ]
    },
    {
     "name": "stdout",
     "output_type": "stream",
     "text": [
      "train_it 451/1002 | lr:4.00e-04 | noise_prediction_loss:+0.5687\n"
     ]
    },
    {
     "name": "stderr",
     "output_type": "stream",
     "text": [
      "train_inner_loop: 100%|██████████| 256/256 [00:04<00:00, 63.83it/s]\n"
     ]
    },
    {
     "name": "stdout",
     "output_type": "stream",
     "text": [
      "train_it 501/1002 | lr:4.00e-04 | noise_prediction_loss:+0.5690\n"
     ]
    },
    {
     "name": "stderr",
     "output_type": "stream",
     "text": [
      "train_inner_loop: 100%|██████████| 256/256 [00:04<00:00, 54.09it/s]\n"
     ]
    },
    {
     "name": "stdout",
     "output_type": "stream",
     "text": [
      "train_it 551/1002 | lr:4.00e-04 | noise_prediction_loss:+0.5529\n"
     ]
    },
    {
     "name": "stderr",
     "output_type": "stream",
     "text": [
      "train_inner_loop: 100%|██████████| 256/256 [00:06<00:00, 40.92it/s]\n"
     ]
    },
    {
     "name": "stdout",
     "output_type": "stream",
     "text": [
      "train_it 601/1002 | lr:4.00e-04 | noise_prediction_loss:+0.5653\n"
     ]
    },
    {
     "name": "stderr",
     "output_type": "stream",
     "text": [
      "eval_inner_loop: 100%|██████████| 256/256 [01:27<00:00,  2.94it/s]\n"
     ]
    },
    {
     "name": "stdout",
     "output_type": "stream",
     "text": [
      "EVALUATE: eval_it 601/1002 | noise_prediction_loss:+0.5511 | reconstruction_loss:+0.0068\n"
     ]
    },
    {
     "name": "stderr",
     "output_type": "stream",
     "text": [
      "train_inner_loop: 100%|██████████| 256/256 [00:04<00:00, 63.22it/s]\n"
     ]
    },
    {
     "name": "stdout",
     "output_type": "stream",
     "text": [
      "train_it 651/1002 | lr:4.00e-04 | noise_prediction_loss:+0.5521\n"
     ]
    },
    {
     "name": "stderr",
     "output_type": "stream",
     "text": [
      "train_inner_loop: 100%|██████████| 256/256 [00:04<00:00, 61.21it/s]\n"
     ]
    },
    {
     "name": "stdout",
     "output_type": "stream",
     "text": [
      "train_it 701/1002 | lr:4.00e-04 | noise_prediction_loss:+0.5600\n"
     ]
    },
    {
     "name": "stderr",
     "output_type": "stream",
     "text": [
      "train_inner_loop: 100%|██████████| 256/256 [00:04<00:00, 59.38it/s]\n"
     ]
    },
    {
     "name": "stdout",
     "output_type": "stream",
     "text": [
      "train_it 751/1002 | lr:4.00e-04 | noise_prediction_loss:+0.5675\n"
     ]
    },
    {
     "name": "stderr",
     "output_type": "stream",
     "text": [
      "train_inner_loop: 100%|██████████| 256/256 [00:04<00:00, 60.81it/s]\n"
     ]
    },
    {
     "name": "stdout",
     "output_type": "stream",
     "text": [
      "train_it 801/1002 | lr:4.00e-04 | noise_prediction_loss:+0.5434\n"
     ]
    },
    {
     "name": "stderr",
     "output_type": "stream",
     "text": [
      "eval_inner_loop: 100%|██████████| 256/256 [01:13<00:00,  3.47it/s]\n"
     ]
    },
    {
     "name": "stdout",
     "output_type": "stream",
     "text": [
      "EVALUATE: eval_it 801/1002 | noise_prediction_loss:+0.5606 | reconstruction_loss:+0.0065\n"
     ]
    },
    {
     "name": "stderr",
     "output_type": "stream",
     "text": [
      "train_inner_loop: 100%|██████████| 256/256 [00:03<00:00, 74.30it/s]\n"
     ]
    },
    {
     "name": "stdout",
     "output_type": "stream",
     "text": [
      "train_it 851/1002 | lr:4.00e-04 | noise_prediction_loss:+0.5477\n"
     ]
    },
    {
     "name": "stderr",
     "output_type": "stream",
     "text": [
      "train_inner_loop: 100%|██████████| 256/256 [00:04<00:00, 55.67it/s]\n"
     ]
    },
    {
     "name": "stdout",
     "output_type": "stream",
     "text": [
      "train_it 901/1002 | lr:4.00e-04 | noise_prediction_loss:+0.5674\n"
     ]
    },
    {
     "name": "stderr",
     "output_type": "stream",
     "text": [
      "train_inner_loop: 100%|██████████| 256/256 [00:04<00:00, 59.27it/s]\n"
     ]
    },
    {
     "name": "stdout",
     "output_type": "stream",
     "text": [
      "train_it 951/1002 | lr:4.00e-04 | noise_prediction_loss:+0.5429\n"
     ]
    },
    {
     "name": "stderr",
     "output_type": "stream",
     "text": [
      "train_inner_loop: 100%|██████████| 256/256 [00:03<00:00, 66.48it/s]\n"
     ]
    },
    {
     "name": "stdout",
     "output_type": "stream",
     "text": [
      "train_it 1001/1002 | lr:3.96e-04 | noise_prediction_loss:+0.5592\n",
      "Saved weights and losses on iteration 1000\n"
     ]
    },
    {
     "name": "stderr",
     "output_type": "stream",
     "text": [
      "eval_inner_loop: 100%|██████████| 256/256 [01:08<00:00,  3.73it/s]\n"
     ]
    },
    {
     "name": "stdout",
     "output_type": "stream",
     "text": [
      "EVALUATE: eval_it 1001/1002 | noise_prediction_loss:+0.5544 | reconstruction_loss:+0.0064\n",
      "Saved weights and losses on iteration 1001\n"
     ]
    }
   ],
   "source": [
    "train_loss, eval_loss = run.train(opt, train, val)"
   ]
  },
  {
   "cell_type": "code",
   "execution_count": 8,
   "metadata": {},
   "outputs": [],
   "source": [
    "# t_noise_pred_l = np.load('results/test/train_losses.npy')\n",
    "# ti = np.arange(0, len(t_noise_pred_l))\n",
    "\n",
    "# e = np.load('results/test/eval_losses.npy')\n",
    "# ei = e[:, 0].astype(int)\n",
    "# e_noise_pred_l = e[:, 1]\n",
    "# e_reconstruction_l = e[:, 2]"
   ]
  },
  {
   "cell_type": "code",
   "execution_count": 9,
   "metadata": {},
   "outputs": [
    {
     "data": {
      "image/png": "[encoded data removed]",
      "text/plain": [
       "<Figure size 1000x600 with 1 Axes>"
      ]
     },
     "metadata": {},
     "output_type": "display_data"
    }
   ],
   "source": [
    "plot_train_eval_loss(train_loss_path='results/test/train_losses.npy', eval_loss_path='results/test/eval_losses.npy', start_iteration = 0)"
   ]
  },
  {
   "cell_type": "code",
   "execution_count": 10,
   "metadata": {},
   "outputs": [
    {
     "data": {
      "image/png": "[encoded data removed]",
      "text/plain": [
       "<Figure size 1000x600 with 1 Axes>"
      ]
     },
     "metadata": {},
     "output_type": "display_data"
    }
   ],
   "source": [
    "plot_train_eval_loss(train_loss_path='results/test/train_losses.npy', eval_loss_path='results/test/eval_losses.npy', start_iteration = 100)"
   ]
  }
 ],
 "metadata": {
  "kernelspec": {
   "display_name": ".venv",
   "language": "python",
   "name": "python3"
  },
  "language_info": {
   "codemirror_mode": {
    "name": "ipython",
    "version": 3
   },
   "file_extension": ".py",
   "mimetype": "text/x-python",
   "name": "python",
   "nbconvert_exporter": "python",
   "pygments_lexer": "ipython3",
   "version": "3.13.1"
  }
 },
 "nbformat": 4,
 "nbformat_minor": 2
}
