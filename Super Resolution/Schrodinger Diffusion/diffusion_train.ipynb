{
 "cells": [
  {
   "cell_type": "code",
   "execution_count": 1,
   "metadata": {},
   "outputs": [],
   "source": [
    "import os\n",
    "import gc\n",
    "import sys\n",
    "import torch\n",
    "import matplotlib.pyplot as plt\n",
    "import numpy as np"
   ]
  },
  {
   "cell_type": "code",
   "execution_count": 2,
   "metadata": {},
   "outputs": [
    {
     "name": "stdout",
     "output_type": "stream",
     "text": [
      "Using Apple Metal Performance Shaders (MPS) device.\n"
     ]
    }
   ],
   "source": [
    "# Setup the device to be used for training and evaluation\n",
    "if torch.cuda.is_available():\n",
    "    DEVICE = torch.device(\"cuda\")\n",
    "    x = torch.ones(1, device=DEVICE)\n",
    "    print(\"Using CUDA device.\")\n",
    "elif torch.backends.mps.is_available():\n",
    "    DEVICE = torch.device(\"mps\")\n",
    "    x = torch.ones(1, device=DEVICE)\n",
    "    print(\"Using Apple Metal Performance Shaders (MPS) device.\")\n",
    "else:\n",
    "    DEVICE = torch.device(\"cpu\")\n",
    "    print(\"No GPU found. Defaulting to CPU.\")"
   ]
  },
  {
   "cell_type": "markdown",
   "metadata": {},
   "source": [
    "# Config"
   ]
  },
  {
   "cell_type": "code",
   "execution_count": 3,
   "metadata": {},
   "outputs": [],
   "source": [
    "from utils import JupyterArgParser\n",
    "from pathlib import Path\n",
    "\n",
    "# ========= global settings =========\n",
    "# Taken from i2sb paper with minor changes\n",
    "\n",
    "RESULT_DIR = Path(\"results\")\n",
    "\n",
    "# --------------- basic ---------------\n",
    "parser = JupyterArgParser()\n",
    "parser.add_argument(\"--seed\",           type=int,   default=0)\n",
    "parser.add_argument(\"--name\",           type=str,   default=None,        help=\"experiment ID\")\n",
    "parser.add_argument(\"--ckpt\",           type=str,   default=None,        help=\"resumed checkpoint name\")\n",
    "parser.add_argument(\"--device\",         type=str,   default=DEVICE,      help=\"type of device to use for training\")\n",
    "parser.add_argument(\"--gpu\",            type=int,   default=None,        help=\"set only if you wish to run on a particular GPU\")\n",
    "\n",
    "# --------------- model ---------------\n",
    "parser.add_argument(\"--image-size\",     type=int,   default=224)\n",
    "parser.add_argument(\"--t0\",             type=float, default=1e-4,        help=\"sigma start time in network parametrization\")\n",
    "parser.add_argument(\"--T\",              type=float, default=1.,          help=\"sigma end time in network parametrization\")\n",
    "parser.add_argument(\"--interval\",       type=int,   default=1000,        help=\"number of interval\")\n",
    "parser.add_argument(\"--beta-max\",       type=float, default=0.3,         help=\"max diffusion for the diffusion model\")\n",
    "parser.add_argument(\"--beta-schedule\",  type=str,   default=\"i2sb\",    help=\"schedule for beta\")\n",
    "parser.add_argument(\"--ot-ode\",         action=\"store_true\",             help=\"use OT-ODE model\")\n",
    "parser.add_argument(\"--clip-denoise\",   action=\"store_true\",             help=\"clamp predicted image to [-1,1] at each\")\n",
    "parser.add_argument(\"--use-fp16\",       action=\"store_true\",             help=\"use fp16 for training\")\n",
    "parser.add_argument(\"diffusion-type\",   type=str,   default=\"schrodinger_bridge\",      help=\"type of diffusion model\")\n",
    "\n",
    "# --------------- optimizer and loss ---------------\n",
    "parser.add_argument(\"--batch-size\",     type=int,   default=256)\n",
    "parser.add_argument(\"--microbatch\",     type=int,   default=4,           help=\"accumulate gradient over microbatch until full batch-size\")\n",
    "parser.add_argument(\"--num-itr\",        type=int,   default=6002,     help=\"training iteration\")\n",
    "parser.add_argument(\"--lr\",             type=float, default=5e-5,        help=\"learning rate\")\n",
    "parser.add_argument(\"--lr-gamma\",       type=float, default=0.99,        help=\"learning rate decay ratio\")\n",
    "parser.add_argument(\"--lr-step\",        type=int,   default=1000,        help=\"learning rate decay step size\")\n",
    "parser.add_argument(\"--l2-norm\",        type=float, default=0.0)\n",
    "parser.add_argument(\"--ema\",            type=float, default=0.99)\n",
    "\n",
    "# --------------- path and logging ---------------\n",
    "parser.add_argument(\"--dataset-dir\",    type=Path,  default=\"/dataset\",  help=\"path to LMDB dataset\")\n",
    "parser.add_argument(\"--log-dir\",        type=Path,  default=\".log\",      help=\"path to log std outputs and writer data\")\n",
    "parser.add_argument(\"--log-writer\",     type=str,   default=None,        help=\"log writer: can be tensorbard, wandb, or None\")\n",
    "parser.add_argument(\"--wandb-api-key\",  type=str,   default=None,        help=\"unique API key of your W&B account; see https://wandb.ai/authorize\")\n",
    "parser.add_argument(\"--wandb-user\",     type=str,   default=None,        help=\"user name of your W&B account\")\n",
    "parser.add_argument(\"--ckpt-path\",      type=Path,  default=None,        help=\"path to save checkpoints\")\n",
    "parser.add_argument(\"--load\",           type=Path,  default=None,        help=\"path to load checkpoints\")\n",
    "parser.add_argument(\"--unet_path\",      type=str,   default=None,        help=\"path of UNet model to load for training\")\n",
    "\n",
    "# --------------- distributed ---------------\n",
    "parser.add_argument(\"--local-rank\",     type=int,   default=0)\n",
    "parser.add_argument(\"--global-rank\",    type=int,   default=0)\n",
    "parser.add_argument(\"--global-size\",    type=int,   default=1)\n",
    "\n",
    "opt = parser.get_options()\n",
    "# ========= path handle =========\n",
    "opt.name = \"test\"\n",
    "os.makedirs(opt.log_dir, exist_ok=True)\n",
    "opt.ckpt_path = RESULT_DIR / opt.name if opt.name else RESULT_DIR / \"temp\"\n",
    "os.makedirs(opt.ckpt_path, exist_ok=True)\n",
    "\n",
    "if opt.ckpt:\n",
    "    ckpt_file = RESULT_DIR / opt.ckpt / \"latest.pt\"\n",
    "    assert ckpt_file.exists()\n",
    "    opt.load = ckpt_file\n",
    "else:\n",
    "    opt.load = None\n",
    "\n",
    "# ========= auto assert =========\n",
    "assert opt.batch_size % opt.microbatch == 0, f\"{opt.batch_size=} is not dividable by {opt.microbatch}!\"\n",
    "\n"
   ]
  },
  {
   "cell_type": "markdown",
   "metadata": {},
   "source": [
    "# Prepare Data"
   ]
  },
  {
   "cell_type": "code",
   "execution_count": 4,
   "metadata": {},
   "outputs": [
    {
     "name": "stdout",
     "output_type": "stream",
     "text": [
      "hr_latent shape: (45540, 256, 14, 14)\n",
      "hr_latent  min/max: -4.6789246 3.7865307\n",
      "lr_latent  min/max: -0.8591689 0.95344883\n",
      "Dataset lengths: train=40986 val=4554\n"
     ]
    },
    {
     "data": {
      "text/plain": [
       "113"
      ]
     },
     "execution_count": 4,
     "metadata": {},
     "output_type": "execute_result"
    }
   ],
   "source": [
    "from data import SuperResolutionDataset\n",
    "\n",
    "# build dataset    \n",
    "hr_latent_path = 'data/one_meter_naip/224naip_latent_dataset_drone.npy'\n",
    "lr_latent_path = 'data/one_meter_naip/224naip_latent_dataset_satellite.npy'\n",
    "hr_latent = np.load(hr_latent_path, mmap_mode='r') # shape (B, C, H, W)\n",
    "lr_latent = np.load(lr_latent_path, mmap_mode='r')\n",
    "assert len(hr_latent) == len(lr_latent), f\"hr_latent b={hr_latent.shape[0]} and lr_latent b={lr_latent.shape[0]} don't have the same B\"\n",
    "print(f\"hr_latent shape: {hr_latent.shape}\")\n",
    "print(\"hr_latent  min/max:\", hr_latent.min(), hr_latent.max())\n",
    "print(\"lr_latent  min/max:\", lr_latent.min(), lr_latent.max())\n",
    "\n",
    "B = len(hr_latent)\n",
    "split = int(0.9*B) # 90:10 train:test split\n",
    "\n",
    "# shuffle loaded data before split\n",
    "rng = np.random.default_rng(seed=42)\n",
    "perm = rng.permutation(B)\n",
    "train_idx = perm[:split]\n",
    "val_idx = perm[split:]\n",
    "\n",
    "train_hr, val_hr = hr_latent[train_idx], hr_latent[val_idx]\n",
    "train_lr, val_lr = lr_latent[train_idx], lr_latent[val_idx]\n",
    "\n",
    "train = SuperResolutionDataset(hr_images=train_hr, lr_images=train_lr, transform=None)\n",
    "val = SuperResolutionDataset(hr_images=val_hr, lr_images=val_lr, transform=None)\n",
    "print(f\"Dataset lengths: train={len(train)} val={len(val)}\")\n",
    "\n",
    "del train_hr, val_hr, train_lr, val_lr, hr_latent, lr_latent\n",
    "gc.collect()"
   ]
  },
  {
   "cell_type": "code",
   "execution_count": 5,
   "metadata": {},
   "outputs": [
    {
     "name": "stderr",
     "output_type": "stream",
     "text": [
      "/Users/evanwu/ml-mangrove/.venv/lib/python3.13/site-packages/tqdm/auto.py:21: TqdmWarning: IProgress not found. Please update jupyter and ipywidgets. See https://ipywidgets.readthedocs.io/en/stable/user_install.html\n",
      "  from .autonotebook import tqdm as notebook_tqdm\n"
     ]
    },
    {
     "name": "stdout",
     "output_type": "stream",
     "text": [
      "Built schrodinger_bridge Diffusion Model with 1000 steps and i2sb beta schedule!\n"
     ]
    },
    {
     "name": "stderr",
     "output_type": "stream",
     "text": [
      "train_inner_loop: 100%|██████████| 64/64 [03:20<00:00,  3.13s/it]  \n"
     ]
    },
    {
     "name": "stdout",
     "output_type": "stream",
     "text": [
      "train_it 1/6002 | lr:5.00e-05 | noise_prediction_loss:+156.9812\n",
      "Saved weights and losses on iteration 0\n"
     ]
    },
    {
     "name": "stderr",
     "output_type": "stream",
     "text": [
      "eval_inner_loop: 100%|██████████| 64/64 [02:12<00:00,  2.07s/it]\n"
     ]
    },
    {
     "name": "stdout",
     "output_type": "stream",
     "text": [
      "EVALUATE: eval_it 1/6002 | noise_prediction_loss:+114.3964 | reconstruction_loss:+24.9036\n"
     ]
    },
    {
     "name": "stderr",
     "output_type": "stream",
     "text": [
      "train_inner_loop: 100%|██████████| 64/64 [00:00<00:00, 73.13it/s]\n"
     ]
    },
    {
     "name": "stdout",
     "output_type": "stream",
     "text": [
      "train_it 2/6002 | lr:5.00e-05 | noise_prediction_loss:+127.9991\n"
     ]
    },
    {
     "name": "stderr",
     "output_type": "stream",
     "text": [
      "train_inner_loop: 100%|██████████| 64/64 [00:01<00:00, 51.34it/s]\n"
     ]
    },
    {
     "name": "stdout",
     "output_type": "stream",
     "text": [
      "train_it 3/6002 | lr:5.00e-05 | noise_prediction_loss:+78.3812\n"
     ]
    },
    {
     "name": "stderr",
     "output_type": "stream",
     "text": [
      "train_inner_loop: 100%|██████████| 64/64 [00:01<00:00, 47.15it/s]\n"
     ]
    },
    {
     "name": "stdout",
     "output_type": "stream",
     "text": [
      "train_it 4/6002 | lr:5.00e-05 | noise_prediction_loss:+65.6697\n"
     ]
    },
    {
     "name": "stderr",
     "output_type": "stream",
     "text": [
      "train_inner_loop: 100%|██████████| 64/64 [00:01<00:00, 50.06it/s]\n"
     ]
    },
    {
     "name": "stdout",
     "output_type": "stream",
     "text": [
      "train_it 5/6002 | lr:5.00e-05 | noise_prediction_loss:+43.0869\n"
     ]
    },
    {
     "name": "stderr",
     "output_type": "stream",
     "text": [
      "train_inner_loop: 100%|██████████| 64/64 [00:01<00:00, 53.80it/s]\n"
     ]
    },
    {
     "name": "stdout",
     "output_type": "stream",
     "text": [
      "train_it 6/6002 | lr:5.00e-05 | noise_prediction_loss:+33.1050\n"
     ]
    },
    {
     "name": "stderr",
     "output_type": "stream",
     "text": [
      "train_inner_loop: 100%|██████████| 64/64 [00:01<00:00, 51.32it/s]\n"
     ]
    },
    {
     "name": "stdout",
     "output_type": "stream",
     "text": [
      "train_it 7/6002 | lr:5.00e-05 | noise_prediction_loss:+24.5044\n"
     ]
    },
    {
     "name": "stderr",
     "output_type": "stream",
     "text": [
      "train_inner_loop: 100%|██████████| 64/64 [00:01<00:00, 51.68it/s]\n"
     ]
    },
    {
     "name": "stdout",
     "output_type": "stream",
     "text": [
      "train_it 8/6002 | lr:5.00e-05 | noise_prediction_loss:+18.9286\n"
     ]
    },
    {
     "name": "stderr",
     "output_type": "stream",
     "text": [
      "train_inner_loop: 100%|██████████| 64/64 [00:01<00:00, 56.98it/s]\n"
     ]
    },
    {
     "name": "stdout",
     "output_type": "stream",
     "text": [
      "train_it 9/6002 | lr:5.00e-05 | noise_prediction_loss:+15.2989\n"
     ]
    },
    {
     "name": "stderr",
     "output_type": "stream",
     "text": [
      "train_inner_loop: 100%|██████████| 64/64 [00:01<00:00, 48.08it/s]\n"
     ]
    },
    {
     "name": "stdout",
     "output_type": "stream",
     "text": [
      "train_it 10/6002 | lr:5.00e-05 | noise_prediction_loss:+14.5108\n"
     ]
    },
    {
     "name": "stderr",
     "output_type": "stream",
     "text": [
      "train_inner_loop: 100%|██████████| 64/64 [00:01<00:00, 57.03it/s]\n"
     ]
    },
    {
     "name": "stdout",
     "output_type": "stream",
     "text": [
      "train_it 51/6002 | lr:5.00e-05 | noise_prediction_loss:+2.0760\n"
     ]
    },
    {
     "name": "stderr",
     "output_type": "stream",
     "text": [
      "train_inner_loop: 100%|██████████| 64/64 [00:00<00:00, 73.14it/s]\n"
     ]
    },
    {
     "name": "stdout",
     "output_type": "stream",
     "text": [
      "train_it 101/6002 | lr:5.00e-05 | noise_prediction_loss:+1.1862\n"
     ]
    },
    {
     "name": "stderr",
     "output_type": "stream",
     "text": [
      "train_inner_loop: 100%|██████████| 64/64 [00:01<00:00, 59.94it/s]\n"
     ]
    },
    {
     "name": "stdout",
     "output_type": "stream",
     "text": [
      "train_it 151/6002 | lr:5.00e-05 | noise_prediction_loss:+0.9406\n"
     ]
    },
    {
     "name": "stderr",
     "output_type": "stream",
     "text": [
      "train_inner_loop: 100%|██████████| 64/64 [00:00<00:00, 64.59it/s]\n"
     ]
    },
    {
     "name": "stdout",
     "output_type": "stream",
     "text": [
      "train_it 201/6002 | lr:5.00e-05 | noise_prediction_loss:+0.8185\n"
     ]
    },
    {
     "name": "stderr",
     "output_type": "stream",
     "text": [
      "eval_inner_loop: 100%|██████████| 64/64 [02:17<00:00,  2.15s/it]\n"
     ]
    },
    {
     "name": "stdout",
     "output_type": "stream",
     "text": [
      "EVALUATE: eval_it 201/6002 | noise_prediction_loss:+0.8136 | reconstruction_loss:+0.2721\n"
     ]
    },
    {
     "name": "stderr",
     "output_type": "stream",
     "text": [
      "train_inner_loop: 100%|██████████| 64/64 [00:00<00:00, 72.06it/s]\n"
     ]
    },
    {
     "name": "stdout",
     "output_type": "stream",
     "text": [
      "train_it 251/6002 | lr:5.00e-05 | noise_prediction_loss:+0.7663\n"
     ]
    },
    {
     "name": "stderr",
     "output_type": "stream",
     "text": [
      "train_inner_loop: 100%|██████████| 64/64 [00:00<00:00, 76.99it/s]\n"
     ]
    },
    {
     "name": "stdout",
     "output_type": "stream",
     "text": [
      "train_it 301/6002 | lr:5.00e-05 | noise_prediction_loss:+0.6908\n"
     ]
    },
    {
     "name": "stderr",
     "output_type": "stream",
     "text": [
      "train_inner_loop: 100%|██████████| 64/64 [00:00<00:00, 99.42it/s] \n"
     ]
    },
    {
     "name": "stdout",
     "output_type": "stream",
     "text": [
      "train_it 351/6002 | lr:5.00e-05 | noise_prediction_loss:+0.6789\n"
     ]
    },
    {
     "name": "stderr",
     "output_type": "stream",
     "text": [
      "train_inner_loop: 100%|██████████| 64/64 [00:00<00:00, 100.12it/s]\n"
     ]
    },
    {
     "name": "stdout",
     "output_type": "stream",
     "text": [
      "train_it 401/6002 | lr:5.00e-05 | noise_prediction_loss:+0.6858\n"
     ]
    },
    {
     "name": "stderr",
     "output_type": "stream",
     "text": [
      "eval_inner_loop: 100%|██████████| 64/64 [02:37<00:00,  2.46s/it]\n"
     ]
    },
    {
     "name": "stdout",
     "output_type": "stream",
     "text": [
      "EVALUATE: eval_it 401/6002 | noise_prediction_loss:+0.7018 | reconstruction_loss:+0.1973\n"
     ]
    },
    {
     "name": "stderr",
     "output_type": "stream",
     "text": [
      "train_inner_loop: 100%|██████████| 64/64 [00:01<00:00, 53.27it/s]\n"
     ]
    },
    {
     "name": "stdout",
     "output_type": "stream",
     "text": [
      "train_it 451/6002 | lr:5.00e-05 | noise_prediction_loss:+0.6887\n"
     ]
    },
    {
     "name": "stderr",
     "output_type": "stream",
     "text": [
      "train_inner_loop: 100%|██████████| 64/64 [00:00<00:00, 104.33it/s]\n"
     ]
    },
    {
     "name": "stdout",
     "output_type": "stream",
     "text": [
      "train_it 501/6002 | lr:5.00e-05 | noise_prediction_loss:+0.6367\n"
     ]
    },
    {
     "name": "stderr",
     "output_type": "stream",
     "text": [
      "train_inner_loop: 100%|██████████| 64/64 [00:00<00:00, 93.78it/s] \n"
     ]
    },
    {
     "name": "stdout",
     "output_type": "stream",
     "text": [
      "train_it 551/6002 | lr:5.00e-05 | noise_prediction_loss:+0.6560\n"
     ]
    },
    {
     "name": "stderr",
     "output_type": "stream",
     "text": [
      "train_inner_loop: 100%|██████████| 64/64 [00:01<00:00, 40.03it/s]\n"
     ]
    },
    {
     "name": "stdout",
     "output_type": "stream",
     "text": [
      "train_it 601/6002 | lr:5.00e-05 | noise_prediction_loss:+0.6354\n"
     ]
    },
    {
     "name": "stderr",
     "output_type": "stream",
     "text": [
      "eval_inner_loop: 100%|██████████| 64/64 [03:26<00:00,  3.23s/it]\n"
     ]
    },
    {
     "name": "stdout",
     "output_type": "stream",
     "text": [
      "EVALUATE: eval_it 601/6002 | noise_prediction_loss:+0.6340 | reconstruction_loss:+0.1902\n"
     ]
    },
    {
     "name": "stderr",
     "output_type": "stream",
     "text": [
      "train_inner_loop: 100%|██████████| 64/64 [00:00<00:00, 104.08it/s]\n"
     ]
    },
    {
     "name": "stdout",
     "output_type": "stream",
     "text": [
      "train_it 651/6002 | lr:5.00e-05 | noise_prediction_loss:+0.6135\n"
     ]
    },
    {
     "name": "stderr",
     "output_type": "stream",
     "text": [
      "train_inner_loop: 100%|██████████| 64/64 [00:00<00:00, 133.65it/s]\n"
     ]
    },
    {
     "name": "stdout",
     "output_type": "stream",
     "text": [
      "train_it 701/6002 | lr:5.00e-05 | noise_prediction_loss:+0.5995\n"
     ]
    },
    {
     "name": "stderr",
     "output_type": "stream",
     "text": [
      "train_inner_loop: 100%|██████████| 64/64 [00:04<00:00, 13.74it/s]\n"
     ]
    },
    {
     "name": "stdout",
     "output_type": "stream",
     "text": [
      "train_it 751/6002 | lr:5.00e-05 | noise_prediction_loss:+0.6142\n"
     ]
    },
    {
     "name": "stderr",
     "output_type": "stream",
     "text": [
      "train_inner_loop: 100%|██████████| 64/64 [04:01<00:00,  3.77s/it]\n"
     ]
    },
    {
     "name": "stdout",
     "output_type": "stream",
     "text": [
      "train_it 801/6002 | lr:5.00e-05 | noise_prediction_loss:+0.6318\n"
     ]
    },
    {
     "name": "stderr",
     "output_type": "stream",
     "text": [
      "eval_inner_loop: 100%|██████████| 64/64 [02:46<00:00,  2.61s/it]\n"
     ]
    },
    {
     "name": "stdout",
     "output_type": "stream",
     "text": [
      "EVALUATE: eval_it 801/6002 | noise_prediction_loss:+0.6194 | reconstruction_loss:+0.1884\n"
     ]
    },
    {
     "name": "stderr",
     "output_type": "stream",
     "text": [
      "train_inner_loop: 100%|██████████| 64/64 [00:01<00:00, 51.39it/s]\n"
     ]
    },
    {
     "name": "stdout",
     "output_type": "stream",
     "text": [
      "train_it 851/6002 | lr:5.00e-05 | noise_prediction_loss:+0.6205\n"
     ]
    },
    {
     "name": "stderr",
     "output_type": "stream",
     "text": [
      "train_inner_loop: 100%|██████████| 64/64 [00:01<00:00, 53.28it/s]\n"
     ]
    },
    {
     "name": "stdout",
     "output_type": "stream",
     "text": [
      "train_it 901/6002 | lr:5.00e-05 | noise_prediction_loss:+0.6026\n"
     ]
    },
    {
     "name": "stderr",
     "output_type": "stream",
     "text": [
      "train_inner_loop: 100%|██████████| 64/64 [00:01<00:00, 51.99it/s]\n"
     ]
    },
    {
     "name": "stdout",
     "output_type": "stream",
     "text": [
      "train_it 951/6002 | lr:5.00e-05 | noise_prediction_loss:+0.6313\n"
     ]
    },
    {
     "name": "stderr",
     "output_type": "stream",
     "text": [
      "train_inner_loop: 100%|██████████| 64/64 [00:00<00:00, 95.95it/s] \n"
     ]
    },
    {
     "name": "stdout",
     "output_type": "stream",
     "text": [
      "train_it 1001/6002 | lr:4.95e-05 | noise_prediction_loss:+0.6208\n",
      "Saved weights and losses on iteration 1000\n"
     ]
    },
    {
     "name": "stderr",
     "output_type": "stream",
     "text": [
      "eval_inner_loop: 100%|██████████| 64/64 [03:26<00:00,  3.23s/it]\n"
     ]
    },
    {
     "name": "stdout",
     "output_type": "stream",
     "text": [
      "EVALUATE: eval_it 1001/6002 | noise_prediction_loss:+0.6254 | reconstruction_loss:+0.1918\n"
     ]
    },
    {
     "name": "stderr",
     "output_type": "stream",
     "text": [
      "train_inner_loop: 100%|██████████| 64/64 [00:01<00:00, 54.86it/s]\n"
     ]
    },
    {
     "name": "stdout",
     "output_type": "stream",
     "text": [
      "train_it 1051/6002 | lr:4.95e-05 | noise_prediction_loss:+0.6114\n"
     ]
    },
    {
     "name": "stderr",
     "output_type": "stream",
     "text": [
      "train_inner_loop: 100%|██████████| 64/64 [00:01<00:00, 52.47it/s]\n"
     ]
    },
    {
     "name": "stdout",
     "output_type": "stream",
     "text": [
      "train_it 1101/6002 | lr:4.95e-05 | noise_prediction_loss:+0.6019\n"
     ]
    },
    {
     "name": "stderr",
     "output_type": "stream",
     "text": [
      "train_inner_loop: 100%|██████████| 64/64 [00:00<00:00, 107.03it/s]\n"
     ]
    },
    {
     "name": "stdout",
     "output_type": "stream",
     "text": [
      "train_it 1151/6002 | lr:4.95e-05 | noise_prediction_loss:+0.6080\n"
     ]
    },
    {
     "name": "stderr",
     "output_type": "stream",
     "text": [
      "train_inner_loop: 100%|██████████| 64/64 [00:00<00:00, 122.86it/s]\n"
     ]
    },
    {
     "name": "stdout",
     "output_type": "stream",
     "text": [
      "train_it 1201/6002 | lr:4.95e-05 | noise_prediction_loss:+0.5896\n"
     ]
    },
    {
     "name": "stderr",
     "output_type": "stream",
     "text": [
      "eval_inner_loop: 100%|██████████| 64/64 [04:10<00:00,  3.92s/it]\n"
     ]
    },
    {
     "name": "stdout",
     "output_type": "stream",
     "text": [
      "EVALUATE: eval_it 1201/6002 | noise_prediction_loss:+0.6243 | reconstruction_loss:+0.1889\n"
     ]
    },
    {
     "name": "stderr",
     "output_type": "stream",
     "text": [
      "train_inner_loop: 100%|██████████| 64/64 [00:01<00:00, 52.14it/s]\n"
     ]
    },
    {
     "name": "stdout",
     "output_type": "stream",
     "text": [
      "train_it 1251/6002 | lr:4.95e-05 | noise_prediction_loss:+0.6215\n"
     ]
    },
    {
     "name": "stderr",
     "output_type": "stream",
     "text": [
      "train_inner_loop: 100%|██████████| 64/64 [00:00<00:00, 98.04it/s] \n"
     ]
    },
    {
     "name": "stdout",
     "output_type": "stream",
     "text": [
      "train_it 1301/6002 | lr:4.95e-05 | noise_prediction_loss:+0.6419\n"
     ]
    },
    {
     "name": "stderr",
     "output_type": "stream",
     "text": [
      "train_inner_loop: 100%|██████████| 64/64 [00:00<00:00, 113.59it/s]\n"
     ]
    },
    {
     "name": "stdout",
     "output_type": "stream",
     "text": [
      "train_it 1351/6002 | lr:4.95e-05 | noise_prediction_loss:+0.5647\n"
     ]
    },
    {
     "name": "stderr",
     "output_type": "stream",
     "text": [
      "train_inner_loop: 100%|██████████| 64/64 [00:02<00:00, 28.71it/s]\n"
     ]
    },
    {
     "name": "stdout",
     "output_type": "stream",
     "text": [
      "train_it 1401/6002 | lr:4.95e-05 | noise_prediction_loss:+0.6021\n"
     ]
    },
    {
     "name": "stderr",
     "output_type": "stream",
     "text": [
      "eval_inner_loop: 100%|██████████| 64/64 [03:19<00:00,  3.12s/it]\n"
     ]
    },
    {
     "name": "stdout",
     "output_type": "stream",
     "text": [
      "EVALUATE: eval_it 1401/6002 | noise_prediction_loss:+0.5941 | reconstruction_loss:+0.1812\n"
     ]
    },
    {
     "name": "stderr",
     "output_type": "stream",
     "text": [
      "train_inner_loop: 100%|██████████| 64/64 [00:00<00:00, 116.03it/s]\n"
     ]
    },
    {
     "name": "stdout",
     "output_type": "stream",
     "text": [
      "train_it 1451/6002 | lr:4.95e-05 | noise_prediction_loss:+0.5969\n"
     ]
    },
    {
     "name": "stderr",
     "output_type": "stream",
     "text": [
      "train_inner_loop: 100%|██████████| 64/64 [00:00<00:00, 102.30it/s]\n"
     ]
    },
    {
     "name": "stdout",
     "output_type": "stream",
     "text": [
      "train_it 1501/6002 | lr:4.95e-05 | noise_prediction_loss:+0.5842\n"
     ]
    },
    {
     "name": "stderr",
     "output_type": "stream",
     "text": [
      "train_inner_loop: 100%|██████████| 64/64 [00:04<00:00, 14.26it/s]\n"
     ]
    },
    {
     "name": "stdout",
     "output_type": "stream",
     "text": [
      "train_it 1551/6002 | lr:4.95e-05 | noise_prediction_loss:+0.5866\n"
     ]
    },
    {
     "name": "stderr",
     "output_type": "stream",
     "text": [
      "train_inner_loop: 100%|██████████| 64/64 [04:04<00:00,  3.82s/it]\n"
     ]
    },
    {
     "name": "stdout",
     "output_type": "stream",
     "text": [
      "train_it 1601/6002 | lr:4.95e-05 | noise_prediction_loss:+0.6101\n"
     ]
    },
    {
     "name": "stderr",
     "output_type": "stream",
     "text": [
      "eval_inner_loop: 100%|██████████| 64/64 [02:44<00:00,  2.57s/it]\n"
     ]
    },
    {
     "name": "stdout",
     "output_type": "stream",
     "text": [
      "EVALUATE: eval_it 1601/6002 | noise_prediction_loss:+0.5882 | reconstruction_loss:+0.1777\n"
     ]
    },
    {
     "name": "stderr",
     "output_type": "stream",
     "text": [
      "train_inner_loop: 100%|██████████| 64/64 [00:01<00:00, 40.28it/s]\n"
     ]
    },
    {
     "name": "stdout",
     "output_type": "stream",
     "text": [
      "train_it 1651/6002 | lr:4.95e-05 | noise_prediction_loss:+0.6003\n"
     ]
    },
    {
     "name": "stderr",
     "output_type": "stream",
     "text": [
      "train_inner_loop: 100%|██████████| 64/64 [00:01<00:00, 55.86it/s]\n"
     ]
    },
    {
     "name": "stdout",
     "output_type": "stream",
     "text": [
      "train_it 1701/6002 | lr:4.95e-05 | noise_prediction_loss:+0.5720\n"
     ]
    },
    {
     "name": "stderr",
     "output_type": "stream",
     "text": [
      "train_inner_loop: 100%|██████████| 64/64 [00:01<00:00, 51.78it/s]\n"
     ]
    },
    {
     "name": "stdout",
     "output_type": "stream",
     "text": [
      "train_it 1751/6002 | lr:4.95e-05 | noise_prediction_loss:+0.5912\n"
     ]
    },
    {
     "name": "stderr",
     "output_type": "stream",
     "text": [
      "train_inner_loop: 100%|██████████| 64/64 [00:00<00:00, 110.96it/s]\n"
     ]
    },
    {
     "name": "stdout",
     "output_type": "stream",
     "text": [
      "train_it 1801/6002 | lr:4.95e-05 | noise_prediction_loss:+0.5934\n"
     ]
    },
    {
     "name": "stderr",
     "output_type": "stream",
     "text": [
      "eval_inner_loop: 100%|██████████| 64/64 [03:35<00:00,  3.37s/it]\n"
     ]
    },
    {
     "name": "stdout",
     "output_type": "stream",
     "text": [
      "EVALUATE: eval_it 1801/6002 | noise_prediction_loss:+0.5664 | reconstruction_loss:+0.1851\n"
     ]
    },
    {
     "name": "stderr",
     "output_type": "stream",
     "text": [
      "train_inner_loop: 100%|██████████| 64/64 [00:01<00:00, 54.76it/s]\n"
     ]
    },
    {
     "name": "stdout",
     "output_type": "stream",
     "text": [
      "train_it 1851/6002 | lr:4.95e-05 | noise_prediction_loss:+0.5885\n"
     ]
    },
    {
     "name": "stderr",
     "output_type": "stream",
     "text": [
      "train_inner_loop: 100%|██████████| 64/64 [00:01<00:00, 53.71it/s]\n"
     ]
    },
    {
     "name": "stdout",
     "output_type": "stream",
     "text": [
      "train_it 1901/6002 | lr:4.95e-05 | noise_prediction_loss:+0.5915\n"
     ]
    },
    {
     "name": "stderr",
     "output_type": "stream",
     "text": [
      "train_inner_loop: 100%|██████████| 64/64 [00:00<00:00, 133.40it/s]\n"
     ]
    },
    {
     "name": "stdout",
     "output_type": "stream",
     "text": [
      "train_it 1951/6002 | lr:4.95e-05 | noise_prediction_loss:+0.5770\n"
     ]
    },
    {
     "name": "stderr",
     "output_type": "stream",
     "text": [
      "train_inner_loop: 100%|██████████| 64/64 [00:00<00:00, 114.60it/s]\n"
     ]
    },
    {
     "name": "stdout",
     "output_type": "stream",
     "text": [
      "train_it 2001/6002 | lr:4.90e-05 | noise_prediction_loss:+0.5759\n",
      "Saved weights and losses on iteration 2000\n"
     ]
    },
    {
     "name": "stderr",
     "output_type": "stream",
     "text": [
      "eval_inner_loop: 100%|██████████| 64/64 [03:56<00:00,  3.70s/it]\n"
     ]
    },
    {
     "name": "stdout",
     "output_type": "stream",
     "text": [
      "EVALUATE: eval_it 2001/6002 | noise_prediction_loss:+0.5851 | reconstruction_loss:+0.1718\n"
     ]
    },
    {
     "name": "stderr",
     "output_type": "stream",
     "text": [
      "train_inner_loop: 100%|██████████| 64/64 [00:01<00:00, 47.50it/s]\n"
     ]
    },
    {
     "name": "stdout",
     "output_type": "stream",
     "text": [
      "train_it 2051/6002 | lr:4.90e-05 | noise_prediction_loss:+0.5893\n"
     ]
    },
    {
     "name": "stderr",
     "output_type": "stream",
     "text": [
      "train_inner_loop: 100%|██████████| 64/64 [00:00<00:00, 110.95it/s]\n"
     ]
    },
    {
     "name": "stdout",
     "output_type": "stream",
     "text": [
      "train_it 2101/6002 | lr:4.90e-05 | noise_prediction_loss:+0.5777\n"
     ]
    },
    {
     "name": "stderr",
     "output_type": "stream",
     "text": [
      "train_inner_loop: 100%|██████████| 64/64 [00:00<00:00, 107.70it/s]\n"
     ]
    },
    {
     "name": "stdout",
     "output_type": "stream",
     "text": [
      "train_it 2151/6002 | lr:4.90e-05 | noise_prediction_loss:+0.5776\n"
     ]
    },
    {
     "name": "stderr",
     "output_type": "stream",
     "text": [
      "train_inner_loop: 100%|██████████| 64/64 [00:03<00:00, 18.08it/s]\n"
     ]
    },
    {
     "name": "stdout",
     "output_type": "stream",
     "text": [
      "train_it 2201/6002 | lr:4.90e-05 | noise_prediction_loss:+0.5930\n"
     ]
    },
    {
     "name": "stderr",
     "output_type": "stream",
     "text": [
      "eval_inner_loop: 100%|██████████| 64/64 [03:42<00:00,  3.48s/it]\n"
     ]
    },
    {
     "name": "stdout",
     "output_type": "stream",
     "text": [
      "EVALUATE: eval_it 2201/6002 | noise_prediction_loss:+0.5859 | reconstruction_loss:+0.1696\n"
     ]
    },
    {
     "name": "stderr",
     "output_type": "stream",
     "text": [
      "train_inner_loop: 100%|██████████| 64/64 [00:00<00:00, 125.73it/s]\n"
     ]
    },
    {
     "name": "stdout",
     "output_type": "stream",
     "text": [
      "train_it 2251/6002 | lr:4.90e-05 | noise_prediction_loss:+0.5724\n"
     ]
    },
    {
     "name": "stderr",
     "output_type": "stream",
     "text": [
      "train_inner_loop: 100%|██████████| 64/64 [00:00<00:00, 107.31it/s]\n"
     ]
    },
    {
     "name": "stdout",
     "output_type": "stream",
     "text": [
      "train_it 2301/6002 | lr:4.90e-05 | noise_prediction_loss:+0.5761\n"
     ]
    },
    {
     "name": "stderr",
     "output_type": "stream",
     "text": [
      "train_inner_loop: 100%|██████████| 64/64 [00:04<00:00, 15.83it/s]\n"
     ]
    },
    {
     "name": "stdout",
     "output_type": "stream",
     "text": [
      "train_it 2351/6002 | lr:4.90e-05 | noise_prediction_loss:+0.5826\n"
     ]
    },
    {
     "name": "stderr",
     "output_type": "stream",
     "text": [
      "train_inner_loop: 100%|██████████| 64/64 [00:01<00:00, 50.02it/s]\n"
     ]
    },
    {
     "name": "stdout",
     "output_type": "stream",
     "text": [
      "train_it 2401/6002 | lr:4.90e-05 | noise_prediction_loss:+0.5816\n"
     ]
    },
    {
     "name": "stderr",
     "output_type": "stream",
     "text": [
      "eval_inner_loop: 100%|██████████| 64/64 [02:59<00:00,  2.80s/it]\n"
     ]
    },
    {
     "name": "stdout",
     "output_type": "stream",
     "text": [
      "EVALUATE: eval_it 2401/6002 | noise_prediction_loss:+0.6121 | reconstruction_loss:+0.1676\n"
     ]
    },
    {
     "name": "stderr",
     "output_type": "stream",
     "text": [
      "train_inner_loop: 100%|██████████| 64/64 [00:00<00:00, 100.27it/s]\n"
     ]
    },
    {
     "name": "stdout",
     "output_type": "stream",
     "text": [
      "train_it 2451/6002 | lr:4.90e-05 | noise_prediction_loss:+0.5519\n"
     ]
    },
    {
     "name": "stderr",
     "output_type": "stream",
     "text": [
      "train_inner_loop: 100%|██████████| 64/64 [00:00<00:00, 81.53it/s] \n"
     ]
    },
    {
     "name": "stdout",
     "output_type": "stream",
     "text": [
      "train_it 2501/6002 | lr:4.90e-05 | noise_prediction_loss:+0.5730\n"
     ]
    },
    {
     "name": "stderr",
     "output_type": "stream",
     "text": [
      "train_inner_loop: 100%|██████████| 64/64 [00:01<00:00, 33.49it/s]\n"
     ]
    },
    {
     "name": "stdout",
     "output_type": "stream",
     "text": [
      "train_it 2551/6002 | lr:4.90e-05 | noise_prediction_loss:+0.6016\n"
     ]
    },
    {
     "name": "stderr",
     "output_type": "stream",
     "text": [
      "train_inner_loop: 100%|██████████| 64/64 [00:00<00:00, 114.06it/s]\n"
     ]
    },
    {
     "name": "stdout",
     "output_type": "stream",
     "text": [
      "train_it 2601/6002 | lr:4.90e-05 | noise_prediction_loss:+0.5583\n"
     ]
    },
    {
     "name": "stderr",
     "output_type": "stream",
     "text": [
      "eval_inner_loop: 100%|██████████| 64/64 [03:33<00:00,  3.34s/it]\n"
     ]
    },
    {
     "name": "stdout",
     "output_type": "stream",
     "text": [
      "EVALUATE: eval_it 2601/6002 | noise_prediction_loss:+0.5638 | reconstruction_loss:+0.1662\n"
     ]
    },
    {
     "name": "stderr",
     "output_type": "stream",
     "text": [
      "train_inner_loop: 100%|██████████| 64/64 [00:01<00:00, 54.31it/s]\n"
     ]
    },
    {
     "name": "stdout",
     "output_type": "stream",
     "text": [
      "train_it 2651/6002 | lr:4.90e-05 | noise_prediction_loss:+0.5732\n"
     ]
    },
    {
     "name": "stderr",
     "output_type": "stream",
     "text": [
      "train_inner_loop: 100%|██████████| 64/64 [00:01<00:00, 56.03it/s]\n"
     ]
    },
    {
     "name": "stdout",
     "output_type": "stream",
     "text": [
      "train_it 2701/6002 | lr:4.90e-05 | noise_prediction_loss:+0.5692\n"
     ]
    },
    {
     "name": "stderr",
     "output_type": "stream",
     "text": [
      "train_inner_loop: 100%|██████████| 64/64 [00:00<00:00, 110.39it/s]\n"
     ]
    },
    {
     "name": "stdout",
     "output_type": "stream",
     "text": [
      "train_it 2751/6002 | lr:4.90e-05 | noise_prediction_loss:+0.5817\n"
     ]
    },
    {
     "name": "stderr",
     "output_type": "stream",
     "text": [
      "train_inner_loop: 100%|██████████| 64/64 [00:00<00:00, 122.73it/s]\n"
     ]
    },
    {
     "name": "stdout",
     "output_type": "stream",
     "text": [
      "train_it 2801/6002 | lr:4.90e-05 | noise_prediction_loss:+0.5529\n"
     ]
    },
    {
     "name": "stderr",
     "output_type": "stream",
     "text": [
      "eval_inner_loop: 100%|██████████| 64/64 [03:37<00:00,  3.40s/it]\n"
     ]
    },
    {
     "name": "stdout",
     "output_type": "stream",
     "text": [
      "EVALUATE: eval_it 2801/6002 | noise_prediction_loss:+0.5387 | reconstruction_loss:+0.1584\n"
     ]
    },
    {
     "name": "stderr",
     "output_type": "stream",
     "text": [
      "train_inner_loop: 100%|██████████| 64/64 [00:01<00:00, 52.45it/s]\n"
     ]
    },
    {
     "name": "stdout",
     "output_type": "stream",
     "text": [
      "train_it 2851/6002 | lr:4.90e-05 | noise_prediction_loss:+0.5645\n"
     ]
    },
    {
     "name": "stderr",
     "output_type": "stream",
     "text": [
      "train_inner_loop: 100%|██████████| 64/64 [00:00<00:00, 92.45it/s]\n"
     ]
    },
    {
     "name": "stdout",
     "output_type": "stream",
     "text": [
      "train_it 2901/6002 | lr:4.90e-05 | noise_prediction_loss:+0.5588\n"
     ]
    },
    {
     "name": "stderr",
     "output_type": "stream",
     "text": [
      "train_inner_loop: 100%|██████████| 64/64 [00:00<00:00, 89.08it/s]\n"
     ]
    },
    {
     "name": "stdout",
     "output_type": "stream",
     "text": [
      "train_it 2951/6002 | lr:4.90e-05 | noise_prediction_loss:+0.5319\n"
     ]
    },
    {
     "name": "stderr",
     "output_type": "stream",
     "text": [
      "train_inner_loop: 100%|██████████| 64/64 [00:02<00:00, 28.65it/s]\n"
     ]
    },
    {
     "name": "stdout",
     "output_type": "stream",
     "text": [
      "train_it 3001/6002 | lr:4.85e-05 | noise_prediction_loss:+0.5342\n",
      "Saved weights and losses on iteration 3000\n"
     ]
    },
    {
     "name": "stderr",
     "output_type": "stream",
     "text": [
      "eval_inner_loop: 100%|██████████| 64/64 [03:53<00:00,  3.64s/it]\n"
     ]
    },
    {
     "name": "stdout",
     "output_type": "stream",
     "text": [
      "EVALUATE: eval_it 3001/6002 | noise_prediction_loss:+0.5450 | reconstruction_loss:+0.1563\n"
     ]
    },
    {
     "name": "stderr",
     "output_type": "stream",
     "text": [
      "train_inner_loop: 100%|██████████| 64/64 [00:00<00:00, 108.30it/s]\n"
     ]
    },
    {
     "name": "stdout",
     "output_type": "stream",
     "text": [
      "train_it 3051/6002 | lr:4.85e-05 | noise_prediction_loss:+0.5486\n"
     ]
    },
    {
     "name": "stderr",
     "output_type": "stream",
     "text": [
      "train_inner_loop: 100%|██████████| 64/64 [00:00<00:00, 85.85it/s]\n"
     ]
    },
    {
     "name": "stdout",
     "output_type": "stream",
     "text": [
      "train_it 3101/6002 | lr:4.85e-05 | noise_prediction_loss:+0.5455\n"
     ]
    },
    {
     "name": "stderr",
     "output_type": "stream",
     "text": [
      "train_inner_loop: 100%|██████████| 64/64 [00:01<00:00, 59.22it/s]\n"
     ]
    },
    {
     "name": "stdout",
     "output_type": "stream",
     "text": [
      "train_it 3151/6002 | lr:4.85e-05 | noise_prediction_loss:+0.5705\n"
     ]
    },
    {
     "name": "stderr",
     "output_type": "stream",
     "text": [
      "train_inner_loop: 100%|██████████| 64/64 [00:01<00:00, 49.62it/s]\n"
     ]
    },
    {
     "name": "stdout",
     "output_type": "stream",
     "text": [
      "train_it 3201/6002 | lr:4.85e-05 | noise_prediction_loss:+0.5406\n"
     ]
    },
    {
     "name": "stderr",
     "output_type": "stream",
     "text": [
      "eval_inner_loop: 100%|██████████| 64/64 [03:11<00:00,  2.99s/it]\n"
     ]
    },
    {
     "name": "stdout",
     "output_type": "stream",
     "text": [
      "EVALUATE: eval_it 3201/6002 | noise_prediction_loss:+0.5547 | reconstruction_loss:+0.1541\n"
     ]
    },
    {
     "name": "stderr",
     "output_type": "stream",
     "text": [
      "train_inner_loop: 100%|██████████| 64/64 [00:00<00:00, 95.72it/s] \n"
     ]
    },
    {
     "name": "stdout",
     "output_type": "stream",
     "text": [
      "train_it 3251/6002 | lr:4.85e-05 | noise_prediction_loss:+0.5630\n"
     ]
    },
    {
     "name": "stderr",
     "output_type": "stream",
     "text": [
      "train_inner_loop: 100%|██████████| 64/64 [00:00<00:00, 100.16it/s]\n"
     ]
    },
    {
     "name": "stdout",
     "output_type": "stream",
     "text": [
      "train_it 3301/6002 | lr:4.85e-05 | noise_prediction_loss:+0.5350\n"
     ]
    },
    {
     "name": "stderr",
     "output_type": "stream",
     "text": [
      "train_inner_loop: 100%|██████████| 64/64 [00:01<00:00, 42.01it/s]\n"
     ]
    },
    {
     "name": "stdout",
     "output_type": "stream",
     "text": [
      "train_it 3351/6002 | lr:4.85e-05 | noise_prediction_loss:+0.5731\n"
     ]
    },
    {
     "name": "stderr",
     "output_type": "stream",
     "text": [
      "train_inner_loop: 100%|██████████| 64/64 [00:00<00:00, 101.38it/s]\n"
     ]
    },
    {
     "name": "stdout",
     "output_type": "stream",
     "text": [
      "train_it 3401/6002 | lr:4.85e-05 | noise_prediction_loss:+0.5209\n"
     ]
    },
    {
     "name": "stderr",
     "output_type": "stream",
     "text": [
      "eval_inner_loop: 100%|██████████| 64/64 [01:54<00:00,  1.79s/it]\n"
     ]
    },
    {
     "name": "stdout",
     "output_type": "stream",
     "text": [
      "EVALUATE: eval_it 3401/6002 | noise_prediction_loss:+0.5168 | reconstruction_loss:+0.1526\n"
     ]
    },
    {
     "name": "stderr",
     "output_type": "stream",
     "text": [
      "train_inner_loop: 100%|██████████| 64/64 [00:01<00:00, 54.00it/s]\n"
     ]
    },
    {
     "name": "stdout",
     "output_type": "stream",
     "text": [
      "train_it 3451/6002 | lr:4.85e-05 | noise_prediction_loss:+0.5366\n"
     ]
    },
    {
     "name": "stderr",
     "output_type": "stream",
     "text": [
      "train_inner_loop: 100%|██████████| 64/64 [00:01<00:00, 61.64it/s]\n"
     ]
    },
    {
     "name": "stdout",
     "output_type": "stream",
     "text": [
      "train_it 3501/6002 | lr:4.85e-05 | noise_prediction_loss:+0.5381\n"
     ]
    },
    {
     "name": "stderr",
     "output_type": "stream",
     "text": [
      "train_inner_loop: 100%|██████████| 64/64 [00:00<00:00, 107.11it/s]\n"
     ]
    },
    {
     "name": "stdout",
     "output_type": "stream",
     "text": [
      "train_it 3551/6002 | lr:4.85e-05 | noise_prediction_loss:+0.5190\n"
     ]
    },
    {
     "name": "stderr",
     "output_type": "stream",
     "text": [
      "train_inner_loop: 100%|██████████| 64/64 [00:00<00:00, 135.92it/s]\n"
     ]
    },
    {
     "name": "stdout",
     "output_type": "stream",
     "text": [
      "train_it 3601/6002 | lr:4.85e-05 | noise_prediction_loss:+0.5330\n"
     ]
    },
    {
     "name": "stderr",
     "output_type": "stream",
     "text": [
      "eval_inner_loop: 100%|██████████| 64/64 [01:20<00:00,  1.26s/it]\n"
     ]
    },
    {
     "name": "stdout",
     "output_type": "stream",
     "text": [
      "EVALUATE: eval_it 3601/6002 | noise_prediction_loss:+0.5375 | reconstruction_loss:+0.1517\n"
     ]
    },
    {
     "name": "stderr",
     "output_type": "stream",
     "text": [
      "train_inner_loop: 100%|██████████| 64/64 [00:00<00:00, 81.47it/s]\n"
     ]
    },
    {
     "name": "stdout",
     "output_type": "stream",
     "text": [
      "train_it 3651/6002 | lr:4.85e-05 | noise_prediction_loss:+0.5585\n"
     ]
    },
    {
     "name": "stderr",
     "output_type": "stream",
     "text": [
      "train_inner_loop: 100%|██████████| 64/64 [00:00<00:00, 114.20it/s]\n"
     ]
    },
    {
     "name": "stdout",
     "output_type": "stream",
     "text": [
      "train_it 3701/6002 | lr:4.85e-05 | noise_prediction_loss:+0.5370\n"
     ]
    },
    {
     "name": "stderr",
     "output_type": "stream",
     "text": [
      "train_inner_loop: 100%|██████████| 64/64 [00:00<00:00, 117.11it/s]\n"
     ]
    },
    {
     "name": "stdout",
     "output_type": "stream",
     "text": [
      "train_it 3751/6002 | lr:4.85e-05 | noise_prediction_loss:+0.5008\n"
     ]
    },
    {
     "name": "stderr",
     "output_type": "stream",
     "text": [
      "train_inner_loop: 100%|██████████| 64/64 [00:00<00:00, 139.08it/s]\n"
     ]
    },
    {
     "name": "stdout",
     "output_type": "stream",
     "text": [
      "train_it 3801/6002 | lr:4.85e-05 | noise_prediction_loss:+0.5242\n"
     ]
    },
    {
     "name": "stderr",
     "output_type": "stream",
     "text": [
      "eval_inner_loop: 100%|██████████| 64/64 [01:37<00:00,  1.52s/it]\n"
     ]
    },
    {
     "name": "stdout",
     "output_type": "stream",
     "text": [
      "EVALUATE: eval_it 3801/6002 | noise_prediction_loss:+0.5175 | reconstruction_loss:+0.1481\n"
     ]
    },
    {
     "name": "stderr",
     "output_type": "stream",
     "text": [
      "train_inner_loop: 100%|██████████| 64/64 [00:00<00:00, 121.88it/s]\n"
     ]
    },
    {
     "name": "stdout",
     "output_type": "stream",
     "text": [
      "train_it 3851/6002 | lr:4.85e-05 | noise_prediction_loss:+0.5539\n"
     ]
    },
    {
     "name": "stderr",
     "output_type": "stream",
     "text": [
      "train_inner_loop: 100%|██████████| 64/64 [00:00<00:00, 120.30it/s]\n"
     ]
    },
    {
     "name": "stdout",
     "output_type": "stream",
     "text": [
      "train_it 3901/6002 | lr:4.85e-05 | noise_prediction_loss:+0.5460\n"
     ]
    },
    {
     "name": "stderr",
     "output_type": "stream",
     "text": [
      "train_inner_loop: 100%|██████████| 64/64 [00:00<00:00, 141.15it/s]\n"
     ]
    },
    {
     "name": "stdout",
     "output_type": "stream",
     "text": [
      "train_it 3951/6002 | lr:4.85e-05 | noise_prediction_loss:+0.5479\n"
     ]
    },
    {
     "name": "stderr",
     "output_type": "stream",
     "text": [
      "train_inner_loop: 100%|██████████| 64/64 [00:00<00:00, 140.87it/s]\n"
     ]
    },
    {
     "name": "stdout",
     "output_type": "stream",
     "text": [
      "train_it 4001/6002 | lr:4.80e-05 | noise_prediction_loss:+0.5305\n",
      "Saved weights and losses on iteration 4000\n"
     ]
    },
    {
     "name": "stderr",
     "output_type": "stream",
     "text": [
      "eval_inner_loop: 100%|██████████| 64/64 [01:39<00:00,  1.55s/it]\n"
     ]
    },
    {
     "name": "stdout",
     "output_type": "stream",
     "text": [
      "EVALUATE: eval_it 4001/6002 | noise_prediction_loss:+0.5557 | reconstruction_loss:+0.1465\n"
     ]
    },
    {
     "name": "stderr",
     "output_type": "stream",
     "text": [
      "train_inner_loop: 100%|██████████| 64/64 [00:00<00:00, 109.97it/s]\n"
     ]
    },
    {
     "name": "stdout",
     "output_type": "stream",
     "text": [
      "train_it 4051/6002 | lr:4.80e-05 | noise_prediction_loss:+0.5316\n"
     ]
    },
    {
     "name": "stderr",
     "output_type": "stream",
     "text": [
      "train_inner_loop: 100%|██████████| 64/64 [00:00<00:00, 141.60it/s]\n"
     ]
    },
    {
     "name": "stdout",
     "output_type": "stream",
     "text": [
      "train_it 4101/6002 | lr:4.80e-05 | noise_prediction_loss:+0.5393\n"
     ]
    },
    {
     "name": "stderr",
     "output_type": "stream",
     "text": [
      "train_inner_loop: 100%|██████████| 64/64 [00:00<00:00, 139.80it/s]\n"
     ]
    },
    {
     "name": "stdout",
     "output_type": "stream",
     "text": [
      "train_it 4151/6002 | lr:4.80e-05 | noise_prediction_loss:+0.5190\n"
     ]
    },
    {
     "name": "stderr",
     "output_type": "stream",
     "text": [
      "train_inner_loop: 100%|██████████| 64/64 [00:00<00:00, 117.37it/s]\n"
     ]
    },
    {
     "name": "stdout",
     "output_type": "stream",
     "text": [
      "train_it 4201/6002 | lr:4.80e-05 | noise_prediction_loss:+0.5528\n"
     ]
    },
    {
     "name": "stderr",
     "output_type": "stream",
     "text": [
      "eval_inner_loop: 100%|██████████| 64/64 [01:20<00:00,  1.25s/it]\n"
     ]
    },
    {
     "name": "stdout",
     "output_type": "stream",
     "text": [
      "EVALUATE: eval_it 4201/6002 | noise_prediction_loss:+0.5221 | reconstruction_loss:+0.1486\n"
     ]
    },
    {
     "name": "stderr",
     "output_type": "stream",
     "text": [
      "train_inner_loop: 100%|██████████| 64/64 [00:00<00:00, 91.08it/s] \n"
     ]
    },
    {
     "name": "stdout",
     "output_type": "stream",
     "text": [
      "train_it 4251/6002 | lr:4.80e-05 | noise_prediction_loss:+0.5640\n"
     ]
    },
    {
     "name": "stderr",
     "output_type": "stream",
     "text": [
      "train_inner_loop: 100%|██████████| 64/64 [00:01<00:00, 52.60it/s]\n"
     ]
    },
    {
     "name": "stdout",
     "output_type": "stream",
     "text": [
      "train_it 4301/6002 | lr:4.80e-05 | noise_prediction_loss:+0.5462\n"
     ]
    },
    {
     "name": "stderr",
     "output_type": "stream",
     "text": [
      "train_inner_loop: 100%|██████████| 64/64 [00:00<00:00, 143.01it/s]\n"
     ]
    },
    {
     "name": "stdout",
     "output_type": "stream",
     "text": [
      "train_it 4351/6002 | lr:4.80e-05 | noise_prediction_loss:+0.5538\n"
     ]
    },
    {
     "name": "stderr",
     "output_type": "stream",
     "text": [
      "train_inner_loop: 100%|██████████| 64/64 [00:00<00:00, 90.90it/s]\n"
     ]
    },
    {
     "name": "stdout",
     "output_type": "stream",
     "text": [
      "train_it 4401/6002 | lr:4.80e-05 | noise_prediction_loss:+0.5632\n"
     ]
    },
    {
     "name": "stderr",
     "output_type": "stream",
     "text": [
      "eval_inner_loop: 100%|██████████| 64/64 [01:22<00:00,  1.29s/it]\n"
     ]
    },
    {
     "name": "stdout",
     "output_type": "stream",
     "text": [
      "EVALUATE: eval_it 4401/6002 | noise_prediction_loss:+0.5565 | reconstruction_loss:+0.1409\n"
     ]
    },
    {
     "name": "stderr",
     "output_type": "stream",
     "text": [
      "train_inner_loop: 100%|██████████| 64/64 [00:00<00:00, 84.21it/s]\n"
     ]
    },
    {
     "name": "stdout",
     "output_type": "stream",
     "text": [
      "train_it 4451/6002 | lr:4.80e-05 | noise_prediction_loss:+0.5110\n"
     ]
    },
    {
     "name": "stderr",
     "output_type": "stream",
     "text": [
      "train_inner_loop: 100%|██████████| 64/64 [00:00<00:00, 101.60it/s]\n"
     ]
    },
    {
     "name": "stdout",
     "output_type": "stream",
     "text": [
      "train_it 4501/6002 | lr:4.80e-05 | noise_prediction_loss:+0.5307\n"
     ]
    },
    {
     "name": "stderr",
     "output_type": "stream",
     "text": [
      "train_inner_loop: 100%|██████████| 64/64 [00:00<00:00, 118.03it/s]\n"
     ]
    },
    {
     "name": "stdout",
     "output_type": "stream",
     "text": [
      "train_it 4551/6002 | lr:4.80e-05 | noise_prediction_loss:+0.5350\n"
     ]
    },
    {
     "name": "stderr",
     "output_type": "stream",
     "text": [
      "train_inner_loop: 100%|██████████| 64/64 [00:00<00:00, 138.19it/s]\n"
     ]
    },
    {
     "name": "stdout",
     "output_type": "stream",
     "text": [
      "train_it 4601/6002 | lr:4.80e-05 | noise_prediction_loss:+0.4998\n"
     ]
    },
    {
     "name": "stderr",
     "output_type": "stream",
     "text": [
      "eval_inner_loop: 100%|██████████| 64/64 [01:36<00:00,  1.51s/it]\n"
     ]
    },
    {
     "name": "stdout",
     "output_type": "stream",
     "text": [
      "EVALUATE: eval_it 4601/6002 | noise_prediction_loss:+0.5110 | reconstruction_loss:+0.1414\n"
     ]
    },
    {
     "name": "stderr",
     "output_type": "stream",
     "text": [
      "train_inner_loop: 100%|██████████| 64/64 [00:00<00:00, 119.49it/s]\n"
     ]
    },
    {
     "name": "stdout",
     "output_type": "stream",
     "text": [
      "train_it 4651/6002 | lr:4.80e-05 | noise_prediction_loss:+0.5169\n"
     ]
    },
    {
     "name": "stderr",
     "output_type": "stream",
     "text": [
      "train_inner_loop: 100%|██████████| 64/64 [00:00<00:00, 141.19it/s]\n"
     ]
    },
    {
     "name": "stdout",
     "output_type": "stream",
     "text": [
      "train_it 4701/6002 | lr:4.80e-05 | noise_prediction_loss:+0.5245\n"
     ]
    },
    {
     "name": "stderr",
     "output_type": "stream",
     "text": [
      "train_inner_loop: 100%|██████████| 64/64 [00:00<00:00, 116.36it/s]\n"
     ]
    },
    {
     "name": "stdout",
     "output_type": "stream",
     "text": [
      "train_it 4751/6002 | lr:4.80e-05 | noise_prediction_loss:+0.5208\n"
     ]
    },
    {
     "name": "stderr",
     "output_type": "stream",
     "text": [
      "train_inner_loop: 100%|██████████| 64/64 [00:00<00:00, 139.98it/s]\n"
     ]
    },
    {
     "name": "stdout",
     "output_type": "stream",
     "text": [
      "train_it 4801/6002 | lr:4.80e-05 | noise_prediction_loss:+0.5065\n"
     ]
    },
    {
     "name": "stderr",
     "output_type": "stream",
     "text": [
      "eval_inner_loop: 100%|██████████| 64/64 [01:33<00:00,  1.47s/it]\n"
     ]
    },
    {
     "name": "stdout",
     "output_type": "stream",
     "text": [
      "EVALUATE: eval_it 4801/6002 | noise_prediction_loss:+0.5327 | reconstruction_loss:+0.1404\n"
     ]
    },
    {
     "name": "stderr",
     "output_type": "stream",
     "text": [
      "train_inner_loop: 100%|██████████| 64/64 [00:00<00:00, 87.49it/s] \n"
     ]
    },
    {
     "name": "stdout",
     "output_type": "stream",
     "text": [
      "train_it 4851/6002 | lr:4.80e-05 | noise_prediction_loss:+0.4920\n"
     ]
    },
    {
     "name": "stderr",
     "output_type": "stream",
     "text": [
      "train_inner_loop: 100%|██████████| 64/64 [00:00<00:00, 139.17it/s]\n"
     ]
    },
    {
     "name": "stdout",
     "output_type": "stream",
     "text": [
      "train_it 4901/6002 | lr:4.80e-05 | noise_prediction_loss:+0.5206\n"
     ]
    },
    {
     "name": "stderr",
     "output_type": "stream",
     "text": [
      "train_inner_loop: 100%|██████████| 64/64 [00:00<00:00, 96.43it/s] \n"
     ]
    },
    {
     "name": "stdout",
     "output_type": "stream",
     "text": [
      "train_it 4951/6002 | lr:4.80e-05 | noise_prediction_loss:+0.5201\n"
     ]
    },
    {
     "name": "stderr",
     "output_type": "stream",
     "text": [
      "train_inner_loop: 100%|██████████| 64/64 [00:00<00:00, 103.50it/s]\n"
     ]
    },
    {
     "name": "stdout",
     "output_type": "stream",
     "text": [
      "train_it 5001/6002 | lr:4.75e-05 | noise_prediction_loss:+0.5152\n",
      "Saved weights and losses on iteration 5000\n"
     ]
    },
    {
     "name": "stderr",
     "output_type": "stream",
     "text": [
      "eval_inner_loop: 100%|██████████| 64/64 [01:18<00:00,  1.22s/it]\n"
     ]
    },
    {
     "name": "stdout",
     "output_type": "stream",
     "text": [
      "EVALUATE: eval_it 5001/6002 | noise_prediction_loss:+0.5059 | reconstruction_loss:+0.1408\n"
     ]
    },
    {
     "name": "stderr",
     "output_type": "stream",
     "text": [
      "train_inner_loop: 100%|██████████| 64/64 [00:00<00:00, 118.02it/s]\n"
     ]
    },
    {
     "name": "stdout",
     "output_type": "stream",
     "text": [
      "train_it 5051/6002 | lr:4.75e-05 | noise_prediction_loss:+0.5235\n"
     ]
    },
    {
     "name": "stderr",
     "output_type": "stream",
     "text": [
      "train_inner_loop: 100%|██████████| 64/64 [00:01<00:00, 51.87it/s]\n"
     ]
    },
    {
     "name": "stdout",
     "output_type": "stream",
     "text": [
      "train_it 5101/6002 | lr:4.75e-05 | noise_prediction_loss:+0.4953\n"
     ]
    },
    {
     "name": "stderr",
     "output_type": "stream",
     "text": [
      "train_inner_loop: 100%|██████████| 64/64 [00:00<00:00, 132.43it/s]\n"
     ]
    },
    {
     "name": "stdout",
     "output_type": "stream",
     "text": [
      "train_it 5151/6002 | lr:4.75e-05 | noise_prediction_loss:+0.5079\n"
     ]
    },
    {
     "name": "stderr",
     "output_type": "stream",
     "text": [
      "train_inner_loop: 100%|██████████| 64/64 [00:00<00:00, 100.44it/s]\n"
     ]
    },
    {
     "name": "stdout",
     "output_type": "stream",
     "text": [
      "train_it 5201/6002 | lr:4.75e-05 | noise_prediction_loss:+0.5002\n"
     ]
    },
    {
     "name": "stderr",
     "output_type": "stream",
     "text": [
      "eval_inner_loop: 100%|██████████| 64/64 [01:22<00:00,  1.28s/it]\n"
     ]
    },
    {
     "name": "stdout",
     "output_type": "stream",
     "text": [
      "EVALUATE: eval_it 5201/6002 | noise_prediction_loss:+0.5263 | reconstruction_loss:+0.1356\n"
     ]
    },
    {
     "name": "stderr",
     "output_type": "stream",
     "text": [
      "train_inner_loop: 100%|██████████| 64/64 [00:00<00:00, 106.24it/s]\n"
     ]
    },
    {
     "name": "stdout",
     "output_type": "stream",
     "text": [
      "train_it 5251/6002 | lr:4.75e-05 | noise_prediction_loss:+0.5137\n"
     ]
    },
    {
     "name": "stderr",
     "output_type": "stream",
     "text": [
      "train_inner_loop: 100%|██████████| 64/64 [00:00<00:00, 122.06it/s]\n"
     ]
    },
    {
     "name": "stdout",
     "output_type": "stream",
     "text": [
      "train_it 5301/6002 | lr:4.75e-05 | noise_prediction_loss:+0.5019\n"
     ]
    },
    {
     "name": "stderr",
     "output_type": "stream",
     "text": [
      "train_inner_loop: 100%|██████████| 64/64 [00:00<00:00, 105.96it/s]\n"
     ]
    },
    {
     "name": "stdout",
     "output_type": "stream",
     "text": [
      "train_it 5351/6002 | lr:4.75e-05 | noise_prediction_loss:+0.5083\n"
     ]
    },
    {
     "name": "stderr",
     "output_type": "stream",
     "text": [
      "train_inner_loop: 100%|██████████| 64/64 [00:00<00:00, 140.15it/s]\n"
     ]
    },
    {
     "name": "stdout",
     "output_type": "stream",
     "text": [
      "train_it 5401/6002 | lr:4.75e-05 | noise_prediction_loss:+0.5170\n"
     ]
    },
    {
     "name": "stderr",
     "output_type": "stream",
     "text": [
      "eval_inner_loop: 100%|██████████| 64/64 [01:53<00:00,  1.78s/it]\n"
     ]
    },
    {
     "name": "stdout",
     "output_type": "stream",
     "text": [
      "EVALUATE: eval_it 5401/6002 | noise_prediction_loss:+0.5210 | reconstruction_loss:+0.1331\n"
     ]
    },
    {
     "name": "stderr",
     "output_type": "stream",
     "text": [
      "train_inner_loop: 100%|██████████| 64/64 [00:00<00:00, 111.89it/s]\n"
     ]
    },
    {
     "name": "stdout",
     "output_type": "stream",
     "text": [
      "train_it 5451/6002 | lr:4.75e-05 | noise_prediction_loss:+0.5123\n"
     ]
    },
    {
     "name": "stderr",
     "output_type": "stream",
     "text": [
      "train_inner_loop: 100%|██████████| 64/64 [00:00<00:00, 101.65it/s]\n"
     ]
    },
    {
     "name": "stdout",
     "output_type": "stream",
     "text": [
      "train_it 5501/6002 | lr:4.75e-05 | noise_prediction_loss:+0.5000\n"
     ]
    },
    {
     "name": "stderr",
     "output_type": "stream",
     "text": [
      "train_inner_loop: 100%|██████████| 64/64 [00:00<00:00, 138.81it/s]\n"
     ]
    },
    {
     "name": "stdout",
     "output_type": "stream",
     "text": [
      "train_it 5551/6002 | lr:4.75e-05 | noise_prediction_loss:+0.5278\n"
     ]
    },
    {
     "name": "stderr",
     "output_type": "stream",
     "text": [
      "train_inner_loop: 100%|██████████| 64/64 [00:00<00:00, 118.58it/s]\n"
     ]
    },
    {
     "name": "stdout",
     "output_type": "stream",
     "text": [
      "train_it 5601/6002 | lr:4.75e-05 | noise_prediction_loss:+0.5041\n"
     ]
    },
    {
     "name": "stderr",
     "output_type": "stream",
     "text": [
      "eval_inner_loop: 100%|██████████| 64/64 [01:36<00:00,  1.51s/it]\n"
     ]
    },
    {
     "name": "stdout",
     "output_type": "stream",
     "text": [
      "EVALUATE: eval_it 5601/6002 | noise_prediction_loss:+0.5039 | reconstruction_loss:+0.1342\n"
     ]
    },
    {
     "name": "stderr",
     "output_type": "stream",
     "text": [
      "train_inner_loop: 100%|██████████| 64/64 [00:00<00:00, 138.64it/s]\n"
     ]
    },
    {
     "name": "stdout",
     "output_type": "stream",
     "text": [
      "train_it 5651/6002 | lr:4.75e-05 | noise_prediction_loss:+0.4979\n"
     ]
    },
    {
     "name": "stderr",
     "output_type": "stream",
     "text": [
      "train_inner_loop: 100%|██████████| 64/64 [00:00<00:00, 110.74it/s]\n"
     ]
    },
    {
     "name": "stdout",
     "output_type": "stream",
     "text": [
      "train_it 5701/6002 | lr:4.75e-05 | noise_prediction_loss:+0.5146\n"
     ]
    },
    {
     "name": "stderr",
     "output_type": "stream",
     "text": [
      "train_inner_loop: 100%|██████████| 64/64 [00:00<00:00, 139.92it/s]\n"
     ]
    },
    {
     "name": "stdout",
     "output_type": "stream",
     "text": [
      "train_it 5751/6002 | lr:4.75e-05 | noise_prediction_loss:+0.4806\n"
     ]
    },
    {
     "name": "stderr",
     "output_type": "stream",
     "text": [
      "train_inner_loop: 100%|██████████| 64/64 [00:00<00:00, 137.64it/s]\n"
     ]
    },
    {
     "name": "stdout",
     "output_type": "stream",
     "text": [
      "train_it 5801/6002 | lr:4.75e-05 | noise_prediction_loss:+0.5208\n"
     ]
    },
    {
     "name": "stderr",
     "output_type": "stream",
     "text": [
      "eval_inner_loop: 100%|██████████| 64/64 [01:18<00:00,  1.23s/it]\n"
     ]
    },
    {
     "name": "stdout",
     "output_type": "stream",
     "text": [
      "EVALUATE: eval_it 5801/6002 | noise_prediction_loss:+0.5334 | reconstruction_loss:+0.1308\n"
     ]
    },
    {
     "name": "stderr",
     "output_type": "stream",
     "text": [
      "train_inner_loop: 100%|██████████| 64/64 [00:00<00:00, 90.29it/s] \n"
     ]
    },
    {
     "name": "stdout",
     "output_type": "stream",
     "text": [
      "train_it 5851/6002 | lr:4.75e-05 | noise_prediction_loss:+0.4792\n"
     ]
    },
    {
     "name": "stderr",
     "output_type": "stream",
     "text": [
      "train_inner_loop: 100%|██████████| 64/64 [00:01<00:00, 45.36it/s]\n"
     ]
    },
    {
     "name": "stdout",
     "output_type": "stream",
     "text": [
      "train_it 5901/6002 | lr:4.75e-05 | noise_prediction_loss:+0.4899\n"
     ]
    },
    {
     "name": "stderr",
     "output_type": "stream",
     "text": [
      "train_inner_loop: 100%|██████████| 64/64 [00:00<00:00, 134.23it/s]\n"
     ]
    },
    {
     "name": "stdout",
     "output_type": "stream",
     "text": [
      "train_it 5951/6002 | lr:4.75e-05 | noise_prediction_loss:+0.4868\n"
     ]
    },
    {
     "name": "stderr",
     "output_type": "stream",
     "text": [
      "train_inner_loop: 100%|██████████| 64/64 [00:00<00:00, 105.67it/s]\n"
     ]
    },
    {
     "name": "stdout",
     "output_type": "stream",
     "text": [
      "train_it 6001/6002 | lr:4.71e-05 | noise_prediction_loss:+0.4871\n",
      "Saved weights and losses on iteration 6000\n"
     ]
    },
    {
     "name": "stderr",
     "output_type": "stream",
     "text": [
      "eval_inner_loop: 100%|██████████| 64/64 [01:21<00:00,  1.27s/it]\n"
     ]
    },
    {
     "name": "stdout",
     "output_type": "stream",
     "text": [
      "EVALUATE: eval_it 6001/6002 | noise_prediction_loss:+0.5054 | reconstruction_loss:+0.1289\n",
      "Saved weights and losses on iteration 6001\n"
     ]
    }
   ],
   "source": [
    "from i2sb.runner import Runner\n",
    "\n",
    "# build runner\n",
    "run = Runner(opt)\n",
    "# train\n",
    "train_loss, eval_loss = run.train(opt, train, val)\n"
   ]
  },
  {
   "cell_type": "code",
   "execution_count": 6,
   "metadata": {},
   "outputs": [
    {
     "data": {
      "text/plain": [
       "763"
      ]
     },
     "execution_count": 6,
     "metadata": {},
     "output_type": "execute_result"
    }
   ],
   "source": [
    "del run\n",
    "del train, val\n",
    "gc.collect()"
   ]
  },
  {
   "cell_type": "code",
   "execution_count": 7,
   "metadata": {},
   "outputs": [],
   "source": [
    "t_noise_pred_l = np.load('results/test/train_losses.npy')\n",
    "ti = np.arange(0, len(t_noise_pred_l))\n",
    "\n",
    "e = np.load('results/test/eval_losses.npy')\n",
    "ei = e[:, 0].astype(int)\n",
    "e_noise_pred_l = e[:, 1]\n",
    "e_reconstruction_l = e[:, 2]"
   ]
  },
  {
   "cell_type": "code",
   "execution_count": 8,
   "metadata": {},
   "outputs": [
    {
     "data": {
      "image/png": "[encoded data removed]",
      "text/plain": [
       "<Figure size 1000x600 with 1 Axes>"
      ]
     },
     "metadata": {},
     "output_type": "display_data"
    }
   ],
   "source": [
    "plt.figure(figsize=(10, 6))\n",
    "plt.plot(ti, t_noise_pred_l, label='Train Noise Loss', linewidth=1)\n",
    "plt.plot(ei, e_noise_pred_l, label='Eval Noise Loss', linewidth=1)\n",
    "plt.plot(ei, e_reconstruction_l, label='Eval Reconstruction Loss', linewidth=1)\n",
    "plt.xlabel('Iteration')\n",
    "plt.ylabel('Avg. Loss')\n",
    "plt.title('Training vs. Evaluation Loss')\n",
    "plt.legend()\n",
    "plt.grid(True)\n",
    "plt.tight_layout()\n",
    "plt.show()"
   ]
  },
  {
   "cell_type": "code",
   "execution_count": 9,
   "metadata": {},
   "outputs": [
    {
     "data": {
      "image/png": "[encoded data removed]",
      "text/plain": [
       "<Figure size 1000x600 with 1 Axes>"
      ]
     },
     "metadata": {},
     "output_type": "display_data"
    }
   ],
   "source": [
    "mask_t = ti > 100\n",
    "mask_e = ei > 100\n",
    "\n",
    "ti_masked = ti[mask_t]\n",
    "t_noise_pred_l_masked = t_noise_pred_l[mask_t]\n",
    "ei_masked = ei[mask_e]\n",
    "e_noise_pred_l_masked = e_noise_pred_l[mask_e]\n",
    "e_reconstruction_l_masked = e_reconstruction_l[mask_e]\n",
    "\n",
    "plt.figure(figsize=(10, 6))\n",
    "plt.plot(ti_masked, t_noise_pred_l_masked, label='Train Noise Loss', linewidth=1)\n",
    "plt.plot(ei_masked, e_noise_pred_l_masked, label='Eval Noise Loss', linewidth=1)\n",
    "plt.plot(ei_masked, e_reconstruction_l_masked, label='Eval Reconstruction Loss', linewidth=1)\n",
    "plt.xlabel('Iteration')\n",
    "plt.ylabel('Avg. Loss')\n",
    "plt.title('Training vs. Evaluation Loss')\n",
    "plt.legend()\n",
    "plt.grid(True)\n",
    "plt.tight_layout()\n",
    "plt.show()"
   ]
  },
  {
   "cell_type": "code",
   "execution_count": 10,
   "metadata": {},
   "outputs": [],
   "source": [
    "# # Image transition plotter\n",
    "# # source: https://pytorch.org/vision/stable/auto_examples/plot_transforms.html#sphx-glr-auto-examples-plot-transforms-py\n",
    "\n",
    "# torch.manual_seed(opt.seed)\n",
    "# def plot_images(imgs, with_orig=False, row_title=None, **imshow_kwargs):\n",
    "#     if not isinstance(imgs[0], list):\n",
    "#         # Make a 2d grid even if there's just 1 row\n",
    "#         imgs = [imgs]\n",
    "\n",
    "#     num_rows = len(imgs)\n",
    "#     num_cols = len(imgs[0]) + with_orig\n",
    "#     _, axs = plt.subplots(figsize=(200,200), nrows=num_rows, ncols=num_cols, squeeze=False)\n",
    "#     for row_idx, row in enumerate(imgs):\n",
    "#         for col_idx, img in enumerate(row):\n",
    "#             ax = axs[row_idx, col_idx]\n",
    "#             ax.imshow(np.asarray(img), **imshow_kwargs)\n",
    "#             ax.set(xticklabels=[], yticklabels=[], xticks=[], yticks=[])\n",
    "\n",
    "#     if with_orig:\n",
    "#         axs[0, 0].set(title='Original image')\n",
    "#         axs[0, 0].title.set_size(8)\n",
    "#     if row_title is not None:\n",
    "#         for row_idx in range(num_rows):\n",
    "#             axs[row_idx, 0].set(ylabel=row_title[row_idx])\n",
    "\n",
    "#     plt.tight_layout()"
   ]
  }
 ],
 "metadata": {
  "kernelspec": {
   "display_name": ".venv",
   "language": "python",
   "name": "python3"
  },
  "language_info": {
   "codemirror_mode": {
    "name": "ipython",
    "version": 3
   },
   "file_extension": ".py",
   "mimetype": "text/x-python",
   "name": "python",
   "nbconvert_exporter": "python",
   "pygments_lexer": "ipython3",
   "version": "3.13.1"
  }
 },
 "nbformat": 4,
 "nbformat_minor": 2
}
