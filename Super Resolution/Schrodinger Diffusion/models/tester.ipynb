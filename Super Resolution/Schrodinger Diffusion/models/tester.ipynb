{
 "cells": [
  {
   "cell_type": "code",
   "execution_count": null,
   "metadata": {},
   "outputs": [],
   "source": [
    "from .models import Sat2RGB"
   ]
  },
  {
   "cell_type": "code",
   "execution_count": null,
   "metadata": {},
   "outputs": [],
   "source": [
    "input_image_size=25\n",
    "\n",
    "model = Sat2RGB(input_image_size)\n",
    "\n",
    "test=torch.randn(13, input_image_size, input_image_size)\n",
    "result = model.forward(test)\n",
    "\n",
    "print(result.shape)\n",
    "\n"
   ]
  }
 ],
 "metadata": {
  "language_info": {
   "name": "python"
  },
  "orig_nbformat": 4
 },
 "nbformat": 4,
 "nbformat_minor": 2
}
