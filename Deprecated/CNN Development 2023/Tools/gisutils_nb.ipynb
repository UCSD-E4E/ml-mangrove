{
  "cells": [
    {
      "cell_type": "code",
      "metadata": {
        "id": "UTqLRimar-v-",
        "colab_type": "code",
        "colab": {}
      },
      "source": [
        "#These libraries must be installed to the instance/VM in order to run correctly (gdal a requirement for )\n",
        "%%capture\n",
        "!apt-get update\n",
        "!apt-get install libgdal-dev -y\n",
        "!apt-get install python-gdal -y\n",
        "!apt-get install python-numpy python-scipy -y\n",
        "!pip install rasterio\n",
        "!pip install fiona\n",
        "!pip install geopandas\n",
        "\n",
        "#Importing GIS Software\n",
        "from rasterio import windows\n",
        "from rasterio.features import shapes\n",
        "import geopandas as gpd\n",
        "import rasterio \n",
        "import gdal \n",
        "import os\n",
        "\n",
        "#Importing other libraries\n",
        "from itertools import product\n",
        "from tqdm.autonotebook import tqdm\n",
        "import multiprocess\n",
        "import threading\n",
        "import concurrent\n",
        "import numpy as np\n"
      ],
      "execution_count": 53,
      "outputs": []
    },
    {
      "cell_type": "code",
      "metadata": {
        "id": "ZB0rYO-7yvA4",
        "colab_type": "code",
        "colab": {
          "base_uri": "https://localhost:8080/",
          "height": 122
        },
        "outputId": "64ef0e9e-5504-4fbc-abb4-c434b5240ce3"
      },
      "source": [
        "from google.colab import drive\n",
        "drive.mount('/content/drive')"
      ],
      "execution_count": 3,
      "outputs": [
        {
          "output_type": "stream",
          "text": [
            "Go to this URL in a browser: https://accounts.google.com/o/oauth2/auth?client_id=947318989803-6bn6qk8qdgf4n4g3pfee6491hc0brc4i.apps.googleusercontent.com&redirect_uri=urn%3aietf%3awg%3aoauth%3a2.0%3aoob&response_type=code&scope=email%20https%3a%2f%2fwww.googleapis.com%2fauth%2fdocs.test%20https%3a%2f%2fwww.googleapis.com%2fauth%2fdrive%20https%3a%2f%2fwww.googleapis.com%2fauth%2fdrive.photos.readonly%20https%3a%2f%2fwww.googleapis.com%2fauth%2fpeopleapi.readonly\n",
            "\n",
            "Enter your authorization code:\n",
            "··········\n",
            "Mounted at /content/drive\n"
          ],
          "name": "stdout"
        }
      ]
    },
    {
      "cell_type": "code",
      "metadata": {
        "id": "QzFpLJDLQx7b",
        "colab_type": "code",
        "colab": {}
      },
      "source": [
        "!cp \"/content/drive/Shared drives/SIO and E4E Mangroves /Data/Orthomosaics/2018-07 La Paz/Site 5/lap_2018-07_site05_120m_RGB_cc.tif\" ."
      ],
      "execution_count": 40,
      "outputs": []
    },
    {
      "cell_type": "code",
      "metadata": {
        "id": "CMFiaboObfrK",
        "colab_type": "code",
        "colab": {}
      },
      "source": [
        "!cp \"/content/drive/Shared drives/SIO and E4E Mangroves /Data/Orthomosaics/2019-05 Sian Ka'an Reserve/Site 1/skr_2019-05_site01_rgb_classifications/downsampled_m_skr_2019-05_site01_rgb.tif\" ."
      ],
      "execution_count": 5,
      "outputs": []
    },
    {
      "cell_type": "code",
      "metadata": {
        "id": "7oT5jBI5s2G8",
        "colab_type": "code",
        "colab": {}
      },
      "source": [
        "'''\n",
        "fix_gdalshp\n",
        "\n",
        "Fixes shapefiles or geopandas databases generated from gdal_polygonize.py to output geometries that only contain the image of interest. Note that this script either takes an input geopandas database, or filename,\n",
        "NOT BOTH\n",
        "\n",
        "Inputs- \n",
        "\n",
        "shp: geopandas dataframe of the shapefile outputted from gdal_polygonize.py\n",
        "filename: of input shapefile from gdal_polygonize.py\n",
        "\n",
        "Outputs: \n",
        "shp: geopandas dataframe of fixed polygons\n",
        "\n",
        "'''\n",
        "\n",
        "def fix_gdalshp(shp=None,filename=None):\n",
        "    if (type(shp) == None) and (filename != None):\n",
        "        shp = geopandas.read_file(filename)\n",
        "    for index, feature in tqdm(shp.iterrows()):\n",
        "        if feature[\"DN\"] == 0:\n",
        "            shp.drop(index, inplace=True)\n",
        "    if (filename != None):\n",
        "        shp.to_file(filename)\n",
        "    return shp\n",
        "\n",
        "'''\n",
        "load_image\n",
        "\n",
        "Inputs-\n",
        "\n",
        "file(str): full path of image/orthmosaic\n",
        "\n",
        "Outputs-\n",
        "\n",
        "img: generator of original image/orthomosaic\n",
        "meta(dict): contains meta information from image, including location, size, etc. \n",
        "\n",
        "'''\n",
        "\n",
        "#for loading orthomosaic into memory \n",
        "def load_image(file):\n",
        "    img = rasterio.open(file)\n",
        "    meta = img.meta.copy()\n",
        "    return img, meta\n",
        "\n",
        "\n",
        "\n",
        "'''\n",
        "\n",
        "get_tiles\n",
        "\n",
        "Inputs-\n",
        "\n",
        "ds: generator of image/orthomosaic, should be img returned from load_image()\n",
        "width,height(int) = width and height of output tiles\n",
        "\n",
        "Outputs-\n",
        "\n",
        "out_window(list): \n",
        "out_transform(list): contains meta information from image, including location, size, etc. \n",
        "\n",
        "original get_tiles implementation from \n",
        "\n",
        "https://gis.stackexchange.com/questions/285499/how-to-split-multiband-image-into-image-tiles-using-rasterio\n",
        "\n",
        "'''\n",
        "\n",
        "#gets the windows and transforms of all tiles within an orthomosaic\n",
        "def get_tiles(ds, width=256, height=256):\n",
        "    out_window = []\n",
        "    out_transform = []\n",
        "    ncols, nrows = ds.meta['width'], ds.meta['height']\n",
        "    offsets = product(range(0, ncols, width), range(0, nrows, height))\n",
        "    big_window = windows.Window(col_off=0, row_off=0, width=ncols, height=nrows)\n",
        "    for col_off, row_off in  offsets:\n",
        "        window = windows.Window(col_off=col_off, row_off=row_off, width=width, height=height).intersection(big_window)\n",
        "        out_window.append(window)\n",
        "        out_transform.append(windows.transform(window, ds.transform))\n",
        "    return out_window, out_transform\n",
        "\n",
        "'''\n",
        "\n",
        "retile\n",
        "\n",
        "inputs:\n",
        "img: generator from input image or orthmosaic\n",
        "meta(dict): contains meta information from image, including location, size, etc. \n",
        "\n",
        "outputs(list): list of numpy arrays of input tiles\n",
        "\n",
        "'''\n",
        "def retile(img, meta, out_path = 'images/', files=False, width=256, height=256):\n",
        "\n",
        "    #getting tiles and setting filenames for the outputy files\n",
        "    output_filename = 'tile_{}-{}.tif'\n",
        "    window, transform = get_tiles(img, width, height)\n",
        "\n",
        "    #locking read and write since they are not thread safe \n",
        "    read_lock = threading.Lock()\n",
        "    write_lock = threading.Lock()\n",
        "\n",
        "    #creating process to be threaded\n",
        "    def process(window,transform):\n",
        "\n",
        "        #thread locking reading (not thread safe)\n",
        "        with read_lock:\n",
        "            tile = img.read(window=window)\n",
        "            meta['transform'] = transform\n",
        "            meta['width'], meta['height'] = window.width, window.height\n",
        "        #checking for tiles that are only alpha band\n",
        "\n",
        "        #thread locking writing (not thread safe)\n",
        "        with write_lock:\n",
        "            #if you want to write files \n",
        "            if files:\n",
        "                outpath = os.path.join(out_path,output_filename.format(int(window.col_off), int(window.row_off)))\n",
        "                with rio.open(outpath, 'w', **meta) as outds:\n",
        "                    outds.write(img.read(window=window))\n",
        "        return tile\n",
        "\n",
        "    results = []\n",
        "\n",
        "    #iterating through the different windows and tranforms generated with get_tiles\n",
        "    for cur_w, cur_t in tqdm(zip(window, transform)):\n",
        "        #running the process above with the maximum amount of workers available and returning the future (result returned) \n",
        "        with concurrent.futures.ThreadPoolExecutor(max_workers=multiprocessing.cpu_count()) as executor:\n",
        "            future = executor.submit(process, cur_w, cur_t)\n",
        "        results.append(future.result())\n",
        "    return results\n",
        "\n",
        "'''\n",
        "\n",
        "polygonize\n",
        "\n",
        "works similar to gdal_polygonize, but much faster :)\n",
        "\n",
        "Inputs- \n",
        "\n",
        "img: generator from input image or orthmosaic\n",
        "out_file: output filename of shapefile to write\n",
        "\n",
        "Outputs: geopandas_df: geopandas dataframe containing the geometries from the input raster band\n",
        "\n",
        "'''\n",
        "\n",
        "def polygonize(img, out_file=None, band=4):\n",
        "    raster = img.read(band)\n",
        "    geometries = list((\n",
        "        {'properties': {'raster_val': v}, 'geometry': s}\n",
        "        for i, (s, v) \n",
        "        in enumerate(\n",
        "            shapes(raster, mask=None, transform=img.transform))))\n",
        "    \n",
        "    geopandas_df  = gpd.GeoDataFrame.from_features(geometries)\n",
        "\n",
        "    if out_file != None: \n",
        "            geopandas_df.to_file(out_file)\n",
        "\n",
        "    return geopandas_df\n",
        "\n",
        "'''\n",
        "\n",
        "fix_shp\n",
        "\n",
        "works similar to gdal_polygonize, but much faster :)\n",
        "\n",
        "Inputs- \n",
        "\n",
        "img: generator from input image or orthmosaic\n",
        "filename: filename of input shapefile generated from gisutils \n",
        "\n",
        "Outputs-\n",
        "shp: geopandas dataframe of fixed polygons\n",
        "\n",
        "\n",
        "'''\n",
        "\n",
        "\n",
        "def fix_shp(shp=None,filename=None):\n",
        "    if (type(shp) == None) and (filename != None):\n",
        "        shp = geopandas.read_file(filename)\n",
        "    for index, feature in tqdm(shp.iterrows()):\n",
        "        if feature[\"raster_val\"] == 0:\n",
        "            shp.drop(index, inplace=True)\n",
        "    \n",
        "    if (filename != None):\n",
        "        shp.to_file(filename)\n",
        "    return shp\n",
        "\n",
        "\n",
        "#def get_area(geopandas_df):"
      ],
      "execution_count": 66,
      "outputs": []
    },
    {
      "cell_type": "code",
      "metadata": {
        "id": "KnDfq0XqQ5Qc",
        "colab_type": "code",
        "colab": {}
      },
      "source": [
        "# 16 seconds - intial implementation\n",
        "# 13 seconds - gdal_retile.py\n",
        "# 12.5 seconds - retile implementation\n",
        "# 8.25 seconds - no file saving"
      ],
      "execution_count": null,
      "outputs": []
    },
    {
      "cell_type": "code",
      "metadata": {
        "id": "cZk7cUU3Plwp",
        "colab_type": "code",
        "colab": {
          "base_uri": "https://localhost:8080/",
          "height": 51
        },
        "outputId": "634ea6f7-bfa3-46f9-ad24-7e8aa217451c"
      },
      "source": [
        "#example usage of retile\n",
        "\n",
        "%%time\n",
        "file = \"lap_2018-07_site05_120m_RGB_cc.tif\" \n",
        "img, meta = load_image(file)\n",
        "results = generate_tiles(img,meta,files=False)"
      ],
      "execution_count": null,
      "outputs": [
        {
          "output_type": "stream",
          "text": [
            "CPU times: user 5.92 s, sys: 1.2 s, total: 7.12 s\n",
            "Wall time: 8.24 s\n"
          ],
          "name": "stdout"
        }
      ]
    },
    {
      "cell_type": "code",
      "metadata": {
        "id": "ysakOajzfTLy",
        "colab_type": "code",
        "colab": {}
      },
      "source": [
        "!cp \"/content/drive/Shared drives/SIO and E4E Mangroves /Data/Orthomosaics/2018-05 Puerto San Carlos/Site 9/psc_2018-05_site09_120m_RGB_classifications/m_psc_2018-05_site09_120m_RGB.tif\" ."
      ],
      "execution_count": 42,
      "outputs": []
    },
    {
      "cell_type": "code",
      "metadata": {
        "id": "q6ltb_PXwFg-",
        "colab_type": "code",
        "colab": {
          "base_uri": "https://localhost:8080/",
          "height": 51
        },
        "outputId": "add85ff6-ff27-40fb-c601-5ca06cccd2d8"
      },
      "source": [
        "#example usage of polygonize and fixshp\n",
        "\n",
        "%%time\n",
        "file = \"/content/downsampled_m_psc_2018-05_site09_120m_RGB.tif\"\n",
        "img, meta = load_image(file)\n",
        "df = polygonize(img,  out_file=\"/content/test.shp\", band=4)\n",
        "#df = fix_shp(shp=df)\n"
      ],
      "execution_count": null,
      "outputs": [
        {
          "output_type": "stream",
          "text": [
            "CPU times: user 26.3 ms, sys: 3.72 ms, total: 30 ms\n",
            "Wall time: 32.5 ms\n"
          ],
          "name": "stdout"
        }
      ]
    }
  ],
  "metadata": {
    "colab": {
      "name": "gisutils_test.ipynb",
      "provenance": []
    },
    "kernelspec": {
      "name": "python3",
      "display_name": "Python 3"
    }
  },
  "nbformat": 4,
  "nbformat_minor": 0
}