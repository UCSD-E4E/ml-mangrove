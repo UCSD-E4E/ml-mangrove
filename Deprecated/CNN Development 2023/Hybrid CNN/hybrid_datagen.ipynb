{
  "nbformat": 4,
  "nbformat_minor": 0,
  "metadata": {
    "colab": {
      "name": "hybrid_datagen.ipynb",
      "provenance": [],
      "collapsed_sections": []
    },
    "kernelspec": {
      "name": "python3",
      "display_name": "Python 3"
    },
    "widgets": {
      "application/vnd.jupyter.widget-state+json": {
        "e410299bf2354b0eb730c295d76e5783": {
          "model_module": "@jupyter-widgets/controls",
          "model_name": "HBoxModel",
          "state": {
            "_view_name": "HBoxView",
            "_dom_classes": [],
            "_model_name": "HBoxModel",
            "_view_module": "@jupyter-widgets/controls",
            "_model_module_version": "1.5.0",
            "_view_count": null,
            "_view_module_version": "1.5.0",
            "box_style": "",
            "layout": "IPY_MODEL_f4d104cd680d4d339f9e49bd20076afa",
            "_model_module": "@jupyter-widgets/controls",
            "children": [
              "IPY_MODEL_29964ea07dbd4a9ab5b1b1cf8746ac63",
              "IPY_MODEL_b185b8a6c50548df8d8adce466882737"
            ]
          }
        },
        "f4d104cd680d4d339f9e49bd20076afa": {
          "model_module": "@jupyter-widgets/base",
          "model_name": "LayoutModel",
          "state": {
            "_view_name": "LayoutView",
            "grid_template_rows": null,
            "right": null,
            "justify_content": null,
            "_view_module": "@jupyter-widgets/base",
            "overflow": null,
            "_model_module_version": "1.2.0",
            "_view_count": null,
            "flex_flow": null,
            "width": null,
            "min_width": null,
            "border": null,
            "align_items": null,
            "bottom": null,
            "_model_module": "@jupyter-widgets/base",
            "top": null,
            "grid_column": null,
            "overflow_y": null,
            "overflow_x": null,
            "grid_auto_flow": null,
            "grid_area": null,
            "grid_template_columns": null,
            "flex": null,
            "_model_name": "LayoutModel",
            "justify_items": null,
            "grid_row": null,
            "max_height": null,
            "align_content": null,
            "visibility": null,
            "align_self": null,
            "height": null,
            "min_height": null,
            "padding": null,
            "grid_auto_rows": null,
            "grid_gap": null,
            "max_width": null,
            "order": null,
            "_view_module_version": "1.2.0",
            "grid_template_areas": null,
            "object_position": null,
            "object_fit": null,
            "grid_auto_columns": null,
            "margin": null,
            "display": null,
            "left": null
          }
        },
        "29964ea07dbd4a9ab5b1b1cf8746ac63": {
          "model_module": "@jupyter-widgets/controls",
          "model_name": "FloatProgressModel",
          "state": {
            "_view_name": "ProgressView",
            "style": "IPY_MODEL_ca65b2e22e8d4b98b9895be0a419eeb6",
            "_dom_classes": [],
            "description": "100%",
            "_model_name": "FloatProgressModel",
            "bar_style": "success",
            "max": 14310,
            "_view_module": "@jupyter-widgets/controls",
            "_model_module_version": "1.5.0",
            "value": 14310,
            "_view_count": null,
            "_view_module_version": "1.5.0",
            "orientation": "horizontal",
            "min": 0,
            "description_tooltip": null,
            "_model_module": "@jupyter-widgets/controls",
            "layout": "IPY_MODEL_3d02f1b331474b409032c1b1d5f8048b"
          }
        },
        "b185b8a6c50548df8d8adce466882737": {
          "model_module": "@jupyter-widgets/controls",
          "model_name": "HTMLModel",
          "state": {
            "_view_name": "HTMLView",
            "style": "IPY_MODEL_80118dcef513456bb440ef3e1a212e0c",
            "_dom_classes": [],
            "description": "",
            "_model_name": "HTMLModel",
            "placeholder": "​",
            "_view_module": "@jupyter-widgets/controls",
            "_model_module_version": "1.5.0",
            "value": " 14310/14310 [00:22&lt;00:00, 637.16it/s]",
            "_view_count": null,
            "_view_module_version": "1.5.0",
            "description_tooltip": null,
            "_model_module": "@jupyter-widgets/controls",
            "layout": "IPY_MODEL_74904f57c97243858e910c8beb8929d8"
          }
        },
        "ca65b2e22e8d4b98b9895be0a419eeb6": {
          "model_module": "@jupyter-widgets/controls",
          "model_name": "ProgressStyleModel",
          "state": {
            "_view_name": "StyleView",
            "_model_name": "ProgressStyleModel",
            "description_width": "initial",
            "_view_module": "@jupyter-widgets/base",
            "_model_module_version": "1.5.0",
            "_view_count": null,
            "_view_module_version": "1.2.0",
            "bar_color": null,
            "_model_module": "@jupyter-widgets/controls"
          }
        },
        "3d02f1b331474b409032c1b1d5f8048b": {
          "model_module": "@jupyter-widgets/base",
          "model_name": "LayoutModel",
          "state": {
            "_view_name": "LayoutView",
            "grid_template_rows": null,
            "right": null,
            "justify_content": null,
            "_view_module": "@jupyter-widgets/base",
            "overflow": null,
            "_model_module_version": "1.2.0",
            "_view_count": null,
            "flex_flow": null,
            "width": null,
            "min_width": null,
            "border": null,
            "align_items": null,
            "bottom": null,
            "_model_module": "@jupyter-widgets/base",
            "top": null,
            "grid_column": null,
            "overflow_y": null,
            "overflow_x": null,
            "grid_auto_flow": null,
            "grid_area": null,
            "grid_template_columns": null,
            "flex": null,
            "_model_name": "LayoutModel",
            "justify_items": null,
            "grid_row": null,
            "max_height": null,
            "align_content": null,
            "visibility": null,
            "align_self": null,
            "height": null,
            "min_height": null,
            "padding": null,
            "grid_auto_rows": null,
            "grid_gap": null,
            "max_width": null,
            "order": null,
            "_view_module_version": "1.2.0",
            "grid_template_areas": null,
            "object_position": null,
            "object_fit": null,
            "grid_auto_columns": null,
            "margin": null,
            "display": null,
            "left": null
          }
        },
        "80118dcef513456bb440ef3e1a212e0c": {
          "model_module": "@jupyter-widgets/controls",
          "model_name": "DescriptionStyleModel",
          "state": {
            "_view_name": "StyleView",
            "_model_name": "DescriptionStyleModel",
            "description_width": "",
            "_view_module": "@jupyter-widgets/base",
            "_model_module_version": "1.5.0",
            "_view_count": null,
            "_view_module_version": "1.2.0",
            "_model_module": "@jupyter-widgets/controls"
          }
        },
        "74904f57c97243858e910c8beb8929d8": {
          "model_module": "@jupyter-widgets/base",
          "model_name": "LayoutModel",
          "state": {
            "_view_name": "LayoutView",
            "grid_template_rows": null,
            "right": null,
            "justify_content": null,
            "_view_module": "@jupyter-widgets/base",
            "overflow": null,
            "_model_module_version": "1.2.0",
            "_view_count": null,
            "flex_flow": null,
            "width": null,
            "min_width": null,
            "border": null,
            "align_items": null,
            "bottom": null,
            "_model_module": "@jupyter-widgets/base",
            "top": null,
            "grid_column": null,
            "overflow_y": null,
            "overflow_x": null,
            "grid_auto_flow": null,
            "grid_area": null,
            "grid_template_columns": null,
            "flex": null,
            "_model_name": "LayoutModel",
            "justify_items": null,
            "grid_row": null,
            "max_height": null,
            "align_content": null,
            "visibility": null,
            "align_self": null,
            "height": null,
            "min_height": null,
            "padding": null,
            "grid_auto_rows": null,
            "grid_gap": null,
            "max_width": null,
            "order": null,
            "_view_module_version": "1.2.0",
            "grid_template_areas": null,
            "object_position": null,
            "object_fit": null,
            "grid_auto_columns": null,
            "margin": null,
            "display": null,
            "left": null
          }
        },
        "bdafc0b4a433446695946aae5e03a24c": {
          "model_module": "@jupyter-widgets/controls",
          "model_name": "HBoxModel",
          "state": {
            "_view_name": "HBoxView",
            "_dom_classes": [],
            "_model_name": "HBoxModel",
            "_view_module": "@jupyter-widgets/controls",
            "_model_module_version": "1.5.0",
            "_view_count": null,
            "_view_module_version": "1.5.0",
            "box_style": "",
            "layout": "IPY_MODEL_95c24e37188142959c62341984e3f305",
            "_model_module": "@jupyter-widgets/controls",
            "children": [
              "IPY_MODEL_08c4fdfeaab04f9888d4b3a7c55ae124",
              "IPY_MODEL_3303bfecb85249cbb0a426ea7fc9777d"
            ]
          }
        },
        "95c24e37188142959c62341984e3f305": {
          "model_module": "@jupyter-widgets/base",
          "model_name": "LayoutModel",
          "state": {
            "_view_name": "LayoutView",
            "grid_template_rows": null,
            "right": null,
            "justify_content": null,
            "_view_module": "@jupyter-widgets/base",
            "overflow": null,
            "_model_module_version": "1.2.0",
            "_view_count": null,
            "flex_flow": null,
            "width": null,
            "min_width": null,
            "border": null,
            "align_items": null,
            "bottom": null,
            "_model_module": "@jupyter-widgets/base",
            "top": null,
            "grid_column": null,
            "overflow_y": null,
            "overflow_x": null,
            "grid_auto_flow": null,
            "grid_area": null,
            "grid_template_columns": null,
            "flex": null,
            "_model_name": "LayoutModel",
            "justify_items": null,
            "grid_row": null,
            "max_height": null,
            "align_content": null,
            "visibility": null,
            "align_self": null,
            "height": null,
            "min_height": null,
            "padding": null,
            "grid_auto_rows": null,
            "grid_gap": null,
            "max_width": null,
            "order": null,
            "_view_module_version": "1.2.0",
            "grid_template_areas": null,
            "object_position": null,
            "object_fit": null,
            "grid_auto_columns": null,
            "margin": null,
            "display": null,
            "left": null
          }
        },
        "08c4fdfeaab04f9888d4b3a7c55ae124": {
          "model_module": "@jupyter-widgets/controls",
          "model_name": "FloatProgressModel",
          "state": {
            "_view_name": "ProgressView",
            "style": "IPY_MODEL_a0cdf15039c04832a1c02149fe3e1094",
            "_dom_classes": [],
            "description": " 84%",
            "_model_name": "FloatProgressModel",
            "bar_style": "",
            "max": 20328,
            "_view_module": "@jupyter-widgets/controls",
            "_model_module_version": "1.5.0",
            "value": 17083,
            "_view_count": null,
            "_view_module_version": "1.5.0",
            "orientation": "horizontal",
            "min": 0,
            "description_tooltip": null,
            "_model_module": "@jupyter-widgets/controls",
            "layout": "IPY_MODEL_7a985d66d4ff486db3be65caff41a0ea"
          }
        },
        "3303bfecb85249cbb0a426ea7fc9777d": {
          "model_module": "@jupyter-widgets/controls",
          "model_name": "HTMLModel",
          "state": {
            "_view_name": "HTMLView",
            "style": "IPY_MODEL_ed95383633c047958b57c1d18f56f6c0",
            "_dom_classes": [],
            "description": "",
            "_model_name": "HTMLModel",
            "placeholder": "​",
            "_view_module": "@jupyter-widgets/controls",
            "_model_module_version": "1.5.0",
            "value": " 17083/20328 [00:25&lt;00:04, 660.73it/s]",
            "_view_count": null,
            "_view_module_version": "1.5.0",
            "description_tooltip": null,
            "_model_module": "@jupyter-widgets/controls",
            "layout": "IPY_MODEL_db328836090a4e1fb3a482a08eef94a0"
          }
        },
        "a0cdf15039c04832a1c02149fe3e1094": {
          "model_module": "@jupyter-widgets/controls",
          "model_name": "ProgressStyleModel",
          "state": {
            "_view_name": "StyleView",
            "_model_name": "ProgressStyleModel",
            "description_width": "initial",
            "_view_module": "@jupyter-widgets/base",
            "_model_module_version": "1.5.0",
            "_view_count": null,
            "_view_module_version": "1.2.0",
            "bar_color": null,
            "_model_module": "@jupyter-widgets/controls"
          }
        },
        "7a985d66d4ff486db3be65caff41a0ea": {
          "model_module": "@jupyter-widgets/base",
          "model_name": "LayoutModel",
          "state": {
            "_view_name": "LayoutView",
            "grid_template_rows": null,
            "right": null,
            "justify_content": null,
            "_view_module": "@jupyter-widgets/base",
            "overflow": null,
            "_model_module_version": "1.2.0",
            "_view_count": null,
            "flex_flow": null,
            "width": null,
            "min_width": null,
            "border": null,
            "align_items": null,
            "bottom": null,
            "_model_module": "@jupyter-widgets/base",
            "top": null,
            "grid_column": null,
            "overflow_y": null,
            "overflow_x": null,
            "grid_auto_flow": null,
            "grid_area": null,
            "grid_template_columns": null,
            "flex": null,
            "_model_name": "LayoutModel",
            "justify_items": null,
            "grid_row": null,
            "max_height": null,
            "align_content": null,
            "visibility": null,
            "align_self": null,
            "height": null,
            "min_height": null,
            "padding": null,
            "grid_auto_rows": null,
            "grid_gap": null,
            "max_width": null,
            "order": null,
            "_view_module_version": "1.2.0",
            "grid_template_areas": null,
            "object_position": null,
            "object_fit": null,
            "grid_auto_columns": null,
            "margin": null,
            "display": null,
            "left": null
          }
        },
        "ed95383633c047958b57c1d18f56f6c0": {
          "model_module": "@jupyter-widgets/controls",
          "model_name": "DescriptionStyleModel",
          "state": {
            "_view_name": "StyleView",
            "_model_name": "DescriptionStyleModel",
            "description_width": "",
            "_view_module": "@jupyter-widgets/base",
            "_model_module_version": "1.5.0",
            "_view_count": null,
            "_view_module_version": "1.2.0",
            "_model_module": "@jupyter-widgets/controls"
          }
        },
        "db328836090a4e1fb3a482a08eef94a0": {
          "model_module": "@jupyter-widgets/base",
          "model_name": "LayoutModel",
          "state": {
            "_view_name": "LayoutView",
            "grid_template_rows": null,
            "right": null,
            "justify_content": null,
            "_view_module": "@jupyter-widgets/base",
            "overflow": null,
            "_model_module_version": "1.2.0",
            "_view_count": null,
            "flex_flow": null,
            "width": null,
            "min_width": null,
            "border": null,
            "align_items": null,
            "bottom": null,
            "_model_module": "@jupyter-widgets/base",
            "top": null,
            "grid_column": null,
            "overflow_y": null,
            "overflow_x": null,
            "grid_auto_flow": null,
            "grid_area": null,
            "grid_template_columns": null,
            "flex": null,
            "_model_name": "LayoutModel",
            "justify_items": null,
            "grid_row": null,
            "max_height": null,
            "align_content": null,
            "visibility": null,
            "align_self": null,
            "height": null,
            "min_height": null,
            "padding": null,
            "grid_auto_rows": null,
            "grid_gap": null,
            "max_width": null,
            "order": null,
            "_view_module_version": "1.2.0",
            "grid_template_areas": null,
            "object_position": null,
            "object_fit": null,
            "grid_auto_columns": null,
            "margin": null,
            "display": null,
            "left": null
          }
        }
      }
    }
  },
  "cells": [
    {
      "cell_type": "markdown",
      "metadata": {
        "id": "axtzhyZfreyi",
        "colab_type": "text"
      },
      "source": [
        "# Data Generation for Hybrid CNN"
      ]
    },
    {
      "cell_type": "markdown",
      "metadata": {
        "id": "YhxtR1lrVpTy",
        "colab_type": "text"
      },
      "source": [
        "### Workflow:\n",
        "\n",
        "Get 4 files + other info:\n",
        "\n",
        "- drone image\n",
        "- planetscope image\n",
        "- 0 shapefile\n",
        "- 1 shapefile\n",
        "- upload location\n",
        "\n",
        "After getting files:\n",
        "\n",
        "1. Clip image for satellite for each class\n",
        "2. Tileize each satellite image\n",
        "3. remove zero tiles\n",
        "\n",
        "\n",
        "4. Generate tiles based on each tiled satellite image\n",
        "5. remove additional tiles\n",
        "\n"
      ]
    },
    {
      "cell_type": "code",
      "metadata": {
        "id": "lXnXJ_6cgXsp",
        "colab_type": "code",
        "colab": {}
      },
      "source": [
        "%%capture\n",
        "!apt-get update\n",
        "!apt-get install libgdal-dev -y\n",
        "!apt-get install python-gdal -y\n",
        "!apt-get install python-numpy python-scipy -y\n",
        "!pip install rasterio\n",
        "!pip install fiona\n",
        "!pip install geopandas\n",
        "!pip install PyCRS\n",
        "!pip install -i https://test.pypi.org/simple/ gis-utils-pkg-dillhicks==0.0.3"
      ],
      "execution_count": 1,
      "outputs": []
    },
    {
      "cell_type": "code",
      "metadata": {
        "id": "xkZe2byEn3T3",
        "colab_type": "code",
        "colab": {
          "base_uri": "https://localhost:8080/",
          "height": 51
        },
        "outputId": "9088410c-7af6-4933-cfd4-39eaa1e4405c"
      },
      "source": [
        "import rasterio\n",
        "from shapely.geometry import box\n",
        "import geopandas as gpd\n",
        "from rasterio.mask import mask\n",
        "from rasterio.plot import show\n",
        "from tqdm.autonotebook import tqdm\n",
        "import os\n",
        "from rasterio import windows as wind\n",
        "from fiona.crs import from_epsg\n",
        "from gis_utils import raster\n",
        "import matplotlib.pyplot as plt\n",
        "import fiona\n",
        "import numpy as np"
      ],
      "execution_count": 2,
      "outputs": [
        {
          "output_type": "stream",
          "text": [
            "/usr/local/lib/python3.6/dist-packages/ipykernel_launcher.py:6: TqdmExperimentalWarning: Using `tqdm.autonotebook.tqdm` in notebook mode. Use `tqdm.tqdm` instead to force console mode (e.g. in jupyter console)\n",
            "  \n"
          ],
          "name": "stderr"
        }
      ]
    },
    {
      "cell_type": "code",
      "metadata": {
        "id": "kzNMEslxjYFp",
        "colab_type": "code",
        "colab": {
          "base_uri": "https://localhost:8080/",
          "height": 122
        },
        "outputId": "f1778209-4d0d-4305-8bda-9358e42eee39"
      },
      "source": [
        "from google.colab import drive\n",
        "drive.mount('/content/drive')"
      ],
      "execution_count": 3,
      "outputs": [
        {
          "output_type": "stream",
          "text": [
            "Go to this URL in a browser: https://accounts.google.com/o/oauth2/auth?client_id=947318989803-6bn6qk8qdgf4n4g3pfee6491hc0brc4i.apps.googleusercontent.com&redirect_uri=urn%3aietf%3awg%3aoauth%3a2.0%3aoob&response_type=code&scope=email%20https%3a%2f%2fwww.googleapis.com%2fauth%2fdocs.test%20https%3a%2f%2fwww.googleapis.com%2fauth%2fdrive%20https%3a%2f%2fwww.googleapis.com%2fauth%2fdrive.photos.readonly%20https%3a%2f%2fwww.googleapis.com%2fauth%2fpeopleapi.readonly\n",
            "\n",
            "Enter your authorization code:\n",
            "··········\n",
            "Mounted at /content/drive\n"
          ],
          "name": "stdout"
        }
      ]
    },
    {
      "cell_type": "markdown",
      "metadata": {
        "id": "bPTBra4tq-v3",
        "colab_type": "text"
      },
      "source": [
        "# Image Generation Functions\n"
      ]
    },
    {
      "cell_type": "code",
      "metadata": {
        "id": "TAjHfEp6uTRG",
        "colab_type": "code",
        "colab": {}
      },
      "source": [
        "def write_ndvi(image_file):\n",
        "    np.seterr(divide='ignore', invalid='ignore')\n",
        "    p_img, p_meta = raster.load_image(image_file)\n",
        "\n",
        "    red = p_img.read(1)\n",
        "    nir = p_img.read(4)\n",
        "    array = p_img.read()\n",
        "    ndvi = (nir - red)/(nir + red)\n",
        "    show(ndvi)\n",
        "    p_meta.update({\"count\": p_img.count+1})\n",
        "    out_img = np.concatenate((array, np.expand_dims(ndvi, axis=0)))\n",
        "\n",
        "    with rasterio.open(image_file, 'w', **p_meta) as outds:\n",
        "        outds.write(out_img)"
      ],
      "execution_count": 18,
      "outputs": []
    },
    {
      "cell_type": "code",
      "metadata": {
        "id": "czERgp7yLEVW",
        "colab_type": "code",
        "colab": {}
      },
      "source": [
        "def write_ndwi(image_file):\n",
        "    np.seterr(divide='ignore', invalid='ignore')\n",
        "    p_img, p_meta = raster.load_image(image_file)\n",
        "\n",
        "    green = p_img.read(2)\n",
        "    nir = p_img.read(4)\n",
        "    array = p_img.read()\n",
        "    ndwi = (green - nir)/(nir + green)\n",
        "    show(ndwi)\n",
        "    p_meta.update({\"count\": p_img.count+1})\n",
        "    out_img = np.concatenate((array, np.expand_dims(ndwi, axis=0)))\n",
        "\n",
        "    with rasterio.open(image_file, 'w', **p_meta) as outds:\n",
        "        outds.write(out_img)"
      ],
      "execution_count": 16,
      "outputs": []
    },
    {
      "cell_type": "code",
      "metadata": {
        "id": "_rhcjY94l2Qs",
        "colab_type": "code",
        "colab": {}
      },
      "source": [
        "#for clipping raster files\n",
        "\n",
        "def clip(shp_file, image_file, str_format):\n",
        "    with fiona.open(shp_file, \"r\") as shapefile:\n",
        "        shapes = [feature[\"geometry\"] for feature in shapefile]\n",
        "    with rasterio.open(image_file) as src:\n",
        "        out_image, out_transform = rasterio.mask.mask(src, shapes, crop=True)\n",
        "        out_meta = src.meta\n",
        "    out_meta.update({\"driver\": \"GTiff\",\n",
        "                 \"height\": out_image.shape[1],\n",
        "                 \"width\": out_image.shape[2],\n",
        "                 \"transform\": out_transform})\n",
        "    with rasterio.open(str_format + image_file, \"w\", **out_meta) as dest:\n",
        "        dest.write(out_image)"
      ],
      "execution_count": 5,
      "outputs": []
    },
    {
      "cell_type": "code",
      "metadata": {
        "id": "mnCZPFARApLn",
        "colab_type": "code",
        "colab": {}
      },
      "source": [
        "#getting features from the gdf for rasterio\n",
        "from os.path import join\n",
        "\n",
        "def getFeatures(gdf):\n",
        "\n",
        "    import json\n",
        "    return [json.loads(gdf.to_json())['features'][0]['geometry']]\n",
        "          "
      ],
      "execution_count": 6,
      "outputs": []
    },
    {
      "cell_type": "code",
      "metadata": {
        "id": "Txnc2_BRtx5p",
        "colab_type": "code",
        "colab": {}
      },
      "source": [
        "#for creating corresponding HR tiles from LR pixels\n",
        "def transfer_tiles(img, meta, tile_path, output_path):\n",
        "    out_meta = meta\n",
        "    output_filename = 'hr_{}.tif'\n",
        "    d_bbox = box(img.bounds.left, img.bounds.bottom, img.bounds.right, img.bounds.top)\n",
        "\n",
        "    for root, dirs, files in os.walk(tile_path):\n",
        "        for file in tqdm(files):\n",
        "            name = os.path.splitext(file)[0]\n",
        "            dataset, _ = raster.load_image(join(root,file))\n",
        "            bounds = dataset.bounds\n",
        "            bbox = box(bounds.left, bounds.bottom, bounds.right, bounds.top)\n",
        "\n",
        "            if bbox.within(d_bbox):\n",
        "                geo = gpd.GeoDataFrame({'geometry': bbox}, index=[0], crs=from_epsg(4326))\n",
        "                geo = geo.to_crs(crs=dataset.crs.data)\n",
        "                coords = getFeatures(geo)\n",
        "                out_img, out_transform = mask(img, shapes=coords, crop=True)\n",
        "                out_meta.update({\"driver\": \"GTiff\",\"height\": out_img.shape[1], \"width\": out_img.shape[2], \"transform\": out_transform, \"crs\": from_epsg(4326)})\n",
        "                outpath = os.path.join(output_path, output_filename.format(name))\n",
        "                with rasterio.open(outpath, 'w', **out_meta) as outds:\n",
        "                    outds.write(out_img)\n",
        "            "
      ],
      "execution_count": 7,
      "outputs": []
    },
    {
      "cell_type": "code",
      "metadata": {
        "id": "m5f6dXTvme5z",
        "colab_type": "code",
        "colab": {}
      },
      "source": [
        "#for removing tiles created \n",
        "def remove_zero(img_dir):\n",
        "    for filename in tqdm(os.listdir(img_dir)):\n",
        "        filepath = os.path.join(img_dir, filename)\n",
        "        tile, meta = raster.load_image(filepath)\n",
        "        if np.array_equal(np.unique(np.array(tile.read())), [0.]):\n",
        "            os.remove(filepath)"
      ],
      "execution_count": 8,
      "outputs": []
    },
    {
      "cell_type": "markdown",
      "metadata": {
        "id": "xlZjKOp8rPKb",
        "colab_type": "text"
      },
      "source": [
        "# Workflow Functions"
      ]
    },
    {
      "cell_type": "code",
      "metadata": {
        "id": "ypX3793uBQoP",
        "colab_type": "code",
        "colab": {}
      },
      "source": [
        "#Function for getting files needed for data generation process from the drive\n",
        "\n",
        "def get_filelist():\n",
        "    cur = []\n",
        "    dest = \"/content/drive/Shared drives/SIO and E4E Mangroves /Data/Machine Learning/Training Images/Hybrid CNN/\"\n",
        "\n",
        "    #horrible search method, do not do this, only works because how we specifically set up the drive structure\n",
        "\n",
        "    #iterating through all files in orthomosaics directory\n",
        "    for root, dirs, files in os.walk(\"/content/drive/Shared drives/SIO and E4E Mangroves /Data/Orthomosaics/\"):\n",
        "        for file in files:\n",
        "            \n",
        "            #finding all normal tifs\n",
        "            if not((\"dem\" in file) or (\"DEM\" in file) or (\"downsampled\" in file) or (\"CNN_prob\" in file) or (\"planetscope\" in file) or (\"kompsat\" in file)) and not(file.startswith(\"un_\")) and not(file.endswith(\"CNN_nm.tif\")) and not(file.endswith(\"CNN_m.tif\")) and not(file.startswith(\"prob_\"))  and  (file.endswith(\".tif\")):\n",
        "                \n",
        "                #detecting planetscope images\n",
        "                for ortho in os.listdir(root):\n",
        "                    if (\"planetscope\" in ortho):\n",
        "\n",
        "                        #get shapefiles from classifications folder\n",
        "                        for subroot, subdirs, subfiles in os.walk(root):\n",
        "                            zero = \"0.shp\"\n",
        "                            one = \"1.shp\"\n",
        "\n",
        "                            #iterating through files in \n",
        "                            for subfile in subfiles:\n",
        "                                if (subfile == zero) or (subfile == one):\n",
        "                                    dest_zip = join(dest,os.path.splitext(file)[0] + \".zip\")\n",
        "                                    #since we will get dupicates\n",
        "                                    file_list = [join(root,file),\n",
        "                                                    join(root,ortho),\n",
        "                                                    join(subroot,zero),\n",
        "                                                    join(subroot,one),\n",
        "                                                    dest_zip]\n",
        "                                    if not(file_list in cur) and not(os.path.isfile(dest_zip)):\n",
        "                                        cur.append(file_list)\n",
        "                                    \n",
        "\n",
        "\n",
        "\n",
        "    return cur"
      ],
      "execution_count": 20,
      "outputs": []
    },
    {
      "cell_type": "code",
      "metadata": {
        "id": "Oq8LYbe4S9tQ",
        "colab_type": "code",
        "colab": {}
      },
      "source": [
        "# for copying files over from google drive to \n",
        "def copy_files(file_list):\n",
        "    print(\"Copying Files\")\n",
        "\n",
        "    !cp {\"\\\"\" + file_list[0] + \"\\\"\" } .\n",
        "    !cp {\"\\\"\" + file_list[1] + \"\\\"\" } .\n",
        "\n",
        "    d_name = os.path.basename(file_list[0])\n",
        "    p_name = os.path.basename(file_list[1])\n",
        "\n",
        "    !mv {d_name} /content/drone.tif\n",
        "    !mv {p_name} /content/planetscope.tif\n",
        "\n",
        "    !rm -rf /content/0/\n",
        "    !rm -rf /content/1/ \n",
        "\n",
        "    !rm -rf /content/0_hr/\n",
        "    !rm -rf /content/1_hr/\n",
        "\n",
        "    !mkdir 0\n",
        "    !mkdir 1\n",
        "    !mkdir 0_hr\n",
        "    !mkdir 1_hr"
      ],
      "execution_count": 10,
      "outputs": []
    },
    {
      "cell_type": "code",
      "metadata": {
        "id": "bhHP06wyVPjD",
        "colab_type": "code",
        "colab": {}
      },
      "source": [
        "def clip_retile(file_list):\n",
        "    print(\"Clipping and pixelizing satellite data\")\n",
        "\n",
        "    d_img, d_meta = raster.load_image(\"/content/drone.tif\")\n",
        "    zero_gpd = gpd.read_file(file_list[2])\n",
        "    one_gpd = gpd.read_file(file_list[3])\n",
        "\n",
        "    \n",
        "    clip(file_list[2], \"planetscope.tif\", \"clipped0_\")\n",
        "    clip(file_list[3], \"planetscope.tif\", \"clipped1_\")\n",
        "\n",
        "    c0_img, c0_meta = raster.load_image(\"clipped0_planetscope.tif\")\n",
        "    c1_img, c1_meta = raster.load_image(\"clipped1_planetscope.tif\")\n",
        "\n",
        "\n",
        "    !gdal_retile.py -ps 1 1 -targetDir \"/content/0\" \"clipped0_planetscope.tif\"\n",
        "    !gdal_retile.py -ps 1 1 -targetDir \"/content/1\" \"clipped1_planetscope.tif\"\n",
        "\n",
        "    remove_zero(\"/content/0/\")\n",
        "    remove_zero(\"/content/1/\")"
      ],
      "execution_count": 11,
      "outputs": []
    },
    {
      "cell_type": "code",
      "metadata": {
        "id": "u7O-49gCWE8J",
        "colab_type": "code",
        "colab": {}
      },
      "source": [
        "def gen_upload(file_list):\n",
        "    print(\"Generating Satellite Data and Uploading\")\n",
        "\n",
        "    d_img, d_meta = raster.load_image(\"/content/drone.tif\")\n",
        "    \n",
        "    transfer_tiles(d_img, d_meta, \"/content/1\", \"/content/1_hr\")\n",
        "    transfer_tiles(d_img, d_meta, \"/content/0\", \"/content/0_hr\")\n",
        "\n",
        "    !zip {\"\\\"\" + file_list[4] + \"\\\"\"} -r 0 0_hr 1 1_hr\n",
        "    !rm -rf *.tif\n",
        "    !rm -rf *.shp"
      ],
      "execution_count": 12,
      "outputs": []
    },
    {
      "cell_type": "code",
      "metadata": {
        "id": "2TS2OrVQDPf9",
        "colab_type": "code",
        "colab": {
          "base_uri": "https://localhost:8080/",
          "height": 687,
          "referenced_widgets": [
            "e410299bf2354b0eb730c295d76e5783",
            "f4d104cd680d4d339f9e49bd20076afa",
            "29964ea07dbd4a9ab5b1b1cf8746ac63",
            "b185b8a6c50548df8d8adce466882737",
            "ca65b2e22e8d4b98b9895be0a419eeb6",
            "3d02f1b331474b409032c1b1d5f8048b",
            "80118dcef513456bb440ef3e1a212e0c",
            "74904f57c97243858e910c8beb8929d8",
            "bdafc0b4a433446695946aae5e03a24c",
            "95c24e37188142959c62341984e3f305",
            "08c4fdfeaab04f9888d4b3a7c55ae124",
            "3303bfecb85249cbb0a426ea7fc9777d",
            "a0cdf15039c04832a1c02149fe3e1094",
            "7a985d66d4ff486db3be65caff41a0ea",
            "ed95383633c047958b57c1d18f56f6c0",
            "db328836090a4e1fb3a482a08eef94a0"
          ]
        },
        "outputId": "a24cceb7-94e1-4572-865b-f41e52af5abc"
      },
      "source": [
        "for site in get_filelist():\n",
        "    print(\"Generating data for: \", site[0])\n",
        "    copy_files(site)\n",
        "    write_ndvi(\"planetscope.tif\")\n",
        "    write_ndwi(\"planetscope.tif\")\n",
        "    clip_retile(site)\n",
        "    gen_upload(site)"
      ],
      "execution_count": null,
      "outputs": [
        {
          "output_type": "stream",
          "text": [
            "Generating data for:  /content/drive/Shared drives/SIO and E4E Mangroves /Data/Orthomosaics/2018-07 La Paz/Site 4/lap_2018-07_site04_120m_RGB_cc.tif\n",
            "Copying Files\n"
          ],
          "name": "stdout"
        },
        {
          "output_type": "display_data",
          "data": {
            "image/png": "[encoded data removed]",
            "text/plain": [
              "<Figure size 432x288 with 1 Axes>"
            ]
          },
          "metadata": {
            "tags": [],
            "needs_background": "light"
          }
        },
        {
          "output_type": "display_data",
          "data": {
            "image/png": "[encoded data removed]",
            "text/plain": [
              "<Figure size 432x288 with 1 Axes>"
            ]
          },
          "metadata": {
            "tags": [],
            "needs_background": "light"
          }
        },
        {
          "output_type": "stream",
          "text": [
            "Clipping and pixelizing satellite data\n",
            "0...10...20...30...40...50...60...70...80...90...100 - done.\n",
            "0...10...20...30...40...50...60...70...80...90...100 - done.\n"
          ],
          "name": "stdout"
        },
        {
          "output_type": "display_data",
          "data": {
            "application/vnd.jupyter.widget-view+json": {
              "model_id": "e410299bf2354b0eb730c295d76e5783",
              "version_minor": 0,
              "version_major": 2
            },
            "text/plain": [
              "HBox(children=(FloatProgress(value=0.0, max=14310.0), HTML(value='')))"
            ]
          },
          "metadata": {
            "tags": []
          }
        },
        {
          "output_type": "stream",
          "text": [
            "\n"
          ],
          "name": "stdout"
        },
        {
          "output_type": "display_data",
          "data": {
            "application/vnd.jupyter.widget-view+json": {
              "model_id": "bdafc0b4a433446695946aae5e03a24c",
              "version_minor": 0,
              "version_major": 2
            },
            "text/plain": [
              "HBox(children=(FloatProgress(value=0.0, max=20328.0), HTML(value='')))"
            ]
          },
          "metadata": {
            "tags": []
          }
        }
      ]
    }
  ]
}