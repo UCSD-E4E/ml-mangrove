{
  "nbformat": 4,
  "nbformat_minor": 0,
  "metadata": {
    "colab": {
      "name": "get_bounds_drive.ipynb",
      "provenance": []
    },
    "kernelspec": {
      "name": "python3",
      "display_name": "Python 3"
    }
  },
  "cells": [
    {
      "cell_type": "code",
      "metadata": {
        "id": "lXnXJ_6cgXsp",
        "colab_type": "code",
        "colab": {}
      },
      "source": [
        "%%capture\n",
        "!apt-get update\n",
        "!apt-get install libgdal-dev -y\n",
        "!apt-get install python-gdal -y\n",
        "!apt-get install python-numpy python-scipy -y\n",
        "!pip install rasterio\n",
        "!pip install fiona\n",
        "!pip install geopandas\n",
        "!pip install PyCRS\n",
        "!pip install -i https://test.pypi.org/simple/ gis-utils-pkg-dillhicks==0.0.3"
      ],
      "execution_count": 1,
      "outputs": []
    },
    {
      "cell_type": "code",
      "metadata": {
        "id": "xkZe2byEn3T3",
        "colab_type": "code",
        "colab": {
          "base_uri": "https://localhost:8080/",
          "height": 71
        },
        "outputId": "4f6fa0ba-4cc0-48bf-c6bf-04c641fb0646"
      },
      "source": [
        "from shapely.geometry import box\n",
        "from tqdm.autonotebook import tqdm\n",
        "import matplotlib.pyplot as plt\n",
        "from fiona.crs import from_epsg\n",
        "from rasterio.mask import mask\n",
        "from rasterio.plot import show\n",
        "from gis_utils import raster\n",
        "import geopandas as gpd\n",
        "import numpy as np\n",
        "import rasterio\n",
        "import fiona\n",
        "import os\n"
      ],
      "execution_count": 2,
      "outputs": [
        {
          "output_type": "stream",
          "text": [
            "/usr/local/lib/python3.6/dist-packages/ipykernel_launcher.py:6: TqdmExperimentalWarning: Using `tqdm.autonotebook.tqdm` in notebook mode. Use `tqdm.tqdm` instead to force console mode (e.g. in jupyter console)\n",
            "  \n"
          ],
          "name": "stderr"
        }
      ]
    },
    {
      "cell_type": "code",
      "metadata": {
        "id": "kzNMEslxjYFp",
        "colab_type": "code",
        "colab": {
          "base_uri": "https://localhost:8080/",
          "height": 122
        },
        "outputId": "c18eb99e-b25b-46a6-aa58-91aa043383b5"
      },
      "source": [
        "from google.colab import drive\n",
        "drive.mount('/content/drive')"
      ],
      "execution_count": 3,
      "outputs": [
        {
          "output_type": "stream",
          "text": [
            "Go to this URL in a browser: https://accounts.google.com/o/oauth2/auth?client_id=947318989803-6bn6qk8qdgf4n4g3pfee6491hc0brc4i.apps.googleusercontent.com&redirect_uri=urn%3aietf%3awg%3aoauth%3a2.0%3aoob&response_type=code&scope=email%20https%3a%2f%2fwww.googleapis.com%2fauth%2fdocs.test%20https%3a%2f%2fwww.googleapis.com%2fauth%2fdrive%20https%3a%2f%2fwww.googleapis.com%2fauth%2fdrive.photos.readonly%20https%3a%2f%2fwww.googleapis.com%2fauth%2fpeopleapi.readonly\n",
            "\n",
            "Enter your authorization code:\n",
            "··········\n",
            "Mounted at /content/drive\n"
          ],
          "name": "stdout"
        }
      ]
    },
    {
      "cell_type": "code",
      "metadata": {
        "id": "snLbe9UATnDb",
        "colab_type": "code",
        "colab": {}
      },
      "source": [
        "fiona.supported_drivers['KML'] = 'rw'"
      ],
      "execution_count": 15,
      "outputs": []
    },
    {
      "cell_type": "code",
      "metadata": {
        "id": "EBN08CZSPdWo",
        "colab_type": "code",
        "colab": {}
      },
      "source": [
        "from os.path import join \n",
        " \n",
        "for root, dirs, files in os.walk(\"/content/drive/Shared drives/SIO and E4E Mangroves /Data/Orthomosaics/\"):\n",
        "    for file in files:\n",
        "        #finding all downsampled normal tifs\n",
        "        if not((\"dem\" in file) or (\"DEM\" in file)  or (\"CNN_prob\" in file) or (\"kompsat\" in file) or (\"planetscope\" in file)) and not(file.startswith(\"un_\")) and (\"_downsampled.tif\" in file) and not(file.endswith(\"CNN_nm.tif\")) and not(file.endswith(\"CNN_m.tif\")) and not(file.startswith(\"prob_\"))  and  (file.endswith(\".tif\")):\n",
        "            \n",
        "            #get filenames\n",
        "            src = join(root,file)\n",
        "            dest_name = file.replace(\"_downsampled.tif\", \"_bounds.kml\")\n",
        "            dest = join(root,dest_name)\n",
        "\n",
        "            #get bounding box of image and write to a geopandas dataframe\n",
        "            img, meta = raster.load_image(src)\n",
        "            geometry = box(*img.bounds)\n",
        "            df = gpd.GeoDataFrame({\"id\":1,\"geometry\":[geometry]})\n",
        "            \n",
        "            #write kml to disk and to the drive\n",
        "            df.to_file(dest_name, driver='KML')\n",
        "            df.to_file(dest, driver='KML')\n"
      ],
      "execution_count": null,
      "outputs": []
    },
    {
      "cell_type": "code",
      "metadata": {
        "id": "oUJN8eY8WTix",
        "colab_type": "code",
        "colab": {
          "base_uri": "https://localhost:8080/",
          "height": 731
        },
        "outputId": "693e64cd-89cf-4392-cbb0-936f8474918f"
      },
      "source": [
        "!zip kmlbounds.zip *.kml"
      ],
      "execution_count": 19,
      "outputs": [
        {
          "output_type": "stream",
          "text": [
            "  adding: jamaica_tc_2019-11-28_orthof_bounds.kml (deflated 51%)\n",
            "  adding: kfm_2019-03_site01_80m_RGB_bounds.kml (deflated 51%)\n",
            "  adding: lap_2018-07_site04_120m_RGB_cc_bounds.kml (deflated 51%)\n",
            "  adding: lap_2018-07_site05_120m_RGB_cc_bounds.kml (deflated 51%)\n",
            "  adding: lap_2018-07_site06_120m_RGB_cc_bounds.kml (deflated 51%)\n",
            "  adding: lap_2018-07_site1_120m_RGB_cc_bounds.kml (deflated 51%)\n",
            "  adding: lap_2019-07_site01_120m_RGB_quick_bounds.kml (deflated 51%)\n",
            "  adding: lap_2019-07_site03_120m_RGB_quick_bounds.kml (deflated 52%)\n",
            "  adding: lap_2019-07_site05_120m_RGB_quick_bounds.kml (deflated 51%)\n",
            "  adding: lap_2019-07_site06_120m_RGB_quick_bounds.kml (deflated 51%)\n",
            "  adding: lap_202004_PuertoGata_ortho_bounds.kml (deflated 51%)\n",
            "  adding: lap_202005_BahiaFalsa_ortho_bounds.kml (deflated 50%)\n",
            "  adding: mexico_lap_2019-07-12_site05_120m_RGB_bounds.kml (deflated 51%)\n",
            "  adding: mexico_lap_2019-07-12_site06_120m_RGB_cc_bounds.kml (deflated 52%)\n",
            "  adding: psc_2018-05_site01_120m_RGB_cc_bounds.kml (deflated 51%)\n",
            "  adding: psc_2018-05_site09_120m_RGB_bounds.kml (deflated 51%)\n",
            "  adding: psc_2018-05_site10_120m_RGB_bounds.kml (deflated 50%)\n",
            "  adding: psc_2018-05_site11_120m_RGB_bounds.kml (deflated 51%)\n",
            "  adding: psc_2018-05_site12_120m_RGB_bounds.kml (deflated 51%)\n",
            "  adding: psc_2018-05_site13-14_120m_RGB_bounds.kml (deflated 51%)\n",
            "  adding: psc_2018-05_site3-4_bounds.kml (deflated 50%)\n",
            "  adding: psc_2018-05_site5-6-7_bounds.kml (deflated 50%)\n",
            "  adding: psc_2018-05_site8_bounds.kml (deflated 49%)\n",
            "  adding: psc_2018-07_site05_120m_cc_bounds.kml (deflated 50%)\n",
            "  adding: psc_2018-07_site08_120m_RGB_bounds.kml (deflated 51%)\n",
            "  adding: psc_2018-07_site09_120m_RGB_bounds.kml (deflated 51%)\n",
            "  adding: psc_2018-07_site10_120m_RGB_bounds.kml (deflated 51%)\n",
            "  adding: psc_2018-07_site11_120m_RGB_bounds.kml (deflated 50%)\n",
            "  adding: skr_2019-05_site01_rgb_bounds.kml (deflated 51%)\n",
            "  adding: skr_2019-05_site04_flight01_120m_rgb_bounds.kml (deflated 51%)\n",
            "  adding: skr_2019-05_site06_120m_RGB_bounds.kml (deflated 51%)\n",
            "  adding: skr_2019-05_site07_120m_RGB_bounds.kml (deflated 51%)\n",
            "  adding: skr_2019-05_site08_120m_RGB_bounds.kml (deflated 51%)\n",
            "  adding: skr_2019-05_site11_120m_RGB_bounds.kml (deflated 51%)\n",
            "  adding: skr_2019-05_site13_120m_RGB_bounds.kml (deflated 51%)\n",
            "  adding: skr_2019-05_site15_120m_RGB (1)_bounds.kml (deflated 51%)\n",
            "  adding: skr_2019-05_site15_120m_RGB_bounds.kml (deflated 51%)\n",
            "  adding: skr_2019-05_site16_120m_RGB_bounds.kml (deflated 51%)\n",
            "  adding: skr_2019-05_site21_120m_RGB_bounds.kml (deflated 51%)\n",
            "  adding: skr_2019-05_siteC_120m_RGB_bounds.kml (deflated 51%)\n",
            "  adding: skr_2019-05_siteG_120m_RGB_bounds.kml (deflated 50%)\n",
            "  adding: skr_2019-05_sitePH_120m_RGB_bounds.kml (deflated 51%)\n"
          ],
          "name": "stdout"
        }
      ]
    }
  ]
}