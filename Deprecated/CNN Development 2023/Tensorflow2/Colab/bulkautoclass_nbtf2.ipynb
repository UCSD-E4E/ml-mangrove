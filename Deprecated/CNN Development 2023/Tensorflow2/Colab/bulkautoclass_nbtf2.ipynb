{
  "nbformat": 4,
  "nbformat_minor": 0,
  "metadata": {
    "colab": {
      "name": "bulkautoclass_nbtf2.ipynb",
      "provenance": [],
      "collapsed_sections": [],
      "machine_shape": "hm"
    },
    "kernelspec": {
      "name": "python3",
      "display_name": "Python 3"
    },
    "accelerator": "TPU",
    "widgets": {
      "application/vnd.jupyter.widget-state+json": {
        "b998b7fd4b564140aead88ae5f0d9e96": {
          "model_module": "@jupyter-widgets/controls",
          "model_name": "HBoxModel",
          "state": {
            "_view_name": "HBoxView",
            "_dom_classes": [],
            "_model_name": "HBoxModel",
            "_view_module": "@jupyter-widgets/controls",
            "_model_module_version": "1.5.0",
            "_view_count": null,
            "_view_module_version": "1.5.0",
            "box_style": "",
            "layout": "IPY_MODEL_27445d8adb1f49859d811260d278ac20",
            "_model_module": "@jupyter-widgets/controls",
            "children": [
              "IPY_MODEL_29ad0f4becd847449bf332a76e20ede1",
              "IPY_MODEL_99089d5865fa4055b46d6b40360d6d53"
            ]
          }
        },
        "27445d8adb1f49859d811260d278ac20": {
          "model_module": "@jupyter-widgets/base",
          "model_name": "LayoutModel",
          "state": {
            "_view_name": "LayoutView",
            "grid_template_rows": null,
            "right": null,
            "justify_content": null,
            "_view_module": "@jupyter-widgets/base",
            "overflow": null,
            "_model_module_version": "1.2.0",
            "_view_count": null,
            "flex_flow": null,
            "width": null,
            "min_width": null,
            "border": null,
            "align_items": null,
            "bottom": null,
            "_model_module": "@jupyter-widgets/base",
            "top": null,
            "grid_column": null,
            "overflow_y": null,
            "overflow_x": null,
            "grid_auto_flow": null,
            "grid_area": null,
            "grid_template_columns": null,
            "flex": null,
            "_model_name": "LayoutModel",
            "justify_items": null,
            "grid_row": null,
            "max_height": null,
            "align_content": null,
            "visibility": null,
            "align_self": null,
            "height": null,
            "min_height": null,
            "padding": null,
            "grid_auto_rows": null,
            "grid_gap": null,
            "max_width": null,
            "order": null,
            "_view_module_version": "1.2.0",
            "grid_template_areas": null,
            "object_position": null,
            "object_fit": null,
            "grid_auto_columns": null,
            "margin": null,
            "display": null,
            "left": null
          }
        },
        "29ad0f4becd847449bf332a76e20ede1": {
          "model_module": "@jupyter-widgets/controls",
          "model_name": "FloatProgressModel",
          "state": {
            "_view_name": "ProgressView",
            "style": "IPY_MODEL_489ffac7702b40f5b06472cd824a8026",
            "_dom_classes": [],
            "description": "100%",
            "_model_name": "FloatProgressModel",
            "bar_style": "success",
            "max": 8288,
            "_view_module": "@jupyter-widgets/controls",
            "_model_module_version": "1.5.0",
            "value": 8288,
            "_view_count": null,
            "_view_module_version": "1.5.0",
            "orientation": "horizontal",
            "min": 0,
            "description_tooltip": null,
            "_model_module": "@jupyter-widgets/controls",
            "layout": "IPY_MODEL_5a392e59886c468397ec2dec02f0e323"
          }
        },
        "99089d5865fa4055b46d6b40360d6d53": {
          "model_module": "@jupyter-widgets/controls",
          "model_name": "HTMLModel",
          "state": {
            "_view_name": "HTMLView",
            "style": "IPY_MODEL_123f15a6bcb04dd59d1b4779e8fc2b22",
            "_dom_classes": [],
            "description": "",
            "_model_name": "HTMLModel",
            "placeholder": "​",
            "_view_module": "@jupyter-widgets/controls",
            "_model_module_version": "1.5.0",
            "value": " 8288/8288 [01:13&lt;00:00, 112.65it/s]",
            "_view_count": null,
            "_view_module_version": "1.5.0",
            "description_tooltip": null,
            "_model_module": "@jupyter-widgets/controls",
            "layout": "IPY_MODEL_855a2f68a5b34e6aaa74b634fb54d1e7"
          }
        },
        "489ffac7702b40f5b06472cd824a8026": {
          "model_module": "@jupyter-widgets/controls",
          "model_name": "ProgressStyleModel",
          "state": {
            "_view_name": "StyleView",
            "_model_name": "ProgressStyleModel",
            "description_width": "initial",
            "_view_module": "@jupyter-widgets/base",
            "_model_module_version": "1.5.0",
            "_view_count": null,
            "_view_module_version": "1.2.0",
            "bar_color": null,
            "_model_module": "@jupyter-widgets/controls"
          }
        },
        "5a392e59886c468397ec2dec02f0e323": {
          "model_module": "@jupyter-widgets/base",
          "model_name": "LayoutModel",
          "state": {
            "_view_name": "LayoutView",
            "grid_template_rows": null,
            "right": null,
            "justify_content": null,
            "_view_module": "@jupyter-widgets/base",
            "overflow": null,
            "_model_module_version": "1.2.0",
            "_view_count": null,
            "flex_flow": null,
            "width": null,
            "min_width": null,
            "border": null,
            "align_items": null,
            "bottom": null,
            "_model_module": "@jupyter-widgets/base",
            "top": null,
            "grid_column": null,
            "overflow_y": null,
            "overflow_x": null,
            "grid_auto_flow": null,
            "grid_area": null,
            "grid_template_columns": null,
            "flex": null,
            "_model_name": "LayoutModel",
            "justify_items": null,
            "grid_row": null,
            "max_height": null,
            "align_content": null,
            "visibility": null,
            "align_self": null,
            "height": null,
            "min_height": null,
            "padding": null,
            "grid_auto_rows": null,
            "grid_gap": null,
            "max_width": null,
            "order": null,
            "_view_module_version": "1.2.0",
            "grid_template_areas": null,
            "object_position": null,
            "object_fit": null,
            "grid_auto_columns": null,
            "margin": null,
            "display": null,
            "left": null
          }
        },
        "123f15a6bcb04dd59d1b4779e8fc2b22": {
          "model_module": "@jupyter-widgets/controls",
          "model_name": "DescriptionStyleModel",
          "state": {
            "_view_name": "StyleView",
            "_model_name": "DescriptionStyleModel",
            "description_width": "",
            "_view_module": "@jupyter-widgets/base",
            "_model_module_version": "1.5.0",
            "_view_count": null,
            "_view_module_version": "1.2.0",
            "_model_module": "@jupyter-widgets/controls"
          }
        },
        "855a2f68a5b34e6aaa74b634fb54d1e7": {
          "model_module": "@jupyter-widgets/base",
          "model_name": "LayoutModel",
          "state": {
            "_view_name": "LayoutView",
            "grid_template_rows": null,
            "right": null,
            "justify_content": null,
            "_view_module": "@jupyter-widgets/base",
            "overflow": null,
            "_model_module_version": "1.2.0",
            "_view_count": null,
            "flex_flow": null,
            "width": null,
            "min_width": null,
            "border": null,
            "align_items": null,
            "bottom": null,
            "_model_module": "@jupyter-widgets/base",
            "top": null,
            "grid_column": null,
            "overflow_y": null,
            "overflow_x": null,
            "grid_auto_flow": null,
            "grid_area": null,
            "grid_template_columns": null,
            "flex": null,
            "_model_name": "LayoutModel",
            "justify_items": null,
            "grid_row": null,
            "max_height": null,
            "align_content": null,
            "visibility": null,
            "align_self": null,
            "height": null,
            "min_height": null,
            "padding": null,
            "grid_auto_rows": null,
            "grid_gap": null,
            "max_width": null,
            "order": null,
            "_view_module_version": "1.2.0",
            "grid_template_areas": null,
            "object_position": null,
            "object_fit": null,
            "grid_auto_columns": null,
            "margin": null,
            "display": null,
            "left": null
          }
        },
        "a8d43edf30244b04ba369e7c2f44dbed": {
          "model_module": "@jupyter-widgets/controls",
          "model_name": "HBoxModel",
          "state": {
            "_view_name": "HBoxView",
            "_dom_classes": [],
            "_model_name": "HBoxModel",
            "_view_module": "@jupyter-widgets/controls",
            "_model_module_version": "1.5.0",
            "_view_count": null,
            "_view_module_version": "1.5.0",
            "box_style": "",
            "layout": "IPY_MODEL_e8e5d9d42c534478b11cb6f65206ad48",
            "_model_module": "@jupyter-widgets/controls",
            "children": [
              "IPY_MODEL_fd3fb663d5d64010bf97cd80f453027d",
              "IPY_MODEL_001662eb23e64277ba088a1ecdfb8551"
            ]
          }
        },
        "e8e5d9d42c534478b11cb6f65206ad48": {
          "model_module": "@jupyter-widgets/base",
          "model_name": "LayoutModel",
          "state": {
            "_view_name": "LayoutView",
            "grid_template_rows": null,
            "right": null,
            "justify_content": null,
            "_view_module": "@jupyter-widgets/base",
            "overflow": null,
            "_model_module_version": "1.2.0",
            "_view_count": null,
            "flex_flow": null,
            "width": null,
            "min_width": null,
            "border": null,
            "align_items": null,
            "bottom": null,
            "_model_module": "@jupyter-widgets/base",
            "top": null,
            "grid_column": null,
            "overflow_y": null,
            "overflow_x": null,
            "grid_auto_flow": null,
            "grid_area": null,
            "grid_template_columns": null,
            "flex": null,
            "_model_name": "LayoutModel",
            "justify_items": null,
            "grid_row": null,
            "max_height": null,
            "align_content": null,
            "visibility": null,
            "align_self": null,
            "height": null,
            "min_height": null,
            "padding": null,
            "grid_auto_rows": null,
            "grid_gap": null,
            "max_width": null,
            "order": null,
            "_view_module_version": "1.2.0",
            "grid_template_areas": null,
            "object_position": null,
            "object_fit": null,
            "grid_auto_columns": null,
            "margin": null,
            "display": null,
            "left": null
          }
        },
        "fd3fb663d5d64010bf97cd80f453027d": {
          "model_module": "@jupyter-widgets/controls",
          "model_name": "FloatProgressModel",
          "state": {
            "_view_name": "ProgressView",
            "style": "IPY_MODEL_e30dbc0467f64368b926cdb146c723fd",
            "_dom_classes": [],
            "description": "",
            "_model_name": "FloatProgressModel",
            "bar_style": "success",
            "max": 1,
            "_view_module": "@jupyter-widgets/controls",
            "_model_module_version": "1.5.0",
            "value": 1,
            "_view_count": null,
            "_view_module_version": "1.5.0",
            "orientation": "horizontal",
            "min": 0,
            "description_tooltip": null,
            "_model_module": "@jupyter-widgets/controls",
            "layout": "IPY_MODEL_486cf9ba27764691b76213385871ebc4"
          }
        },
        "001662eb23e64277ba088a1ecdfb8551": {
          "model_module": "@jupyter-widgets/controls",
          "model_name": "HTMLModel",
          "state": {
            "_view_name": "HTMLView",
            "style": "IPY_MODEL_fee4cc1c0a18445f916d1350949dc555",
            "_dom_classes": [],
            "description": "",
            "_model_name": "HTMLModel",
            "placeholder": "​",
            "_view_module": "@jupyter-widgets/controls",
            "_model_module_version": "1.5.0",
            "value": " 3880/? [01:28&lt;00:00, 43.98it/s]",
            "_view_count": null,
            "_view_module_version": "1.5.0",
            "description_tooltip": null,
            "_model_module": "@jupyter-widgets/controls",
            "layout": "IPY_MODEL_19ff0f1c350e4b5495a48f096c0456c3"
          }
        },
        "e30dbc0467f64368b926cdb146c723fd": {
          "model_module": "@jupyter-widgets/controls",
          "model_name": "ProgressStyleModel",
          "state": {
            "_view_name": "StyleView",
            "_model_name": "ProgressStyleModel",
            "description_width": "initial",
            "_view_module": "@jupyter-widgets/base",
            "_model_module_version": "1.5.0",
            "_view_count": null,
            "_view_module_version": "1.2.0",
            "bar_color": null,
            "_model_module": "@jupyter-widgets/controls"
          }
        },
        "486cf9ba27764691b76213385871ebc4": {
          "model_module": "@jupyter-widgets/base",
          "model_name": "LayoutModel",
          "state": {
            "_view_name": "LayoutView",
            "grid_template_rows": null,
            "right": null,
            "justify_content": null,
            "_view_module": "@jupyter-widgets/base",
            "overflow": null,
            "_model_module_version": "1.2.0",
            "_view_count": null,
            "flex_flow": null,
            "width": null,
            "min_width": null,
            "border": null,
            "align_items": null,
            "bottom": null,
            "_model_module": "@jupyter-widgets/base",
            "top": null,
            "grid_column": null,
            "overflow_y": null,
            "overflow_x": null,
            "grid_auto_flow": null,
            "grid_area": null,
            "grid_template_columns": null,
            "flex": null,
            "_model_name": "LayoutModel",
            "justify_items": null,
            "grid_row": null,
            "max_height": null,
            "align_content": null,
            "visibility": null,
            "align_self": null,
            "height": null,
            "min_height": null,
            "padding": null,
            "grid_auto_rows": null,
            "grid_gap": null,
            "max_width": null,
            "order": null,
            "_view_module_version": "1.2.0",
            "grid_template_areas": null,
            "object_position": null,
            "object_fit": null,
            "grid_auto_columns": null,
            "margin": null,
            "display": null,
            "left": null
          }
        },
        "fee4cc1c0a18445f916d1350949dc555": {
          "model_module": "@jupyter-widgets/controls",
          "model_name": "DescriptionStyleModel",
          "state": {
            "_view_name": "StyleView",
            "_model_name": "DescriptionStyleModel",
            "description_width": "",
            "_view_module": "@jupyter-widgets/base",
            "_model_module_version": "1.5.0",
            "_view_count": null,
            "_view_module_version": "1.2.0",
            "_model_module": "@jupyter-widgets/controls"
          }
        },
        "19ff0f1c350e4b5495a48f096c0456c3": {
          "model_module": "@jupyter-widgets/base",
          "model_name": "LayoutModel",
          "state": {
            "_view_name": "LayoutView",
            "grid_template_rows": null,
            "right": null,
            "justify_content": null,
            "_view_module": "@jupyter-widgets/base",
            "overflow": null,
            "_model_module_version": "1.2.0",
            "_view_count": null,
            "flex_flow": null,
            "width": null,
            "min_width": null,
            "border": null,
            "align_items": null,
            "bottom": null,
            "_model_module": "@jupyter-widgets/base",
            "top": null,
            "grid_column": null,
            "overflow_y": null,
            "overflow_x": null,
            "grid_auto_flow": null,
            "grid_area": null,
            "grid_template_columns": null,
            "flex": null,
            "_model_name": "LayoutModel",
            "justify_items": null,
            "grid_row": null,
            "max_height": null,
            "align_content": null,
            "visibility": null,
            "align_self": null,
            "height": null,
            "min_height": null,
            "padding": null,
            "grid_auto_rows": null,
            "grid_gap": null,
            "max_width": null,
            "order": null,
            "_view_module_version": "1.2.0",
            "grid_template_areas": null,
            "object_position": null,
            "object_fit": null,
            "grid_auto_columns": null,
            "margin": null,
            "display": null,
            "left": null
          }
        },
        "3cbb8d60aba64cbaa45c87811476d25d": {
          "model_module": "@jupyter-widgets/controls",
          "model_name": "HBoxModel",
          "state": {
            "_view_name": "HBoxView",
            "_dom_classes": [],
            "_model_name": "HBoxModel",
            "_view_module": "@jupyter-widgets/controls",
            "_model_module_version": "1.5.0",
            "_view_count": null,
            "_view_module_version": "1.5.0",
            "box_style": "",
            "layout": "IPY_MODEL_a63bec68d0ec4610886107038e8689c6",
            "_model_module": "@jupyter-widgets/controls",
            "children": [
              "IPY_MODEL_34f576f4f80c4f2091bbb008c52fd539",
              "IPY_MODEL_17ba57d0fcb0401990396c3510024cb3"
            ]
          }
        },
        "a63bec68d0ec4610886107038e8689c6": {
          "model_module": "@jupyter-widgets/base",
          "model_name": "LayoutModel",
          "state": {
            "_view_name": "LayoutView",
            "grid_template_rows": null,
            "right": null,
            "justify_content": null,
            "_view_module": "@jupyter-widgets/base",
            "overflow": null,
            "_model_module_version": "1.2.0",
            "_view_count": null,
            "flex_flow": null,
            "width": null,
            "min_width": null,
            "border": null,
            "align_items": null,
            "bottom": null,
            "_model_module": "@jupyter-widgets/base",
            "top": null,
            "grid_column": null,
            "overflow_y": null,
            "overflow_x": null,
            "grid_auto_flow": null,
            "grid_area": null,
            "grid_template_columns": null,
            "flex": null,
            "_model_name": "LayoutModel",
            "justify_items": null,
            "grid_row": null,
            "max_height": null,
            "align_content": null,
            "visibility": null,
            "align_self": null,
            "height": null,
            "min_height": null,
            "padding": null,
            "grid_auto_rows": null,
            "grid_gap": null,
            "max_width": null,
            "order": null,
            "_view_module_version": "1.2.0",
            "grid_template_areas": null,
            "object_position": null,
            "object_fit": null,
            "grid_auto_columns": null,
            "margin": null,
            "display": null,
            "left": null
          }
        },
        "34f576f4f80c4f2091bbb008c52fd539": {
          "model_module": "@jupyter-widgets/controls",
          "model_name": "FloatProgressModel",
          "state": {
            "_view_name": "ProgressView",
            "style": "IPY_MODEL_36ced262815241abab094fadb3392706",
            "_dom_classes": [],
            "description": "",
            "_model_name": "FloatProgressModel",
            "bar_style": "success",
            "max": 1,
            "_view_module": "@jupyter-widgets/controls",
            "_model_module_version": "1.5.0",
            "value": 1,
            "_view_count": null,
            "_view_module_version": "1.5.0",
            "orientation": "horizontal",
            "min": 0,
            "description_tooltip": null,
            "_model_module": "@jupyter-widgets/controls",
            "layout": "IPY_MODEL_1e6090af4f484114b442d001a915e2c5"
          }
        },
        "17ba57d0fcb0401990396c3510024cb3": {
          "model_module": "@jupyter-widgets/controls",
          "model_name": "HTMLModel",
          "state": {
            "_view_name": "HTMLView",
            "style": "IPY_MODEL_10c02f16e3054434a68ceb33e3ae5d27",
            "_dom_classes": [],
            "description": "",
            "_model_name": "HTMLModel",
            "placeholder": "​",
            "_view_module": "@jupyter-widgets/controls",
            "_model_module_version": "1.5.0",
            "value": " 3880/? [01:22&lt;00:00, 46.81it/s]",
            "_view_count": null,
            "_view_module_version": "1.5.0",
            "description_tooltip": null,
            "_model_module": "@jupyter-widgets/controls",
            "layout": "IPY_MODEL_69439c020a1a4a4cab4d9bdba002c775"
          }
        },
        "36ced262815241abab094fadb3392706": {
          "model_module": "@jupyter-widgets/controls",
          "model_name": "ProgressStyleModel",
          "state": {
            "_view_name": "StyleView",
            "_model_name": "ProgressStyleModel",
            "description_width": "initial",
            "_view_module": "@jupyter-widgets/base",
            "_model_module_version": "1.5.0",
            "_view_count": null,
            "_view_module_version": "1.2.0",
            "bar_color": null,
            "_model_module": "@jupyter-widgets/controls"
          }
        },
        "1e6090af4f484114b442d001a915e2c5": {
          "model_module": "@jupyter-widgets/base",
          "model_name": "LayoutModel",
          "state": {
            "_view_name": "LayoutView",
            "grid_template_rows": null,
            "right": null,
            "justify_content": null,
            "_view_module": "@jupyter-widgets/base",
            "overflow": null,
            "_model_module_version": "1.2.0",
            "_view_count": null,
            "flex_flow": null,
            "width": null,
            "min_width": null,
            "border": null,
            "align_items": null,
            "bottom": null,
            "_model_module": "@jupyter-widgets/base",
            "top": null,
            "grid_column": null,
            "overflow_y": null,
            "overflow_x": null,
            "grid_auto_flow": null,
            "grid_area": null,
            "grid_template_columns": null,
            "flex": null,
            "_model_name": "LayoutModel",
            "justify_items": null,
            "grid_row": null,
            "max_height": null,
            "align_content": null,
            "visibility": null,
            "align_self": null,
            "height": null,
            "min_height": null,
            "padding": null,
            "grid_auto_rows": null,
            "grid_gap": null,
            "max_width": null,
            "order": null,
            "_view_module_version": "1.2.0",
            "grid_template_areas": null,
            "object_position": null,
            "object_fit": null,
            "grid_auto_columns": null,
            "margin": null,
            "display": null,
            "left": null
          }
        },
        "10c02f16e3054434a68ceb33e3ae5d27": {
          "model_module": "@jupyter-widgets/controls",
          "model_name": "DescriptionStyleModel",
          "state": {
            "_view_name": "StyleView",
            "_model_name": "DescriptionStyleModel",
            "description_width": "",
            "_view_module": "@jupyter-widgets/base",
            "_model_module_version": "1.5.0",
            "_view_count": null,
            "_view_module_version": "1.2.0",
            "_model_module": "@jupyter-widgets/controls"
          }
        },
        "69439c020a1a4a4cab4d9bdba002c775": {
          "model_module": "@jupyter-widgets/base",
          "model_name": "LayoutModel",
          "state": {
            "_view_name": "LayoutView",
            "grid_template_rows": null,
            "right": null,
            "justify_content": null,
            "_view_module": "@jupyter-widgets/base",
            "overflow": null,
            "_model_module_version": "1.2.0",
            "_view_count": null,
            "flex_flow": null,
            "width": null,
            "min_width": null,
            "border": null,
            "align_items": null,
            "bottom": null,
            "_model_module": "@jupyter-widgets/base",
            "top": null,
            "grid_column": null,
            "overflow_y": null,
            "overflow_x": null,
            "grid_auto_flow": null,
            "grid_area": null,
            "grid_template_columns": null,
            "flex": null,
            "_model_name": "LayoutModel",
            "justify_items": null,
            "grid_row": null,
            "max_height": null,
            "align_content": null,
            "visibility": null,
            "align_self": null,
            "height": null,
            "min_height": null,
            "padding": null,
            "grid_auto_rows": null,
            "grid_gap": null,
            "max_width": null,
            "order": null,
            "_view_module_version": "1.2.0",
            "grid_template_areas": null,
            "object_position": null,
            "object_fit": null,
            "grid_auto_columns": null,
            "margin": null,
            "display": null,
            "left": null
          }
        }
      }
    }
  },
  "cells": [
    {
      "cell_type": "markdown",
      "metadata": {
        "id": "b8dFFUFccL2l",
        "colab_type": "text"
      },
      "source": [
        "# PARAMETERS\n",
        "\n",
        "###Update: \n",
        "\n",
        "**True** if you only want to add new classifications\n",
        "\n",
        "**False** if you want to update all classifications \n",
        "\n",
        "###Fresh: \n",
        "\n",
        "**True** if this is a fresh running of bulk autoclass (Classification DB isnt created yet)\n",
        "\n",
        "**False** if this is not a fresh run|"
      ]
    },
    {
      "cell_type": "code",
      "metadata": {
        "id": "iYo_il1UcArY",
        "colab_type": "code",
        "colab": {}
      },
      "source": [
        "update = True #@param {type:\"boolean\"}\n",
        "fresh = False #@param {type:\"boolean\"}"
      ],
      "execution_count": null,
      "outputs": []
    },
    {
      "cell_type": "markdown",
      "metadata": {
        "id": "jKTVhFk2pHHd",
        "colab_type": "text"
      },
      "source": [
        "# Installing GDAL"
      ]
    },
    {
      "cell_type": "code",
      "metadata": {
        "id": "PIvWm5RaqFfD",
        "colab_type": "code",
        "colab": {}
      },
      "source": [
        "%%capture\n",
        "!apt-get update\n",
        "!apt-get install libgdal-dev -y\n",
        "!apt-get install python-gdal -y\n",
        "!apt-get install python-numpy python-scipy -y\n",
        "!pip install rasterio\n",
        "!pip install fiona\n",
        "!pip install geopandas\n",
        "import gdal "
      ],
      "execution_count": null,
      "outputs": []
    },
    {
      "cell_type": "markdown",
      "metadata": {
        "id": "mWvA4d_DN7kA",
        "colab_type": "text"
      },
      "source": [
        "# Importing Libraries"
      ]
    },
    {
      "cell_type": "code",
      "metadata": {
        "id": "LnGJOnbSH2A3",
        "colab_type": "code",
        "colab": {
          "base_uri": "https://localhost:8080/",
          "height": 51
        },
        "outputId": "9633d45e-9322-40d1-e054-6901bbd73630"
      },
      "source": [
        "from tqdm.autonotebook import tqdm\n",
        "import tensorflow as tf\n",
        "import pandas as pd\n",
        "import numpy as np\n",
        "import os\n",
        "import matplotlib.pyplot as plt\n",
        "import rasterio\n",
        "from descartes import PolygonPatch\n",
        "from rasterio.plot import show\n",
        "import matplotlib as mpl\n",
        "import geopandas\n",
        "import fiona\n",
        "\n",
        "os.environ['TF_CPP_MIN_LOG_LEVEL'] = '3'\n",
        "\n",
        "print(\"TF version:\", tf.__version__)\n",
        "print(\"GPU is\", \"available\" if tf.test.is_gpu_available() else \"NOT AVAILABLE\")"
      ],
      "execution_count": null,
      "outputs": [
        {
          "output_type": "stream",
          "text": [
            "TF version: 2.3.0\n",
            "GPU is NOT AVAILABLE\n"
          ],
          "name": "stdout"
        }
      ]
    },
    {
      "cell_type": "markdown",
      "metadata": {
        "id": "CilkCxcY_3cQ",
        "colab_type": "text"
      },
      "source": [
        "# Loading Data from Drive\n",
        "\n",
        "\n",
        "\n"
      ]
    },
    {
      "cell_type": "code",
      "metadata": {
        "id": "cPUfum5_x1Yk",
        "colab_type": "code",
        "colab": {
          "base_uri": "https://localhost:8080/",
          "height": 34
        },
        "outputId": "de382d17-9312-4a15-cb54-dee6f85ce2f3"
      },
      "source": [
        "from google.colab import drive\n",
        "drive.mount('/content/drive')"
      ],
      "execution_count": null,
      "outputs": [
        {
          "output_type": "stream",
          "text": [
            "Drive already mounted at /content/drive; to attempt to forcibly remount, call drive.mount(\"/content/drive\", force_remount=True).\n"
          ],
          "name": "stdout"
        }
      ]
    },
    {
      "cell_type": "code",
      "metadata": {
        "id": "yJx1spq-k1xf",
        "colab_type": "code",
        "colab": {
          "base_uri": "https://localhost:8080/",
          "height": 136
        },
        "outputId": "124f2586-73aa-4aee-f036-a595a8c77bfb"
      },
      "source": [
        "from tensorflow.keras.models import load_model\n",
        "\n",
        "!cp \"/content/drive/Shared drives/SIO and E4E Mangroves /Data/Machine Learning/Models/mvnmv4_merced_bright.zip\" .\n",
        "!unzip mvnmv4_merced_bright.zip \n",
        "\n",
        "#Set model location\n",
        "model = \"/content/mvnmv4_merced/\"\n",
        "model = load_model(model)"
      ],
      "execution_count": null,
      "outputs": [
        {
          "output_type": "stream",
          "text": [
            "cp: cannot stat '/content/drive/Shared drives/SIO and E4E Mangroves /Data/Machine Learning/Models/mvnmv4_merced_bright.zip': No such file or directory\n",
            "Archive:  mvnmv4_merced_bright.zip\n",
            "replace mvnmv4_merced/variables/variables.index? [y]es, [n]o, [A]ll, [N]one, [r]ename: A\n",
            "  inflating: mvnmv4_merced/variables/variables.index  \n",
            "  inflating: mvnmv4_merced/variables/variables.data-00001-of-00002  \n",
            "  inflating: mvnmv4_merced/variables/variables.data-00000-of-00002  \n",
            "  inflating: mvnmv4_merced/saved_model.pb  \n"
          ],
          "name": "stdout"
        }
      ]
    },
    {
      "cell_type": "code",
      "metadata": {
        "id": "Jj2L3xZESk8f",
        "colab_type": "code",
        "colab": {}
      },
      "source": [
        "from PIL import Image, ImageFile\n",
        "\n",
        "ImageFile.LOAD_TRUNCATED_IMAGES = True\n",
        "\n",
        "\n",
        "def retile(full_path):\n",
        "    name = os.path.basename(full_path)\n",
        "    file_string = \"\\\"\" + full_path + \"\\\"\"\n",
        "    name_string = \"\\\"\" + os.path.basename(full_path) + \"\\\"\"\n",
        "\n",
        "    print(\"Downloading {}\".format(name))\n",
        "    !cp {file_string} .\n",
        "\n",
        "    !mkdir /content/images\n",
        "    !mkdir /content/images/images\n",
        "\n",
        "    print(\"Retiling {}\".format(name))\n",
        "    call = \"gdal_retile.py -ps 256 256 -targetDir /content/images/images/ /content/\" + name\n",
        "    !{call}\n",
        "\n",
        "    !rm {name}\n",
        "\n",
        "    img_dir = \"/content/images/images/\"\n",
        "    ImageFile.LOAD_TRUNCATED_IMAGES = True\n",
        "\n",
        "    for filename in tqdm(os.listdir(img_dir)):\n",
        "        filepath = os.path.join(img_dir, filename)\n",
        "        if os.path.splitext(filename)[1] == \".tif\":\n",
        "            with Image.open(filepath) as im:\n",
        "                x, y = im.size\n",
        "                totalsize = x*y\n",
        "                totalsum = np.sum(np.array(im))\n",
        "            if totalsize < (int(256) * (int(256))):\n",
        "                os.remove(filepath)\n",
        "            elif np.array_equal(np.unique(np.array(im)), [0, 255]):\n",
        "                os.remove(filepath)"
      ],
      "execution_count": null,
      "outputs": []
    },
    {
      "cell_type": "code",
      "metadata": {
        "id": "yznDK60cljGm",
        "colab_type": "code",
        "colab": {}
      },
      "source": [
        "#Since the original model outputs the values from the last dense layer (no final activation), we need to definte the sigmoid function for predicted class conditional probabilities\n",
        "def sigmoid(x):\n",
        "    return 1/(1 + np.exp(-x)) "
      ],
      "execution_count": null,
      "outputs": []
    },
    {
      "cell_type": "code",
      "metadata": {
        "id": "oEWURwAfsLuc",
        "colab_type": "code",
        "colab": {}
      },
      "source": [
        "from PIL import Image, ImageFile\n",
        "\n",
        "ImageFile.LOAD_TRUNCATED_IMAGES = True\n",
        "\n",
        "def classify_tiles(image_directory):\n",
        "    print(\"Classifying tiles\")\n",
        "    #Read images using keras and split into batches\n",
        "    image_generator = tf.keras.preprocessing.image.ImageDataGenerator(rescale=1./255)\n",
        "    data_gen = image_generator.flow_from_directory(directory=image_directory,\n",
        "                                                        batch_size=32,\n",
        "                                                        shuffle=False,\n",
        "                                                        target_size=(256, 256))\n",
        "    #Set up dataframe that will hold classifications\n",
        "    column_names = [\"prediction\",\"p_0\",\"p_1\",\"filename\"]\n",
        "    result_df = pd.DataFrame(columns=column_names)\n",
        "\n",
        "    #predict probabilities from model for the batches\n",
        "    predictions = model.predict(data_gen)\n",
        "\n",
        "    #associate filenames and classification for each prediction\n",
        "    for i,prediction in tqdm(enumerate(predictions)):\n",
        "        result_df.loc[i,\"filename\"] = data_gen.filenames[i]\n",
        "\n",
        "        #calculating predictions \n",
        "        result_df.loc[i,\"p_0\"] = sigmoid(prediction[0])\n",
        "        result_df.loc[i,\"p_1\"] = sigmoid(prediction[1])\n",
        "        \n",
        "        #getting final class prediction\n",
        "        result_df.loc[i,\"prediction\"] = np.argmax(prediction)\n",
        "    \n",
        "    return result_df"
      ],
      "execution_count": null,
      "outputs": []
    },
    {
      "cell_type": "code",
      "metadata": {
        "id": "cQ_oo84eseR7",
        "colab_type": "code",
        "colab": {}
      },
      "source": [
        "def generate_probtiles(result_df):\n",
        "    print(\"Generating tiles for probability plot\")\n",
        "    for index, sample in tqdm(result_df.iterrows()):\n",
        "        #loading original image\n",
        "        original = os.path.abspath(os.path.join(\"images\", sample[\"filename\"]))\n",
        "        img = rasterio.open(original)\n",
        "\n",
        "        #creating new raster mask with pixel values of conditional probability\n",
        "        mask = sample[\"p_0\"] * np.ones(shape=(img.width, img.height))\n",
        "\n",
        "        #saving file output to new file\n",
        "        filename = \"prob_\" + os.path.basename(sample[\"filename\"])\n",
        "        output = os.path.abspath(os.path.join(\"images\", os.path.dirname(sample[\"filename\"]), filename))\n",
        "        #creates new file with projection of past image\n",
        "        with rasterio.open(output,'w',driver='GTiff',height=img.height,width=img.width,count=1,dtype=mask.dtype,crs='+proj=latlong',transform=img.transform,) as dst:dst.write(mask, 1)"
      ],
      "execution_count": null,
      "outputs": []
    },
    {
      "cell_type": "code",
      "metadata": {
        "id": "kvJwFEeSsrFy",
        "colab_type": "code",
        "colab": {}
      },
      "source": [
        "def move_tiles(result_df):\n",
        "    print(\"Moving M/NM Tiles into folders\")\n",
        "    dest_folders = []\n",
        "    #Organize tiles into folders\n",
        "    for index, row in result_df.iterrows():\n",
        "        cur_file = \"/content/images/\" + row['filename']\n",
        "        cur_file = cur_file.replace(\"jpg\",\"tif\",2)\n",
        "        classification = row['prediction'] \n",
        "\n",
        "        #set destination folder, and creates the folder if it doesn't exist\n",
        "        dest_folder = os.path.join(os.path.abspath(image_directory),str(classification))\n",
        "        dest_folders.append(dest_folder)\n",
        "        if os.path.exists(dest_folder) == False:\n",
        "            os.mkdir(dest_folder)\n",
        "        dest = os.path.join(dest_folder,os.path.basename(cur_file))\n",
        "\n",
        "        #moves file\n",
        "        src = cur_file\n",
        "        os.rename(src, dest)"
      ],
      "execution_count": null,
      "outputs": []
    },
    {
      "cell_type": "code",
      "metadata": {
        "id": "Y9iRg8FRlfEJ",
        "colab_type": "code",
        "colab": {}
      },
      "source": [
        "def fix_shp(filename):\n",
        "    shp = geopandas.read_file(filename)\n",
        "    for index, feature in tqdm(shp.iterrows()):\n",
        "        if feature[\"DN\"] == 0:\n",
        "            shp.drop(index, inplace=True)\n",
        "    shp.to_file(filename)\n",
        "    return shp"
      ],
      "execution_count": null,
      "outputs": []
    },
    {
      "cell_type": "code",
      "metadata": {
        "id": "YUzAtpN-fMv6",
        "colab_type": "code",
        "colab": {}
      },
      "source": [
        "def create_files(full_path):\n",
        "    #remove any already existing files in the path\n",
        "\n",
        "    file = os.path.basename(full_path)\n",
        "    folder = os.path.dirname(full_path)\n",
        "    name = os.path.splitext(file)[0]\n",
        "    dest_folder = os.path.join(folder,name+'_classifications/')\n",
        "\n",
        "    mtif_name = 'm_' + name + '.tif'\n",
        "    mshp_name = 'm_' + name + '.shp'\n",
        "\n",
        "    nmtif_name = 'nm_' + name + '.tif'\n",
        "    nmshp_name = 'nm_' + name + '.shp'\n",
        "\n",
        "    ptif_name =  'prob_' + name + '.tif'\n",
        "    #plot_name =  'plot_' + name + '.png'\n",
        "\n",
        "    !mkdir {\"\\\"\" + dest_folder + \"\\\"\"}\n",
        "\n",
        "\n",
        "    print(\"Creating Orthomosaics\")\n",
        "    #recombines classified tiles for each class\n",
        "    !gdal_merge.py -o /content/{nmtif_name} /content/images/1/*\n",
        "    !rm /content/images/1/*.tif\n",
        "    !gdal_polygonize.py /content/{nmtif_name} -f \"ESRI Shapefile\" -b 4 {nmshp_name}\n",
        "    shp = fix_shp(nmshp_name)\n",
        "\n",
        "\n",
        "    #getting filenames and locations\n",
        "    nmtif_name = 'nm_' + name + '.tif'\n",
        "    nmshp_name = 'nm_' + name + '.shp'\n",
        "    nmshx_name = 'nm_' + name + '.shx'\n",
        "    nmdbf_name = 'nm_' + name + '.dbf'\n",
        "    nmprj_name = 'nm_' + name + '.prj'\n",
        "    nmcpg_name = 'nm_' + name + '.cpg'\n",
        "\n",
        "    nmtif_dest = os.path.join(dest_folder, nmtif_name)\n",
        "    nmshp_dest = os.path.join(dest_folder, nmshp_name)\n",
        "    nmshx_dest = os.path.join(dest_folder, nmshx_name)\n",
        "    nmdbf_dest = os.path.join(dest_folder, nmdbf_name)\n",
        "    nmprj_dest = os.path.join(dest_folder, nmprj_name)\n",
        "    nmcpg_dest = os.path.join(dest_folder, nmcpg_name)\n",
        "\n",
        "    print(\"Uploading Non-Mangrove Files\")\n",
        "\n",
        "    #copying over files to the drive\n",
        "    !cp {\"\\\"\" + nmtif_name + \"\\\"\"} {\"\\\"\" + nmtif_dest + \"\\\"\"}\n",
        "    !cp {\"\\\"\" + nmshp_name + \"\\\"\"} {\"\\\"\" + nmshp_dest + \"\\\"\"}\n",
        "    !cp {\"\\\"\" + nmshx_name + \"\\\"\"} {\"\\\"\" + nmshx_dest + \"\\\"\"}\n",
        "    !cp {\"\\\"\" + nmdbf_name + \"\\\"\"} {\"\\\"\" + nmdbf_dest + \"\\\"\"}\n",
        "    !cp {\"\\\"\" + nmprj_name + \"\\\"\"} {\"\\\"\" + nmprj_dest + \"\\\"\"}\n",
        "    !cp {\"\\\"\" + nmcpg_name + \"\\\"\"} {\"\\\"\" + nmcpg_dest + \"\\\"\"}\n",
        "\n",
        "    !rm {nmtif_name}\n",
        "    !rm {nmshp_name}\n",
        "    !rm {nmshx_name}\n",
        "    !rm {nmdbf_name}\n",
        "    !rm {nmprj_name}\n",
        "    !rm {nmcpg_name}\n",
        "\n",
        "\n",
        "    !gdal_merge.py -o /content/{mtif_name} /content/images/0/*\n",
        "    !rm /content/images/0/*.tif\n",
        "    !gdal_polygonize.py /content/{mtif_name} -f \"ESRI Shapefile\" -b 4 {mshp_name}\n",
        "    shp = fix_shp(mshp_name)\n",
        "\n",
        "    mtif_name = 'm_' + name + '.tif'\n",
        "    mshp_name = 'm_' + name + '.shp'\n",
        "    mshx_name = 'm_' + name + '.shx'\n",
        "    mdbf_name = 'm_' + name + '.dbf'\n",
        "    mprj_name = 'm_' + name + '.prj'\n",
        "    mcpg_name = 'm_' + name + '.cpg'\n",
        "\n",
        "    mtif_dest = os.path.join(dest_folder, mtif_name)\n",
        "    mshp_dest = os.path.join(dest_folder, mshp_name)\n",
        "    mshx_dest = os.path.join(dest_folder, mshx_name)\n",
        "    mdbf_dest = os.path.join(dest_folder, mdbf_name)\n",
        "    mprj_dest = os.path.join(dest_folder, mprj_name)\n",
        "    mcpg_dest = os.path.join(dest_folder, mcpg_name)\n",
        "\n",
        "    print(\"Uploading Mangrove Files\")\n",
        "\n",
        "    !cp {\"\\\"\" + mtif_name + \"\\\"\"} {\"\\\"\" + mtif_dest + \"\\\"\"}\n",
        "    !cp {\"\\\"\" + mshp_name + \"\\\"\"} {\"\\\"\" + mshp_dest + \"\\\"\"}\n",
        "    !cp {\"\\\"\" + mshx_name + \"\\\"\"} {\"\\\"\" + mshx_dest + \"\\\"\"}\n",
        "    !cp {\"\\\"\" + mdbf_name + \"\\\"\"} {\"\\\"\" + mdbf_dest + \"\\\"\"}\n",
        "    !cp {\"\\\"\" + mprj_name + \"\\\"\"} {\"\\\"\" + mprj_dest + \"\\\"\"}\n",
        "    !cp {\"\\\"\" + mcpg_name + \"\\\"\"} {\"\\\"\" + mcpg_dest + \"\\\"\"}\n",
        "\n",
        "    !rm {mtif_name}\n",
        "    !rm {mshp_name}\n",
        "    !rm {mshx_name}\n",
        "    !rm {mdbf_name}\n",
        "    !rm {mprj_name}\n",
        "    !rm {mcpg_name}\n",
        "\n",
        "    #probability tiles remain unmoved, so just get all the leftover tiles\n",
        "    !gdal_merge.py -o /content/{ptif_name} /content/images/images/*\n",
        "    !rm -rf /content/images/\n",
        "\n",
        "    \n",
        "    ptif_name =  'prob_' + name + '.tif'\n",
        "    plot_name =  'plot_' + name + '.png'\n",
        "\n",
        "    ptif_dest = os.path.join(dest_folder, ptif_name)\n",
        "\n",
        "    print(\"Uploading Other Files\")\n",
        "\n",
        "    !cp {\"\\\"\" + ptif_name + \"\\\"\"} {\"\\\"\" + ptif_dest + \"\\\"\"}\n",
        "\n",
        "    !rm {ptif_name}\n"
      ],
      "execution_count": null,
      "outputs": []
    },
    {
      "cell_type": "code",
      "metadata": {
        "id": "KPc3zoSTf2I1",
        "colab_type": "code",
        "colab": {}
      },
      "source": [
        "def run(full_path,image_directory):\n",
        "\n",
        "    #removing all files just in case\n",
        "    !rm *.tif\n",
        "    !rm *.png\n",
        "    !rm *.cpg\n",
        "    !rm *.dbf\n",
        "    !rm *.prj\n",
        "    !rm *.shp\n",
        "    !rm *.shx\n",
        "\n",
        "    #clear folder and run all functions for final running\n",
        "    !rm -rf images\n",
        "    retile(full_path)\n",
        "    result_df = classify_tiles(image_directory)\n",
        "    generate_probtiles(result_df)\n",
        "    move_tiles(result_df)\n",
        "    del result_df\n",
        "    create_files(full_path)"
      ],
      "execution_count": null,
      "outputs": []
    },
    {
      "cell_type": "code",
      "metadata": {
        "id": "WmJToFJTjOLL",
        "colab_type": "code",
        "colab": {
          "base_uri": "https://localhost:8080/",
          "height": 69
        },
        "outputId": "985cc345-f84b-4d12-bdf6-015c2a658418"
      },
      "source": [
        "'''\n",
        "#for resetting pkl and db when bugs occur :)\n",
        "\n",
        "stats_pkl = \"/content/drive/Shared drives/SIO and E4E Mangroves /Data/Classification_statistics.pkl\"\n",
        "stats_location = \"/content/drive/Shared drives/SIO and E4E Mangroves /Data/Classification_statistics.xlsx\"\n",
        "\n",
        "#class_stats = pd.read_pickle(stats_pkl)\n",
        "#class_stats = class_stats.iloc[:-27]\n",
        "class_stats = class_stats.drop(41)\n",
        "\n",
        "class_stats.to_excel(stats_location)\n",
        "pd.to_pickle(class_stats, stats_pkl)\n",
        "class_stats\n",
        "'''"
      ],
      "execution_count": null,
      "outputs": [
        {
          "output_type": "execute_result",
          "data": {
            "application/vnd.google.colaboratory.intrinsic+json": {
              "type": "string"
            },
            "text/plain": [
              "'\\n#for resetting pkl and db when bugs occur :)\\n\\nstats_pkl = \"/content/drive/Shared drives/SIO and E4E Mangroves /Data/Classification_statistics.pkl\"\\nstats_location = \"/content/drive/Shared drives/SIO and E4E Mangroves /Data/Classification_statistics.xlsx\"\\n\\n#class_stats = pd.read_pickle(stats_pkl)\\n#class_stats = class_stats.iloc[:-27]\\nclass_stats = class_stats.drop(41)\\n\\nclass_stats.to_excel(stats_location)\\npd.to_pickle(class_stats, stats_pkl)\\nclass_stats\\n'"
            ]
          },
          "metadata": {
            "tags": []
          },
          "execution_count": 59
        }
      ]
    },
    {
      "cell_type": "code",
      "metadata": {
        "id": "9DM9JzUiGifV",
        "colab_type": "code",
        "colab": {
          "base_uri": "https://localhost:8080/",
          "height": 35
        },
        "outputId": "f4d2c50d-4331-447b-a61a-a98d35a986d1"
      },
      "source": [
        "from datetime import datetime\n",
        "str(datetime.now())"
      ],
      "execution_count": null,
      "outputs": [
        {
          "output_type": "execute_result",
          "data": {
            "application/vnd.google.colaboratory.intrinsic+json": {
              "type": "string"
            },
            "text/plain": [
              "'2020-08-13 04:15:40.772139'"
            ]
          },
          "metadata": {
            "tags": []
          },
          "execution_count": 54
        }
      ]
    },
    {
      "cell_type": "code",
      "metadata": {
        "id": "UEXol4SOQULe",
        "colab_type": "code",
        "colab": {}
      },
      "source": [
        "from datetime import datetime\n",
        "\n",
        "columns = [\"filename\",\"filesize (GB)\",\"last_updated\",\"full_path\"]\n",
        "stats_pkl = \"/content/drive/Shared drives/SIO and E4E Mangroves /Data/Classification_statistics.pkl\"\n",
        "\n",
        "if fresh:\n",
        "    class_stats = pd.DataFrame(columns=columns)\n",
        "else:\n",
        "    class_stats = pd.read_pickle(stats_pkl)\n",
        "\n",
        "file_list = []\n",
        "i = 0\n",
        "\n",
        "#populating the classification db with new images (or all of them if a fresh run)\n",
        "for root, dirs, files in os.walk(\"/content/drive/Shared drives/SIO and E4E Mangroves /Data/Orthomosaics/\"):\n",
        "    for file in files:\n",
        "        if not((\"dem\" in file) or (\"DEM\" in file) or (\"downsampled\" in file) or (\"CNN_prob\" in file) or (\"kompsat\" in file) or (\"planetscope\" in file)) and not(file.startswith(\"un_\")) and not(file.endswith(\"CNN_nm.tif\")) and not(file.endswith(\"CNN_m.tif\")) and not(file.startswith(\"prob_\"))  and  (file.endswith(\".tif\")):\n",
        "            if file not in class_stats[\"filename\"].to_list():\n",
        "                full_path = os.path.join(root,file)\n",
        "                file_size = os.path.getsize(full_path)/(1024*1024*1024)\n",
        "                df = pd.DataFrame({\"filename\":file,\"full_path\":full_path,\"filesize (GB)\":file_size}, index=[i] ,columns=columns)\n",
        "                class_stats = class_stats.append(df)\n",
        "            i += 1\n",
        "\n",
        "stats_location = \"/content/drive/Shared drives/SIO and E4E Mangroves /Data/Classification_statistics.xlsx\"\n",
        "\n",
        "for index, row in class_stats.iterrows():\n",
        "    image_directory = \"/content/images\"\n",
        "    full_path = row[\"full_path\"]\n",
        "\n",
        "    if update: \n",
        "        #If the row contains null values, it hasn't been completed before\n",
        "        if row.isnull().values.any():\n",
        "            run(full_path,image_directory)\n",
        "            class_stats.loc[index, \"last_updated\"] = datetime.now()\n",
        "            class_stats.to_excel(stats_location)\n",
        "            pd.to_pickle(class_stats, stats_pkl)\n",
        "        else:\n",
        "            continue\n",
        "    else: \n",
        "        #for fully updating the entire classification database\n",
        "            run(full_path,image_directory)\n",
        "            class_stats.loc[index, \"last_updated\"] = datetime.now()\n",
        "            class_stats.to_excel(stats_location)\n",
        "            pd.to_pickle(class_stats, stats_pkl)\n"
      ],
      "execution_count": null,
      "outputs": []
    },
    {
      "cell_type": "code",
      "metadata": {
        "id": "en2RckWgERsm",
        "colab_type": "code",
        "colab": {
          "base_uri": "https://localhost:8080/",
          "height": 793,
          "referenced_widgets": [
            "b998b7fd4b564140aead88ae5f0d9e96",
            "27445d8adb1f49859d811260d278ac20",
            "29ad0f4becd847449bf332a76e20ede1",
            "99089d5865fa4055b46d6b40360d6d53",
            "489ffac7702b40f5b06472cd824a8026",
            "5a392e59886c468397ec2dec02f0e323",
            "123f15a6bcb04dd59d1b4779e8fc2b22",
            "855a2f68a5b34e6aaa74b634fb54d1e7",
            "a8d43edf30244b04ba369e7c2f44dbed",
            "e8e5d9d42c534478b11cb6f65206ad48",
            "fd3fb663d5d64010bf97cd80f453027d",
            "001662eb23e64277ba088a1ecdfb8551",
            "e30dbc0467f64368b926cdb146c723fd",
            "486cf9ba27764691b76213385871ebc4",
            "fee4cc1c0a18445f916d1350949dc555",
            "19ff0f1c350e4b5495a48f096c0456c3",
            "3cbb8d60aba64cbaa45c87811476d25d",
            "a63bec68d0ec4610886107038e8689c6",
            "34f576f4f80c4f2091bbb008c52fd539",
            "17ba57d0fcb0401990396c3510024cb3",
            "36ced262815241abab094fadb3392706",
            "1e6090af4f484114b442d001a915e2c5",
            "10c02f16e3054434a68ceb33e3ae5d27",
            "69439c020a1a4a4cab4d9bdba002c775"
          ]
        },
        "outputId": "157bca32-3176-4626-a0b8-fc5f37b29330"
      },
      "source": [
        "full_path = \"/content/drive/Shared drives/SIO and E4E Mangroves /Data/Orthomosaics/2019-05 Sian Ka'an Reserve/Site 10/skr_2019-05_site10_flight01_120m_rgb.tif\"\n",
        "image_directory = \"/content/images\"\n",
        "run(full_path,image_directory)\n"
      ],
      "execution_count": null,
      "outputs": [
        {
          "output_type": "stream",
          "text": [
            "rm: cannot remove '*.tif': No such file or directory\n",
            "rm: cannot remove '*.png': No such file or directory\n",
            "rm: cannot remove '*.cpg': No such file or directory\n",
            "rm: cannot remove '*.dbf': No such file or directory\n",
            "rm: cannot remove '*.prj': No such file or directory\n",
            "rm: cannot remove '*.shp': No such file or directory\n",
            "rm: cannot remove '*.shx': No such file or directory\n",
            "Downloading skr_2019-05_site10_flight01_120m_rgb.tif\n",
            "Retiling skr_2019-05_site10_flight01_120m_rgb.tif\n",
            "0...10...20...30...40...50...60...70...80...90...100 - done.\n"
          ],
          "name": "stdout"
        },
        {
          "output_type": "display_data",
          "data": {
            "application/vnd.jupyter.widget-view+json": {
              "model_id": "b998b7fd4b564140aead88ae5f0d9e96",
              "version_minor": 0,
              "version_major": 2
            },
            "text/plain": [
              "HBox(children=(FloatProgress(value=0.0, max=8288.0), HTML(value='')))"
            ]
          },
          "metadata": {
            "tags": []
          }
        },
        {
          "output_type": "stream",
          "text": [
            "\n",
            "Classifying tiles\n",
            "Found 3880 images belonging to 1 classes.\n"
          ],
          "name": "stdout"
        },
        {
          "output_type": "display_data",
          "data": {
            "application/vnd.jupyter.widget-view+json": {
              "model_id": "a8d43edf30244b04ba369e7c2f44dbed",
              "version_minor": 0,
              "version_major": 2
            },
            "text/plain": [
              "HBox(children=(FloatProgress(value=1.0, bar_style='info', max=1.0), HTML(value='')))"
            ]
          },
          "metadata": {
            "tags": []
          }
        },
        {
          "output_type": "stream",
          "text": [
            "\n",
            "Generating tiles for probability plot\n"
          ],
          "name": "stdout"
        },
        {
          "output_type": "display_data",
          "data": {
            "application/vnd.jupyter.widget-view+json": {
              "model_id": "3cbb8d60aba64cbaa45c87811476d25d",
              "version_minor": 0,
              "version_major": 2
            },
            "text/plain": [
              "HBox(children=(FloatProgress(value=1.0, bar_style='info', max=1.0), HTML(value='')))"
            ]
          },
          "metadata": {
            "tags": []
          }
        },
        {
          "output_type": "stream",
          "text": [
            "\n",
            "Moving M/NM Tiles into folders\n",
            "Creating Orthomosaics\n",
            "0...10...20...30...40...50...60...70...80...90...100 - done.\n",
            "Creating output nm_skr_2019-05_site10_flight01_120m_rgb.shp of format ESRI Shapefile.\n",
            "0...10...20...30...40...50...60...70...80...90...100 - done.\n"
          ],
          "name": "stdout"
        },
        {
          "output_type": "error",
          "ename": "NameError",
          "evalue": "ignored",
          "traceback": [
            "\u001b[0;31m---------------------------------------------------------------------------\u001b[0m",
            "\u001b[0;31mNameError\u001b[0m                                 Traceback (most recent call last)",
            "\u001b[0;32m<ipython-input-72-93d19bac98a5>\u001b[0m in \u001b[0;36m<module>\u001b[0;34m()\u001b[0m\n\u001b[1;32m      1\u001b[0m \u001b[0mfull_path\u001b[0m \u001b[0;34m=\u001b[0m \u001b[0;34m\"/content/drive/Shared drives/SIO and E4E Mangroves /Data/Orthomosaics/2019-05 Sian Ka'an Reserve/Site 10/skr_2019-05_site10_flight01_120m_rgb.tif\"\u001b[0m\u001b[0;34m\u001b[0m\u001b[0;34m\u001b[0m\u001b[0m\n\u001b[1;32m      2\u001b[0m \u001b[0mimage_directory\u001b[0m \u001b[0;34m=\u001b[0m \u001b[0;34m\"/content/images\"\u001b[0m\u001b[0;34m\u001b[0m\u001b[0;34m\u001b[0m\u001b[0m\n\u001b[0;32m----> 3\u001b[0;31m \u001b[0mrun\u001b[0m\u001b[0;34m(\u001b[0m\u001b[0mfull_path\u001b[0m\u001b[0;34m,\u001b[0m\u001b[0mimage_directory\u001b[0m\u001b[0;34m)\u001b[0m\u001b[0;34m\u001b[0m\u001b[0;34m\u001b[0m\u001b[0m\n\u001b[0m",
            "\u001b[0;32m<ipython-input-52-f9ab9ffe0b4c>\u001b[0m in \u001b[0;36mrun\u001b[0;34m(full_path, image_directory)\u001b[0m\n\u001b[1;32m     17\u001b[0m     \u001b[0mmove_tiles\u001b[0m\u001b[0;34m(\u001b[0m\u001b[0mresult_df\u001b[0m\u001b[0;34m)\u001b[0m\u001b[0;34m\u001b[0m\u001b[0;34m\u001b[0m\u001b[0m\n\u001b[1;32m     18\u001b[0m     \u001b[0;32mdel\u001b[0m \u001b[0mresult_df\u001b[0m\u001b[0;34m\u001b[0m\u001b[0;34m\u001b[0m\u001b[0m\n\u001b[0;32m---> 19\u001b[0;31m     \u001b[0mcreate_files\u001b[0m\u001b[0;34m(\u001b[0m\u001b[0mfull_path\u001b[0m\u001b[0;34m)\u001b[0m\u001b[0;34m\u001b[0m\u001b[0;34m\u001b[0m\u001b[0m\n\u001b[0m",
            "\u001b[0;32m<ipython-input-51-037d581e6b17>\u001b[0m in \u001b[0;36mcreate_files\u001b[0;34m(full_path)\u001b[0m\n\u001b[1;32m     24\u001b[0m     \u001b[0mget_ipython\u001b[0m\u001b[0;34m(\u001b[0m\u001b[0;34m)\u001b[0m\u001b[0;34m.\u001b[0m\u001b[0msystem\u001b[0m\u001b[0;34m(\u001b[0m\u001b[0;34m'rm /content/images/1/*.tif'\u001b[0m\u001b[0;34m)\u001b[0m\u001b[0;34m\u001b[0m\u001b[0;34m\u001b[0m\u001b[0m\n\u001b[1;32m     25\u001b[0m     \u001b[0mget_ipython\u001b[0m\u001b[0;34m(\u001b[0m\u001b[0;34m)\u001b[0m\u001b[0;34m.\u001b[0m\u001b[0msystem\u001b[0m\u001b[0;34m(\u001b[0m\u001b[0;34m'gdal_polygonize.py /content/{nmtif_name} -f \"ESRI Shapefile\" -b 4 {nmshp_name}'\u001b[0m\u001b[0;34m)\u001b[0m\u001b[0;34m\u001b[0m\u001b[0;34m\u001b[0m\u001b[0m\n\u001b[0;32m---> 26\u001b[0;31m     \u001b[0mshp\u001b[0m \u001b[0;34m=\u001b[0m \u001b[0mfix_shp\u001b[0m\u001b[0;34m(\u001b[0m\u001b[0mnshp_name\u001b[0m\u001b[0;34m)\u001b[0m\u001b[0;34m\u001b[0m\u001b[0;34m\u001b[0m\u001b[0m\n\u001b[0m\u001b[1;32m     27\u001b[0m \u001b[0;34m\u001b[0m\u001b[0m\n\u001b[1;32m     28\u001b[0m \u001b[0;34m\u001b[0m\u001b[0m\n",
            "\u001b[0;31mNameError\u001b[0m: name 'nshp_name' is not defined"
          ]
        }
      ]
    }
  ]
}