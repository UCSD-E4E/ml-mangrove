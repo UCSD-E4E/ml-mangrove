{
  "nbformat": 4,
  "nbformat_minor": 0,
  "metadata": {
    "colab": {
      "name": "retrain_tf2nb.ipynb",
      "provenance": [],
      "machine_shape": "hm"
    },
    "kernelspec": {
      "name": "python3",
      "display_name": "Python 3"
    },
    "accelerator": "GPU"
  },
  "cells": [
    {
      "cell_type": "code",
      "metadata": {
        "id": "hZ8ebjvhrpG3",
        "colab_type": "code",
        "colab": {
          "base_uri": "https://localhost:8080/",
          "height": 119
        },
        "outputId": "a20c6bc6-142a-4583-a4e4-7174bf8bb123"
      },
      "source": [
        "import itertools\n",
        "import os\n",
        "\n",
        "import matplotlib.pylab as plt\n",
        "import numpy as np\n",
        "\n",
        "import tensorflow as tf\n",
        "import tensorflow_hub as hub\n",
        "\n",
        "print(\"TF version:\", tf.__version__)\n",
        "print(\"Hub version:\", hub.__version__)\n",
        "print(\"GPU is\", \"available\" if tf.test.is_gpu_available() else \"NOT AVAILABLE\")"
      ],
      "execution_count": null,
      "outputs": [
        {
          "output_type": "stream",
          "text": [
            "TF version: 2.2.0\n",
            "Hub version: 0.8.0\n",
            "WARNING:tensorflow:From <ipython-input-1-0831fa394ed3>:12: is_gpu_available (from tensorflow.python.framework.test_util) is deprecated and will be removed in a future version.\n",
            "Instructions for updating:\n",
            "Use `tf.config.list_physical_devices('GPU')` instead.\n",
            "GPU is available\n"
          ],
          "name": "stdout"
        }
      ]
    },
    {
      "cell_type": "code",
      "metadata": {
        "id": "6_BDkfHMrrtG",
        "colab_type": "code",
        "colab": {}
      },
      "source": [
        "from google.colab import drive\n",
        "drive.mount('/content/drive')"
      ],
      "execution_count": null,
      "outputs": []
    },
    {
      "cell_type": "code",
      "metadata": {
        "id": "pgDBZbjjtEhP",
        "colab_type": "code",
        "colab": {}
      },
      "source": [
        "#Loading model parameters\n",
        "MODULE_HANDLE = \"https://tfhub.dev/google/remote_sensing/uc_merced-resnet50/1\"\n",
        "IMAGE_SIZE = (256, 256)\n",
        "print(\"Using {} with input size {}\".format(MODULE_HANDLE, IMAGE_SIZE))\n",
        "BATCH_SIZE = 32 "
      ],
      "execution_count": null,
      "outputs": []
    },
    {
      "cell_type": "code",
      "metadata": {
        "id": "AzuYl933sA5a",
        "colab_type": "code",
        "colab": {}
      },
      "source": [
        "#loading training data\n",
        "!cp \"/content/drive/Shared drives/SIO and E4E Mangroves /Data/Machine Learning/Training Images/MVNMv4_ jpg.zip\" .\n",
        "!unzip \"/content/MVNMv4_ jpg.zip\""
      ],
      "execution_count": null,
      "outputs": []
    },
    {
      "cell_type": "code",
      "metadata": {
        "id": "c45bNRIRufOx",
        "colab_type": "code",
        "colab": {}
      },
      "source": [
        "#setting up file strucutre\n",
        "!mkdir images\n",
        "!mkdir images/mangrove\n",
        "!mkdir images/nonmangrove \n",
        "!mv mangrove/* images/mangrove/\n",
        "!mv nonmangrove/* images/nonmangrove/"
      ],
      "execution_count": null,
      "outputs": []
    },
    {
      "cell_type": "code",
      "metadata": {
        "id": "wpV-f2jJsWic",
        "colab_type": "code",
        "colab": {}
      },
      "source": [
        "\n",
        "data_dir = '/content/images/'\n",
        "\n",
        "#arguments for datageneration and flow\n",
        "datagen_kwargs = dict(rescale=1./255, validation_split=.20)\n",
        "dataflow_kwargs = dict(target_size=IMAGE_SIZE, batch_size=BATCH_SIZE,\n",
        "                   interpolation=\"bilinear\")\n",
        "\n",
        "#setting up keras data generators\n",
        "valid_datagen = tf.keras.preprocessing.image.ImageDataGenerator(\n",
        "    **datagen_kwargs)\n",
        "valid_generator = valid_datagen.flow_from_directory(\n",
        "    data_dir, subset=\"validation\", shuffle=False, **dataflow_kwargs)\n",
        "\n",
        "do_data_augmentation = True #@param {type:\"boolean\"}\n",
        "if do_data_augmentation:\n",
        "  train_datagen = tf.keras.preprocessing.image.ImageDataGenerator(\n",
        "      brightness_range=[0.6,1.0],rotation_range=40,\n",
        "      horizontal_flip=True,\n",
        "      width_shift_range=0.2, height_shift_range=0.2,\n",
        "      shear_range=0.2, zoom_range=0.2,\n",
        "      **datagen_kwargs)\n",
        "else:\n",
        "  train_datagen = valid_datagen\n",
        "train_generator = train_datagen.flow_from_directory(\n",
        "    data_dir, subset=\"training\", shuffle=True, **dataflow_kwargs)"
      ],
      "execution_count": null,
      "outputs": []
    },
    {
      "cell_type": "code",
      "metadata": {
        "id": "Z6DOivTXsdFg",
        "colab_type": "code",
        "colab": {}
      },
      "source": [
        "do_fine_tuning = False #@param {type:\"boolean\"}"
      ],
      "execution_count": null,
      "outputs": []
    },
    {
      "cell_type": "code",
      "metadata": {
        "id": "pUCGefmPsdhG",
        "colab_type": "code",
        "colab": {
          "base_uri": "https://localhost:8080/",
          "height": 394
        },
        "outputId": "183e434f-52b3-4076-8e09-63d26cb62764"
      },
      "source": [
        "print(\"Building model with\", MODULE_HANDLE)\n",
        "model = tf.keras.Sequential([\n",
        "    tf.keras.layers.InputLayer(input_shape=IMAGE_SIZE + (3,)),\n",
        "    hub.KerasLayer(MODULE_HANDLE, trainable=do_fine_tuning),\n",
        "    tf.keras.layers.Dropout(rate=0.2),\n",
        "    tf.keras.layers.Dense(train_generator.num_classes,\n",
        "                          kernel_regularizer=tf.keras.regularizers.l2(0.0001))\n",
        "])\n",
        "model.build((None,)+IMAGE_SIZE+(3,))\n",
        "model.summary()"
      ],
      "execution_count": null,
      "outputs": [
        {
          "output_type": "stream",
          "text": [
            "Building model with https://tfhub.dev/google/remote_sensing/uc_merced-resnet50/1\n",
            "WARNING:tensorflow:From /usr/local/lib/python3.6/dist-packages/tensorflow/python/ops/resource_variable_ops.py:1817: calling BaseResourceVariable.__init__ (from tensorflow.python.ops.resource_variable_ops) with constraint is deprecated and will be removed in a future version.\n",
            "Instructions for updating:\n",
            "If using Keras pass *_constraint arguments to layers.\n"
          ],
          "name": "stdout"
        },
        {
          "output_type": "stream",
          "text": [
            "WARNING:tensorflow:From /usr/local/lib/python3.6/dist-packages/tensorflow/python/ops/resource_variable_ops.py:1817: calling BaseResourceVariable.__init__ (from tensorflow.python.ops.resource_variable_ops) with constraint is deprecated and will be removed in a future version.\n",
            "Instructions for updating:\n",
            "If using Keras pass *_constraint arguments to layers.\n"
          ],
          "name": "stderr"
        },
        {
          "output_type": "stream",
          "text": [
            "Model: \"sequential\"\n",
            "_________________________________________________________________\n",
            "Layer (type)                 Output Shape              Param #   \n",
            "=================================================================\n",
            "keras_layer (KerasLayer)     (None, 2048)              23588821  \n",
            "_________________________________________________________________\n",
            "dropout (Dropout)            (None, 2048)              0         \n",
            "_________________________________________________________________\n",
            "dense (Dense)                (None, 2)                 4098      \n",
            "=================================================================\n",
            "Total params: 23,592,919\n",
            "Trainable params: 4,098\n",
            "Non-trainable params: 23,588,821\n",
            "_________________________________________________________________\n"
          ],
          "name": "stdout"
        }
      ]
    },
    {
      "cell_type": "code",
      "metadata": {
        "id": "2977CoD2sqX-",
        "colab_type": "code",
        "colab": {}
      },
      "source": [
        "model.compile(\n",
        "  optimizer=tf.keras.optimizers.Adam(learning_rate=0.001), \n",
        "  loss=tf.keras.losses.CategoricalCrossentropy(from_logits=True, label_smoothing=0.1),\n",
        "  metrics=['accuracy'])"
      ],
      "execution_count": null,
      "outputs": []
    },
    {
      "cell_type": "code",
      "metadata": {
        "id": "-n6b4edPsr6a",
        "colab_type": "code",
        "colab": {
          "base_uri": "https://localhost:8080/",
          "height": 357
        },
        "outputId": "7a043316-dc1e-434c-a665-0490051e9408"
      },
      "source": [
        "steps_per_epoch = train_generator.samples // train_generator.batch_size\n",
        "validation_steps = valid_generator.samples // valid_generator.batch_size\n",
        "hist = model.fit(\n",
        "    train_generator,\n",
        "    epochs=10, steps_per_epoch=steps_per_epoch,\n",
        "    validation_data=valid_generator,\n",
        "    validation_steps=validation_steps).history\n"
      ],
      "execution_count": null,
      "outputs": [
        {
          "output_type": "stream",
          "text": [
            "Epoch 1/10\n",
            "1228/1228 [==============================] - 195s 159ms/step - loss: 0.2637 - accuracy: 0.9760 - val_loss: 0.3103 - val_accuracy: 0.9384\n",
            "Epoch 2/10\n",
            "1228/1228 [==============================] - 192s 156ms/step - loss: 0.2618 - accuracy: 0.9773 - val_loss: 0.3113 - val_accuracy: 0.9362\n",
            "Epoch 3/10\n",
            "1228/1228 [==============================] - 192s 156ms/step - loss: 0.2628 - accuracy: 0.9767 - val_loss: 0.3746 - val_accuracy: 0.9074\n",
            "Epoch 4/10\n",
            "1228/1228 [==============================] - 192s 156ms/step - loss: 0.2639 - accuracy: 0.9759 - val_loss: 0.3328 - val_accuracy: 0.9275\n",
            "Epoch 5/10\n",
            "1228/1228 [==============================] - 191s 156ms/step - loss: 0.2629 - accuracy: 0.9761 - val_loss: 0.3180 - val_accuracy: 0.9362\n",
            "Epoch 6/10\n",
            "1228/1228 [==============================] - 191s 156ms/step - loss: 0.2641 - accuracy: 0.9755 - val_loss: 0.3078 - val_accuracy: 0.9398\n",
            "Epoch 7/10\n",
            "1228/1228 [==============================] - 193s 157ms/step - loss: 0.2629 - accuracy: 0.9769 - val_loss: 0.3400 - val_accuracy: 0.9297\n",
            "Epoch 8/10\n",
            "1228/1228 [==============================] - 192s 157ms/step - loss: 0.2634 - accuracy: 0.9759 - val_loss: 0.2881 - val_accuracy: 0.9524\n",
            "Epoch 9/10\n",
            "1228/1228 [==============================] - 192s 156ms/step - loss: 0.2643 - accuracy: 0.9755 - val_loss: 0.2961 - val_accuracy: 0.9483\n",
            "Epoch 10/10\n",
            "1228/1228 [==============================] - 192s 157ms/step - loss: 0.2626 - accuracy: 0.9765 - val_loss: 0.3172 - val_accuracy: 0.9367\n"
          ],
          "name": "stdout"
        }
      ]
    },
    {
      "cell_type": "code",
      "metadata": {
        "id": "LH6wwjvmst5k",
        "colab_type": "code",
        "colab": {
          "base_uri": "https://localhost:8080/",
          "height": 566
        },
        "outputId": "14485868-abb3-4a6c-e0c1-3ab7b1147633"
      },
      "source": [
        "\n",
        "plt.figure()\n",
        "plt.ylabel(\"Loss (training and validation)\")\n",
        "plt.xlabel(\"Training Steps\")\n",
        "plt.ylim([0,2])\n",
        "plt.plot(hist[\"loss\"])\n",
        "plt.plot(hist[\"val_loss\"])\n",
        "\n",
        "plt.figure()\n",
        "plt.ylabel(\"Accuracy (training and validation)\")\n",
        "plt.xlabel(\"Training Steps\")\n",
        "plt.ylim([0,1])\n",
        "plt.plot(hist[\"accuracy\"])\n",
        "plt.plot(hist[\"val_accuracy\"])"
      ],
      "execution_count": null,
      "outputs": [
        {
          "output_type": "execute_result",
          "data": {
            "text/plain": [
              "[<matplotlib.lines.Line2D at 0x7f2c6df62cf8>]"
            ]
          },
          "metadata": {
            "tags": []
          },
          "execution_count": 19
        },
        {
          "output_type": "display_data",
          "data": {
            "image/png": "[encoded data removed]",
            "text/plain": [
              "<Figure size 432x288 with 1 Axes>"
            ]
          },
          "metadata": {
            "tags": [],
            "needs_background": "light"
          }
        },
        {
          "output_type": "display_data",
          "data": {
            "image/png": "[encoded data removed]",
            "text/plain": [
              "<Figure size 432x288 with 1 Axes>"
            ]
          },
          "metadata": {
            "tags": [],
            "needs_background": "light"
          }
        }
      ]
    },
    {
      "cell_type": "code",
      "metadata": {
        "id": "IogxmtoKsyeC",
        "colab_type": "code",
        "colab": {
          "base_uri": "https://localhost:8080/",
          "height": 170
        },
        "outputId": "11b51728-ef7e-4884-bd7c-4305f4b1e8e8"
      },
      "source": [
        "saved_model_path = \"mvnmv4_merced\"\n",
        "model.save(saved_model_path)\n",
        "!zip -r mvnmv4_merced_bright.zip mvnmv4_merced/"
      ],
      "execution_count": null,
      "outputs": [
        {
          "output_type": "stream",
          "text": [
            "INFO:tensorflow:Assets written to: mvnmv4_merced/assets\n"
          ],
          "name": "stdout"
        },
        {
          "output_type": "stream",
          "text": [
            "INFO:tensorflow:Assets written to: mvnmv4_merced/assets\n"
          ],
          "name": "stderr"
        },
        {
          "output_type": "stream",
          "text": [
            "updating: mvnmv4_merced/ (stored 0%)\n",
            "updating: mvnmv4_merced/assets/ (stored 0%)\n",
            "updating: mvnmv4_merced/variables/ (stored 0%)\n",
            "updating: mvnmv4_merced/variables/variables.index (deflated 82%)\n",
            "updating: mvnmv4_merced/variables/variables.data-00001-of-00002 (deflated 7%)\n",
            "updating: mvnmv4_merced/variables/variables.data-00000-of-00002 (deflated 90%)\n",
            "updating: mvnmv4_merced/saved_model.pb (deflated 91%)\n"
          ],
          "name": "stdout"
        }
      ]
    },
    {
      "cell_type": "code",
      "metadata": {
        "id": "B-5WknvRzpgv",
        "colab_type": "code",
        "colab": {}
      },
      "source": [
        "!cp \"mvnmv4_merced_bright.zip\" \"/content/drive/Shared drives/SIO and E4E Mangroves /Data/Machine Learning/Models/mvnmv4_merced_bright.zip\"\n"
      ],
      "execution_count": null,
      "outputs": []
    }
  ]
}